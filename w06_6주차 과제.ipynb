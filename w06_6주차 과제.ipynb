{
  "nbformat": 4,
  "nbformat_minor": 0,
  "metadata": {
    "colab": {
      "provenance": [],
      "authorship_tag": "ABX9TyNWF7AudYmkL42aDHNXYoNr",
      "include_colab_link": true
    },
    "kernelspec": {
      "name": "python3",
      "display_name": "Python 3"
    },
    "language_info": {
      "name": "python"
    }
  },
  "cells": [
    {
      "cell_type": "markdown",
      "metadata": {
        "id": "view-in-github",
        "colab_type": "text"
      },
      "source": [
        "<a href=\"https://colab.research.google.com/github/kikimiya0606/2024-intro-DA-code/blob/main/w6%20%EA%B3%BC%EC%A0%9C.ipynb\" target=\"_parent\"><img src=\"https://colab.research.google.com/assets/colab-badge.svg\" alt=\"Open In Colab\"/></a>"
      ]
    },
    {
      "cell_type": "code",
      "execution_count": null,
      "metadata": {
        "colab": {
          "base_uri": "https://localhost:8080/"
        },
        "id": "mQ7_v_ExKWCD",
        "outputId": "5bd85aa1-5e96-4a16-d37f-43aa27b96558"
      },
      "outputs": [
        {
          "output_type": "execute_result",
          "data": {
            "text/plain": [
              "array([0., 1., 2., 3., 4., 5., 6., 7., 8.])"
            ]
          },
          "metadata": {},
          "execution_count": 1
        }
      ],
      "source": [
        "import numpy as np\n",
        "\n",
        "x = np.arange(9.0)\n",
        "x"
      ]
    },
    {
      "cell_type": "code",
      "source": [
        "s = np.split (x, 3)\n",
        "s"
      ],
      "metadata": {
        "colab": {
          "base_uri": "https://localhost:8080/"
        },
        "id": "SNPKKorxKcuT",
        "outputId": "0edaae40-515f-4ce5-9970-2d0a68f3bc7b"
      },
      "execution_count": null,
      "outputs": [
        {
          "output_type": "execute_result",
          "data": {
            "text/plain": [
              "[array([0., 1., 2.]), array([3., 4., 5.]), array([6., 7., 8.])]"
            ]
          },
          "metadata": {},
          "execution_count": 2
        }
      ]
    },
    {
      "cell_type": "code",
      "source": [
        "print(type(s))\n",
        "print(s[0])"
      ],
      "metadata": {
        "colab": {
          "base_uri": "https://localhost:8080/"
        },
        "id": "PZIh_HIYKjBA",
        "outputId": "6606467c-5d1c-434f-c6c2-deb798d52f8d"
      },
      "execution_count": null,
      "outputs": [
        {
          "output_type": "stream",
          "name": "stdout",
          "text": [
            "<class 'list'>\n",
            "[0. 1. 2.]\n"
          ]
        }
      ]
    },
    {
      "cell_type": "code",
      "source": [
        "np.split (x, 4)"
      ],
      "metadata": {
        "colab": {
          "base_uri": "https://localhost:8080/",
          "height": 272
        },
        "id": "xyMUrPtKKm_N",
        "outputId": "e0370208-d0c0-4227-c665-451963e6ba35"
      },
      "execution_count": null,
      "outputs": [
        {
          "output_type": "error",
          "ename": "ValueError",
          "evalue": "array split does not result in an equal division",
          "traceback": [
            "\u001b[0;31m---------------------------------------------------------------------------\u001b[0m",
            "\u001b[0;31mValueError\u001b[0m                                Traceback (most recent call last)",
            "\u001b[0;32m<ipython-input-4-74b6b3c3d76e>\u001b[0m in \u001b[0;36m<cell line: 1>\u001b[0;34m()\u001b[0m\n\u001b[0;32m----> 1\u001b[0;31m \u001b[0mnp\u001b[0m\u001b[0;34m.\u001b[0m\u001b[0msplit\u001b[0m \u001b[0;34m(\u001b[0m\u001b[0mx\u001b[0m\u001b[0;34m,\u001b[0m \u001b[0;36m4\u001b[0m\u001b[0;34m)\u001b[0m\u001b[0;34m\u001b[0m\u001b[0;34m\u001b[0m\u001b[0m\n\u001b[0m",
            "\u001b[0;32m/usr/local/lib/python3.10/dist-packages/numpy/lib/shape_base.py\u001b[0m in \u001b[0;36msplit\u001b[0;34m(ary, indices_or_sections, axis)\u001b[0m\n\u001b[1;32m    862\u001b[0m         \u001b[0mN\u001b[0m \u001b[0;34m=\u001b[0m \u001b[0mary\u001b[0m\u001b[0;34m.\u001b[0m\u001b[0mshape\u001b[0m\u001b[0;34m[\u001b[0m\u001b[0maxis\u001b[0m\u001b[0;34m]\u001b[0m\u001b[0;34m\u001b[0m\u001b[0;34m\u001b[0m\u001b[0m\n\u001b[1;32m    863\u001b[0m         \u001b[0;32mif\u001b[0m \u001b[0mN\u001b[0m \u001b[0;34m%\u001b[0m \u001b[0msections\u001b[0m\u001b[0;34m:\u001b[0m\u001b[0;34m\u001b[0m\u001b[0;34m\u001b[0m\u001b[0m\n\u001b[0;32m--> 864\u001b[0;31m             raise ValueError(\n\u001b[0m\u001b[1;32m    865\u001b[0m                 'array split does not result in an equal division') from None\n\u001b[1;32m    866\u001b[0m     \u001b[0;32mreturn\u001b[0m \u001b[0marray_split\u001b[0m\u001b[0;34m(\u001b[0m\u001b[0mary\u001b[0m\u001b[0;34m,\u001b[0m \u001b[0mindices_or_sections\u001b[0m\u001b[0;34m,\u001b[0m \u001b[0maxis\u001b[0m\u001b[0;34m)\u001b[0m\u001b[0;34m\u001b[0m\u001b[0;34m\u001b[0m\u001b[0m\n",
            "\u001b[0;31mValueError\u001b[0m: array split does not result in an equal division"
          ]
        }
      ]
    },
    {
      "cell_type": "code",
      "source": [
        "x = np.arange(1, 10)\n",
        "x"
      ],
      "metadata": {
        "colab": {
          "base_uri": "https://localhost:8080/"
        },
        "id": "H--LOkR-KrfW",
        "outputId": "30ba83fb-3c5f-4b60-f15b-4b3c2658d185"
      },
      "execution_count": null,
      "outputs": [
        {
          "output_type": "execute_result",
          "data": {
            "text/plain": [
              "array([1, 2, 3, 4, 5, 6, 7, 8, 9])"
            ]
          },
          "metadata": {},
          "execution_count": 5
        }
      ]
    },
    {
      "cell_type": "code",
      "source": [
        "np.split (x, [2, 6])\n",
        "[array([1, 2]), array([3, 4, 5, 6]), array([7, 8, 9])]"
      ],
      "metadata": {
        "colab": {
          "base_uri": "https://localhost:8080/",
          "height": 164
        },
        "id": "3yX93zK5Ku1z",
        "outputId": "175d66a0-8ff2-4fb2-8613-9184a932df7f"
      },
      "execution_count": null,
      "outputs": [
        {
          "output_type": "error",
          "ename": "NameError",
          "evalue": "name 'array' is not defined",
          "traceback": [
            "\u001b[0;31m---------------------------------------------------------------------------\u001b[0m",
            "\u001b[0;31mNameError\u001b[0m                                 Traceback (most recent call last)",
            "\u001b[0;32m<ipython-input-8-63339cc24f46>\u001b[0m in \u001b[0;36m<cell line: 2>\u001b[0;34m()\u001b[0m\n\u001b[1;32m      1\u001b[0m \u001b[0mnp\u001b[0m\u001b[0;34m.\u001b[0m\u001b[0msplit\u001b[0m \u001b[0;34m(\u001b[0m\u001b[0mx\u001b[0m\u001b[0;34m,\u001b[0m \u001b[0;34m[\u001b[0m\u001b[0;36m2\u001b[0m\u001b[0;34m,\u001b[0m \u001b[0;36m6\u001b[0m\u001b[0;34m]\u001b[0m\u001b[0;34m)\u001b[0m\u001b[0;34m\u001b[0m\u001b[0;34m\u001b[0m\u001b[0m\n\u001b[0;32m----> 2\u001b[0;31m \u001b[0;34m[\u001b[0m\u001b[0marray\u001b[0m\u001b[0;34m(\u001b[0m\u001b[0;34m[\u001b[0m\u001b[0;36m1\u001b[0m\u001b[0;34m,\u001b[0m \u001b[0;36m2\u001b[0m\u001b[0;34m]\u001b[0m\u001b[0;34m)\u001b[0m\u001b[0;34m,\u001b[0m \u001b[0marray\u001b[0m\u001b[0;34m(\u001b[0m\u001b[0;34m[\u001b[0m\u001b[0;36m3\u001b[0m\u001b[0;34m,\u001b[0m \u001b[0;36m4\u001b[0m\u001b[0;34m,\u001b[0m \u001b[0;36m5\u001b[0m\u001b[0;34m,\u001b[0m \u001b[0;36m6\u001b[0m\u001b[0;34m]\u001b[0m\u001b[0;34m)\u001b[0m\u001b[0;34m,\u001b[0m \u001b[0marray\u001b[0m\u001b[0;34m(\u001b[0m\u001b[0;34m[\u001b[0m\u001b[0;36m7\u001b[0m\u001b[0;34m,\u001b[0m \u001b[0;36m8\u001b[0m\u001b[0;34m,\u001b[0m \u001b[0;36m9\u001b[0m\u001b[0;34m]\u001b[0m\u001b[0;34m)\u001b[0m\u001b[0;34m]\u001b[0m\u001b[0;34m\u001b[0m\u001b[0;34m\u001b[0m\u001b[0m\n\u001b[0m",
            "\u001b[0;31mNameError\u001b[0m: name 'array' is not defined"
          ]
        }
      ]
    },
    {
      "cell_type": "code",
      "source": [
        "y = np.arange (10, 61, 10)\n",
        "y"
      ],
      "metadata": {
        "colab": {
          "base_uri": "https://localhost:8080/"
        },
        "id": "ujsG22wuK8_3",
        "outputId": "10b1299c-550d-4ddb-fb3b-5e9e1a2d9049"
      },
      "execution_count": null,
      "outputs": [
        {
          "output_type": "execute_result",
          "data": {
            "text/plain": [
              "array([10, 20, 30, 40, 50, 60])"
            ]
          },
          "metadata": {},
          "execution_count": 9
        }
      ]
    },
    {
      "cell_type": "code",
      "source": [
        "np.split (y, [2, 3, 4])"
      ],
      "metadata": {
        "colab": {
          "base_uri": "https://localhost:8080/"
        },
        "id": "afYvAPBoLSBa",
        "outputId": "82ee699b-d7ad-4f3f-e714-6889f84a57c2"
      },
      "execution_count": null,
      "outputs": [
        {
          "output_type": "execute_result",
          "data": {
            "text/plain": [
              "[array([10, 20]), array([30]), array([40]), array([50, 60])]"
            ]
          },
          "metadata": {},
          "execution_count": 10
        }
      ]
    },
    {
      "cell_type": "code",
      "source": [
        "np.split (y, [2, 3, 4, 6])"
      ],
      "metadata": {
        "colab": {
          "base_uri": "https://localhost:8080/"
        },
        "id": "k07n1FriLadL",
        "outputId": "4b02253d-55bd-4187-dfc3-3818a9ffdc51"
      },
      "execution_count": null,
      "outputs": [
        {
          "output_type": "execute_result",
          "data": {
            "text/plain": [
              "[array([10, 20]),\n",
              " array([30]),\n",
              " array([40]),\n",
              " array([50, 60]),\n",
              " array([], dtype=int64)]"
            ]
          },
          "metadata": {},
          "execution_count": 11
        }
      ]
    },
    {
      "cell_type": "code",
      "source": [
        "y [4:6]"
      ],
      "metadata": {
        "colab": {
          "base_uri": "https://localhost:8080/"
        },
        "id": "KtGSYPvPLe1N",
        "outputId": "5355723e-e87b-4fa7-ca1e-3a9f70ccdc5c"
      },
      "execution_count": null,
      "outputs": [
        {
          "output_type": "execute_result",
          "data": {
            "text/plain": [
              "array([50, 60])"
            ]
          },
          "metadata": {},
          "execution_count": 12
        }
      ]
    },
    {
      "cell_type": "code",
      "source": [
        "a = np.arange (24).reshape(2, 12)\n",
        "a"
      ],
      "metadata": {
        "colab": {
          "base_uri": "https://localhost:8080/"
        },
        "id": "g2tpBvIDLibg",
        "outputId": "11ad6289-7f36-4b08-9e88-9d9054d59310"
      },
      "execution_count": null,
      "outputs": [
        {
          "output_type": "execute_result",
          "data": {
            "text/plain": [
              "array([[ 0,  1,  2,  3,  4,  5,  6,  7,  8,  9, 10, 11],\n",
              "       [12, 13, 14, 15, 16, 17, 18, 19, 20, 21, 22, 23]])"
            ]
          },
          "metadata": {},
          "execution_count": 13
        }
      ]
    },
    {
      "cell_type": "code",
      "source": [
        "np.split (a, 3, axis = 1)"
      ],
      "metadata": {
        "colab": {
          "base_uri": "https://localhost:8080/"
        },
        "id": "Hxkdoe3eLm-T",
        "outputId": "3a8ccd4f-afef-4857-c486-c8ce76fc7ee0"
      },
      "execution_count": null,
      "outputs": [
        {
          "output_type": "execute_result",
          "data": {
            "text/plain": [
              "[array([[ 0,  1,  2,  3],\n",
              "        [12, 13, 14, 15]]),\n",
              " array([[ 4,  5,  6,  7],\n",
              "        [16, 17, 18, 19]]),\n",
              " array([[ 8,  9, 10, 11],\n",
              "        [20, 21, 22, 23]])]"
            ]
          },
          "metadata": {},
          "execution_count": 16
        }
      ]
    },
    {
      "cell_type": "code",
      "source": [
        "np.split(a, 4, axis = 1)"
      ],
      "metadata": {
        "colab": {
          "base_uri": "https://localhost:8080/"
        },
        "id": "tQyNs2FwLp9M",
        "outputId": "6242fc91-2b1e-43a5-a7a1-2106b005b439"
      },
      "execution_count": null,
      "outputs": [
        {
          "output_type": "execute_result",
          "data": {
            "text/plain": [
              "[array([[ 0,  1,  2],\n",
              "        [12, 13, 14]]),\n",
              " array([[ 3,  4,  5],\n",
              "        [15, 16, 17]]),\n",
              " array([[ 6,  7,  8],\n",
              "        [18, 19, 20]]),\n",
              " array([[ 9, 10, 11],\n",
              "        [21, 22, 23]])]"
            ]
          },
          "metadata": {},
          "execution_count": 17
        }
      ]
    },
    {
      "cell_type": "code",
      "source": [
        "np.split (a, 5, axis = 1)"
      ],
      "metadata": {
        "colab": {
          "base_uri": "https://localhost:8080/",
          "height": 272
        },
        "id": "SrAdOPaKLvyt",
        "outputId": "02a61322-29ed-4278-fb28-b6057682e57e"
      },
      "execution_count": null,
      "outputs": [
        {
          "output_type": "error",
          "ename": "ValueError",
          "evalue": "array split does not result in an equal division",
          "traceback": [
            "\u001b[0;31m---------------------------------------------------------------------------\u001b[0m",
            "\u001b[0;31mValueError\u001b[0m                                Traceback (most recent call last)",
            "\u001b[0;32m<ipython-input-18-6180173985a4>\u001b[0m in \u001b[0;36m<cell line: 1>\u001b[0;34m()\u001b[0m\n\u001b[0;32m----> 1\u001b[0;31m \u001b[0mnp\u001b[0m\u001b[0;34m.\u001b[0m\u001b[0msplit\u001b[0m \u001b[0;34m(\u001b[0m\u001b[0ma\u001b[0m\u001b[0;34m,\u001b[0m \u001b[0;36m5\u001b[0m\u001b[0;34m,\u001b[0m \u001b[0maxis\u001b[0m \u001b[0;34m=\u001b[0m \u001b[0;36m1\u001b[0m\u001b[0;34m)\u001b[0m\u001b[0;34m\u001b[0m\u001b[0;34m\u001b[0m\u001b[0m\n\u001b[0m",
            "\u001b[0;32m/usr/local/lib/python3.10/dist-packages/numpy/lib/shape_base.py\u001b[0m in \u001b[0;36msplit\u001b[0;34m(ary, indices_or_sections, axis)\u001b[0m\n\u001b[1;32m    862\u001b[0m         \u001b[0mN\u001b[0m \u001b[0;34m=\u001b[0m \u001b[0mary\u001b[0m\u001b[0;34m.\u001b[0m\u001b[0mshape\u001b[0m\u001b[0;34m[\u001b[0m\u001b[0maxis\u001b[0m\u001b[0;34m]\u001b[0m\u001b[0;34m\u001b[0m\u001b[0;34m\u001b[0m\u001b[0m\n\u001b[1;32m    863\u001b[0m         \u001b[0;32mif\u001b[0m \u001b[0mN\u001b[0m \u001b[0;34m%\u001b[0m \u001b[0msections\u001b[0m\u001b[0;34m:\u001b[0m\u001b[0;34m\u001b[0m\u001b[0;34m\u001b[0m\u001b[0m\n\u001b[0;32m--> 864\u001b[0;31m             raise ValueError(\n\u001b[0m\u001b[1;32m    865\u001b[0m                 'array split does not result in an equal division') from None\n\u001b[1;32m    866\u001b[0m     \u001b[0;32mreturn\u001b[0m \u001b[0marray_split\u001b[0m\u001b[0;34m(\u001b[0m\u001b[0mary\u001b[0m\u001b[0;34m,\u001b[0m \u001b[0mindices_or_sections\u001b[0m\u001b[0;34m,\u001b[0m \u001b[0maxis\u001b[0m\u001b[0;34m)\u001b[0m\u001b[0;34m\u001b[0m\u001b[0;34m\u001b[0m\u001b[0m\n",
            "\u001b[0;31mValueError\u001b[0m: array split does not result in an equal division"
          ]
        }
      ]
    },
    {
      "cell_type": "code",
      "source": [
        "np.split (a, [3, 5, 7], axis = 1)"
      ],
      "metadata": {
        "colab": {
          "base_uri": "https://localhost:8080/"
        },
        "id": "LE3cbDvhLzhj",
        "outputId": "939adb74-0b1c-43e8-9861-0c08573bd771"
      },
      "execution_count": null,
      "outputs": [
        {
          "output_type": "execute_result",
          "data": {
            "text/plain": [
              "[array([[ 0,  1,  2],\n",
              "        [12, 13, 14]]),\n",
              " array([[ 3,  4],\n",
              "        [15, 16]]),\n",
              " array([[ 5,  6],\n",
              "        [17, 18]]),\n",
              " array([[ 7,  8,  9, 10, 11],\n",
              "        [19, 20, 21, 22, 23]])]"
            ]
          },
          "metadata": {},
          "execution_count": 19
        }
      ]
    },
    {
      "cell_type": "code",
      "source": [
        "b = np.arange(24).reshape(6, 4)\n",
        "b"
      ],
      "metadata": {
        "colab": {
          "base_uri": "https://localhost:8080/"
        },
        "id": "iJXMUQNVL5p-",
        "outputId": "f44793e8-190a-42e2-9b9b-54bf5009cde6"
      },
      "execution_count": null,
      "outputs": [
        {
          "output_type": "execute_result",
          "data": {
            "text/plain": [
              "array([[ 0,  1,  2,  3],\n",
              "       [ 4,  5,  6,  7],\n",
              "       [ 8,  9, 10, 11],\n",
              "       [12, 13, 14, 15],\n",
              "       [16, 17, 18, 19],\n",
              "       [20, 21, 22, 23]])"
            ]
          },
          "metadata": {},
          "execution_count": 20
        }
      ]
    },
    {
      "cell_type": "code",
      "source": [
        "np.split (b, 3, axis = 0)"
      ],
      "metadata": {
        "colab": {
          "base_uri": "https://localhost:8080/"
        },
        "id": "OztGmz-tL-cD",
        "outputId": "117e17a7-96b7-465e-975b-de8503272519"
      },
      "execution_count": null,
      "outputs": [
        {
          "output_type": "execute_result",
          "data": {
            "text/plain": [
              "[array([[0, 1, 2, 3],\n",
              "        [4, 5, 6, 7]]),\n",
              " array([[ 8,  9, 10, 11],\n",
              "        [12, 13, 14, 15]]),\n",
              " array([[16, 17, 18, 19],\n",
              "        [20, 21, 22, 23]])]"
            ]
          },
          "metadata": {},
          "execution_count": 21
        }
      ]
    },
    {
      "cell_type": "code",
      "source": [
        "np.split (b, [2, 4, 6], axis = 0)"
      ],
      "metadata": {
        "colab": {
          "base_uri": "https://localhost:8080/"
        },
        "id": "y7k32bcJMCXm",
        "outputId": "9f8a17f8-7b35-4575-e586-efc47b6d1375"
      },
      "execution_count": null,
      "outputs": [
        {
          "output_type": "execute_result",
          "data": {
            "text/plain": [
              "[array([[0, 1, 2, 3],\n",
              "        [4, 5, 6, 7]]),\n",
              " array([[ 8,  9, 10, 11],\n",
              "        [12, 13, 14, 15]]),\n",
              " array([[16, 17, 18, 19],\n",
              "        [20, 21, 22, 23]]),\n",
              " array([], shape=(0, 4), dtype=int64)]"
            ]
          },
          "metadata": {},
          "execution_count": 22
        }
      ]
    },
    {
      "cell_type": "code",
      "source": [
        "a = np.arange(10)\n",
        "a"
      ],
      "metadata": {
        "colab": {
          "base_uri": "https://localhost:8080/"
        },
        "id": "EeYiIRyqMGmq",
        "outputId": "6f8d668a-0437-4a0a-f326-dbb846f178d7"
      },
      "execution_count": null,
      "outputs": [
        {
          "output_type": "execute_result",
          "data": {
            "text/plain": [
              "array([0, 1, 2, 3, 4, 5, 6, 7, 8, 9])"
            ]
          },
          "metadata": {},
          "execution_count": 23
        }
      ]
    },
    {
      "cell_type": "code",
      "source": [
        "np.hsplit(a, 2)"
      ],
      "metadata": {
        "colab": {
          "base_uri": "https://localhost:8080/"
        },
        "id": "FCDSHiveMI_a",
        "outputId": "9fa31c8f-0d7f-4435-84f7-aeb8d91b89a6"
      },
      "execution_count": null,
      "outputs": [
        {
          "output_type": "execute_result",
          "data": {
            "text/plain": [
              "[array([0, 1, 2, 3, 4]), array([5, 6, 7, 8, 9])]"
            ]
          },
          "metadata": {},
          "execution_count": 24
        }
      ]
    },
    {
      "cell_type": "code",
      "source": [
        "np.hsplit(a, [2, 5])"
      ],
      "metadata": {
        "colab": {
          "base_uri": "https://localhost:8080/"
        },
        "id": "m9Iykv4LMMoi",
        "outputId": "548ce1b0-eb90-4c54-9dbd-aa6b916aaacf"
      },
      "execution_count": null,
      "outputs": [
        {
          "output_type": "execute_result",
          "data": {
            "text/plain": [
              "[array([0, 1]), array([2, 3, 4]), array([5, 6, 7, 8, 9])]"
            ]
          },
          "metadata": {},
          "execution_count": 25
        }
      ]
    },
    {
      "cell_type": "code",
      "source": [
        "a = np.arange(24).reshape(2, 12)\n",
        "a"
      ],
      "metadata": {
        "colab": {
          "base_uri": "https://localhost:8080/"
        },
        "id": "7ROyGjxNMR_c",
        "outputId": "ac29a68e-d3bd-4be9-c526-bb8332cb27c7"
      },
      "execution_count": null,
      "outputs": [
        {
          "output_type": "execute_result",
          "data": {
            "text/plain": [
              "array([[ 0,  1,  2,  3,  4,  5,  6,  7,  8,  9, 10, 11],\n",
              "       [12, 13, 14, 15, 16, 17, 18, 19, 20, 21, 22, 23]])"
            ]
          },
          "metadata": {},
          "execution_count": 26
        }
      ]
    },
    {
      "cell_type": "code",
      "source": [
        "np.hsplit(a, 3)"
      ],
      "metadata": {
        "colab": {
          "base_uri": "https://localhost:8080/"
        },
        "id": "sIxv4q3hMZJl",
        "outputId": "95120263-090f-4e64-bf88-57052071e7d5"
      },
      "execution_count": null,
      "outputs": [
        {
          "output_type": "execute_result",
          "data": {
            "text/plain": [
              "[array([[ 0,  1,  2,  3],\n",
              "        [12, 13, 14, 15]]),\n",
              " array([[ 4,  5,  6,  7],\n",
              "        [16, 17, 18, 19]]),\n",
              " array([[ 8,  9, 10, 11],\n",
              "        [20, 21, 22, 23]])]"
            ]
          },
          "metadata": {},
          "execution_count": 27
        }
      ]
    },
    {
      "cell_type": "code",
      "source": [
        "np.hsplit(a, 4)"
      ],
      "metadata": {
        "colab": {
          "base_uri": "https://localhost:8080/"
        },
        "id": "p7GUeSfRMclW",
        "outputId": "bcd7d3ae-3d06-4595-ccc5-a0490631ae9c"
      },
      "execution_count": null,
      "outputs": [
        {
          "output_type": "execute_result",
          "data": {
            "text/plain": [
              "[array([[ 0,  1,  2],\n",
              "        [12, 13, 14]]),\n",
              " array([[ 3,  4,  5],\n",
              "        [15, 16, 17]]),\n",
              " array([[ 6,  7,  8],\n",
              "        [18, 19, 20]]),\n",
              " array([[ 9, 10, 11],\n",
              "        [21, 22, 23]])]"
            ]
          },
          "metadata": {},
          "execution_count": 28
        }
      ]
    },
    {
      "cell_type": "code",
      "source": [
        "np.hsplit(a, 5)"
      ],
      "metadata": {
        "colab": {
          "base_uri": "https://localhost:8080/",
          "height": 296
        },
        "id": "z3-ZA_SgMfYQ",
        "outputId": "d4862540-3bf8-4891-82c6-45e43558d3b7"
      },
      "execution_count": null,
      "outputs": [
        {
          "output_type": "error",
          "ename": "ValueError",
          "evalue": "array split does not result in an equal division",
          "traceback": [
            "\u001b[0;31m---------------------------------------------------------------------------\u001b[0m",
            "\u001b[0;31mValueError\u001b[0m                                Traceback (most recent call last)",
            "\u001b[0;32m<ipython-input-29-66fda4374107>\u001b[0m in \u001b[0;36m<cell line: 1>\u001b[0;34m()\u001b[0m\n\u001b[0;32m----> 1\u001b[0;31m \u001b[0mnp\u001b[0m\u001b[0;34m.\u001b[0m\u001b[0mhsplit\u001b[0m\u001b[0;34m(\u001b[0m\u001b[0ma\u001b[0m\u001b[0;34m,\u001b[0m \u001b[0;36m5\u001b[0m\u001b[0;34m)\u001b[0m\u001b[0;34m\u001b[0m\u001b[0;34m\u001b[0m\u001b[0m\n\u001b[0m",
            "\u001b[0;32m/usr/local/lib/python3.10/dist-packages/numpy/lib/shape_base.py\u001b[0m in \u001b[0;36mhsplit\u001b[0;34m(ary, indices_or_sections)\u001b[0m\n\u001b[1;32m    936\u001b[0m         \u001b[0;32mraise\u001b[0m \u001b[0mValueError\u001b[0m\u001b[0;34m(\u001b[0m\u001b[0;34m'hsplit only works on arrays of 1 or more dimensions'\u001b[0m\u001b[0;34m)\u001b[0m\u001b[0;34m\u001b[0m\u001b[0;34m\u001b[0m\u001b[0m\n\u001b[1;32m    937\u001b[0m     \u001b[0;32mif\u001b[0m \u001b[0mary\u001b[0m\u001b[0;34m.\u001b[0m\u001b[0mndim\u001b[0m \u001b[0;34m>\u001b[0m \u001b[0;36m1\u001b[0m\u001b[0;34m:\u001b[0m\u001b[0;34m\u001b[0m\u001b[0;34m\u001b[0m\u001b[0m\n\u001b[0;32m--> 938\u001b[0;31m         \u001b[0;32mreturn\u001b[0m \u001b[0msplit\u001b[0m\u001b[0;34m(\u001b[0m\u001b[0mary\u001b[0m\u001b[0;34m,\u001b[0m \u001b[0mindices_or_sections\u001b[0m\u001b[0;34m,\u001b[0m \u001b[0;36m1\u001b[0m\u001b[0;34m)\u001b[0m\u001b[0;34m\u001b[0m\u001b[0;34m\u001b[0m\u001b[0m\n\u001b[0m\u001b[1;32m    939\u001b[0m     \u001b[0;32melse\u001b[0m\u001b[0;34m:\u001b[0m\u001b[0;34m\u001b[0m\u001b[0;34m\u001b[0m\u001b[0m\n\u001b[1;32m    940\u001b[0m         \u001b[0;32mreturn\u001b[0m \u001b[0msplit\u001b[0m\u001b[0;34m(\u001b[0m\u001b[0mary\u001b[0m\u001b[0;34m,\u001b[0m \u001b[0mindices_or_sections\u001b[0m\u001b[0;34m,\u001b[0m \u001b[0;36m0\u001b[0m\u001b[0;34m)\u001b[0m\u001b[0;34m\u001b[0m\u001b[0;34m\u001b[0m\u001b[0m\n",
            "\u001b[0;32m/usr/local/lib/python3.10/dist-packages/numpy/lib/shape_base.py\u001b[0m in \u001b[0;36msplit\u001b[0;34m(ary, indices_or_sections, axis)\u001b[0m\n\u001b[1;32m    862\u001b[0m         \u001b[0mN\u001b[0m \u001b[0;34m=\u001b[0m \u001b[0mary\u001b[0m\u001b[0;34m.\u001b[0m\u001b[0mshape\u001b[0m\u001b[0;34m[\u001b[0m\u001b[0maxis\u001b[0m\u001b[0;34m]\u001b[0m\u001b[0;34m\u001b[0m\u001b[0;34m\u001b[0m\u001b[0m\n\u001b[1;32m    863\u001b[0m         \u001b[0;32mif\u001b[0m \u001b[0mN\u001b[0m \u001b[0;34m%\u001b[0m \u001b[0msections\u001b[0m\u001b[0;34m:\u001b[0m\u001b[0;34m\u001b[0m\u001b[0;34m\u001b[0m\u001b[0m\n\u001b[0;32m--> 864\u001b[0;31m             raise ValueError(\n\u001b[0m\u001b[1;32m    865\u001b[0m                 'array split does not result in an equal division') from None\n\u001b[1;32m    866\u001b[0m     \u001b[0;32mreturn\u001b[0m \u001b[0marray_split\u001b[0m\u001b[0;34m(\u001b[0m\u001b[0mary\u001b[0m\u001b[0;34m,\u001b[0m \u001b[0mindices_or_sections\u001b[0m\u001b[0;34m,\u001b[0m \u001b[0maxis\u001b[0m\u001b[0;34m)\u001b[0m\u001b[0;34m\u001b[0m\u001b[0;34m\u001b[0m\u001b[0m\n",
            "\u001b[0;31mValueError\u001b[0m: array split does not result in an equal division"
          ]
        }
      ]
    },
    {
      "cell_type": "code",
      "source": [
        "np.hsplit(a, (3, 5, 8))"
      ],
      "metadata": {
        "colab": {
          "base_uri": "https://localhost:8080/"
        },
        "id": "w8kuaW91Mio8",
        "outputId": "d035074e-4c97-4c4e-e7cd-08ffcba12bbe"
      },
      "execution_count": null,
      "outputs": [
        {
          "output_type": "execute_result",
          "data": {
            "text/plain": [
              "[array([[ 0,  1,  2],\n",
              "        [12, 13, 14]]),\n",
              " array([[ 3,  4],\n",
              "        [15, 16]]),\n",
              " array([[ 5,  6,  7],\n",
              "        [17, 18, 19]]),\n",
              " array([[ 8,  9, 10, 11],\n",
              "        [20, 21, 22, 23]])]"
            ]
          },
          "metadata": {},
          "execution_count": 30
        }
      ]
    },
    {
      "cell_type": "code",
      "source": [
        "a[:, :3]"
      ],
      "metadata": {
        "colab": {
          "base_uri": "https://localhost:8080/"
        },
        "id": "p-xrrjQGMm06",
        "outputId": "3af15834-17d8-4d82-cf24-81161c7a09f8"
      },
      "execution_count": null,
      "outputs": [
        {
          "output_type": "execute_result",
          "data": {
            "text/plain": [
              "array([[ 0,  1,  2],\n",
              "       [12, 13, 14]])"
            ]
          },
          "metadata": {},
          "execution_count": 31
        }
      ]
    },
    {
      "cell_type": "code",
      "source": [
        "a[:, 8:]"
      ],
      "metadata": {
        "colab": {
          "base_uri": "https://localhost:8080/"
        },
        "id": "php1-G9CMpp-",
        "outputId": "dff93274-82e3-4a82-8040-528b403fb928"
      },
      "execution_count": null,
      "outputs": [
        {
          "output_type": "execute_result",
          "data": {
            "text/plain": [
              "array([[ 8,  9, 10, 11],\n",
              "       [20, 21, 22, 23]])"
            ]
          },
          "metadata": {},
          "execution_count": 33
        }
      ]
    },
    {
      "cell_type": "code",
      "source": [
        "a = np.arange(10)\n",
        "a"
      ],
      "metadata": {
        "colab": {
          "base_uri": "https://localhost:8080/"
        },
        "id": "7gFdmbvCMrNo",
        "outputId": "a316627c-1033-4174-c2ce-8c960e86a1d0"
      },
      "execution_count": null,
      "outputs": [
        {
          "output_type": "execute_result",
          "data": {
            "text/plain": [
              "array([0, 1, 2, 3, 4, 5, 6, 7, 8, 9])"
            ]
          },
          "metadata": {},
          "execution_count": 34
        }
      ]
    },
    {
      "cell_type": "code",
      "source": [
        "np.vsplit(a, 2)"
      ],
      "metadata": {
        "colab": {
          "base_uri": "https://localhost:8080/",
          "height": 272
        },
        "id": "utwSLrLLMwHi",
        "outputId": "43eaf26b-8e3d-4b97-978d-caaf0eae7bcb"
      },
      "execution_count": null,
      "outputs": [
        {
          "output_type": "error",
          "ename": "ValueError",
          "evalue": "vsplit only works on arrays of 2 or more dimensions",
          "traceback": [
            "\u001b[0;31m---------------------------------------------------------------------------\u001b[0m",
            "\u001b[0;31mValueError\u001b[0m                                Traceback (most recent call last)",
            "\u001b[0;32m<ipython-input-35-710935de9376>\u001b[0m in \u001b[0;36m<cell line: 1>\u001b[0;34m()\u001b[0m\n\u001b[0;32m----> 1\u001b[0;31m \u001b[0mnp\u001b[0m\u001b[0;34m.\u001b[0m\u001b[0mvsplit\u001b[0m\u001b[0;34m(\u001b[0m\u001b[0ma\u001b[0m\u001b[0;34m,\u001b[0m \u001b[0;36m2\u001b[0m\u001b[0;34m)\u001b[0m\u001b[0;34m\u001b[0m\u001b[0;34m\u001b[0m\u001b[0m\n\u001b[0m",
            "\u001b[0;32m/usr/local/lib/python3.10/dist-packages/numpy/lib/shape_base.py\u001b[0m in \u001b[0;36mvsplit\u001b[0;34m(ary, indices_or_sections)\u001b[0m\n\u001b[1;32m    986\u001b[0m     \"\"\"\n\u001b[1;32m    987\u001b[0m     \u001b[0;32mif\u001b[0m \u001b[0m_nx\u001b[0m\u001b[0;34m.\u001b[0m\u001b[0mndim\u001b[0m\u001b[0;34m(\u001b[0m\u001b[0mary\u001b[0m\u001b[0;34m)\u001b[0m \u001b[0;34m<\u001b[0m \u001b[0;36m2\u001b[0m\u001b[0;34m:\u001b[0m\u001b[0;34m\u001b[0m\u001b[0;34m\u001b[0m\u001b[0m\n\u001b[0;32m--> 988\u001b[0;31m         \u001b[0;32mraise\u001b[0m \u001b[0mValueError\u001b[0m\u001b[0;34m(\u001b[0m\u001b[0;34m'vsplit only works on arrays of 2 or more dimensions'\u001b[0m\u001b[0;34m)\u001b[0m\u001b[0;34m\u001b[0m\u001b[0;34m\u001b[0m\u001b[0m\n\u001b[0m\u001b[1;32m    989\u001b[0m     \u001b[0;32mreturn\u001b[0m \u001b[0msplit\u001b[0m\u001b[0;34m(\u001b[0m\u001b[0mary\u001b[0m\u001b[0;34m,\u001b[0m \u001b[0mindices_or_sections\u001b[0m\u001b[0;34m,\u001b[0m \u001b[0;36m0\u001b[0m\u001b[0;34m)\u001b[0m\u001b[0;34m\u001b[0m\u001b[0;34m\u001b[0m\u001b[0m\n\u001b[1;32m    990\u001b[0m \u001b[0;34m\u001b[0m\u001b[0m\n",
            "\u001b[0;31mValueError\u001b[0m: vsplit only works on arrays of 2 or more dimensions"
          ]
        }
      ]
    },
    {
      "cell_type": "code",
      "source": [
        "a = np.arange(18).reshape(6, 3)\n",
        "a"
      ],
      "metadata": {
        "colab": {
          "base_uri": "https://localhost:8080/"
        },
        "id": "40r7Qaj9Myl3",
        "outputId": "860206d1-4d86-416c-fec6-737dd2bcca1f"
      },
      "execution_count": null,
      "outputs": [
        {
          "output_type": "execute_result",
          "data": {
            "text/plain": [
              "array([[ 0,  1,  2],\n",
              "       [ 3,  4,  5],\n",
              "       [ 6,  7,  8],\n",
              "       [ 9, 10, 11],\n",
              "       [12, 13, 14],\n",
              "       [15, 16, 17]])"
            ]
          },
          "metadata": {},
          "execution_count": 36
        }
      ]
    },
    {
      "cell_type": "code",
      "source": [
        "np.vsplit(a, 3)"
      ],
      "metadata": {
        "colab": {
          "base_uri": "https://localhost:8080/"
        },
        "id": "jI4C85vSM3sU",
        "outputId": "dd453674-c0e6-4b5e-e187-f46a1760e8a4"
      },
      "execution_count": null,
      "outputs": [
        {
          "output_type": "execute_result",
          "data": {
            "text/plain": [
              "[array([[0, 1, 2],\n",
              "        [3, 4, 5]]),\n",
              " array([[ 6,  7,  8],\n",
              "        [ 9, 10, 11]]),\n",
              " array([[12, 13, 14],\n",
              "        [15, 16, 17]])]"
            ]
          },
          "metadata": {},
          "execution_count": 37
        }
      ]
    },
    {
      "cell_type": "code",
      "source": [
        "np.vsplit(a, 4)"
      ],
      "metadata": {
        "colab": {
          "base_uri": "https://localhost:8080/",
          "height": 296
        },
        "id": "NIx0Z3goM6ch",
        "outputId": "b5ff4840-512b-46c4-ae08-0404d027aea6"
      },
      "execution_count": null,
      "outputs": [
        {
          "output_type": "error",
          "ename": "ValueError",
          "evalue": "array split does not result in an equal division",
          "traceback": [
            "\u001b[0;31m---------------------------------------------------------------------------\u001b[0m",
            "\u001b[0;31mValueError\u001b[0m                                Traceback (most recent call last)",
            "\u001b[0;32m<ipython-input-38-ec772f4fcb8d>\u001b[0m in \u001b[0;36m<cell line: 1>\u001b[0;34m()\u001b[0m\n\u001b[0;32m----> 1\u001b[0;31m \u001b[0mnp\u001b[0m\u001b[0;34m.\u001b[0m\u001b[0mvsplit\u001b[0m\u001b[0;34m(\u001b[0m\u001b[0ma\u001b[0m\u001b[0;34m,\u001b[0m \u001b[0;36m4\u001b[0m\u001b[0;34m)\u001b[0m\u001b[0;34m\u001b[0m\u001b[0;34m\u001b[0m\u001b[0m\n\u001b[0m",
            "\u001b[0;32m/usr/local/lib/python3.10/dist-packages/numpy/lib/shape_base.py\u001b[0m in \u001b[0;36mvsplit\u001b[0;34m(ary, indices_or_sections)\u001b[0m\n\u001b[1;32m    987\u001b[0m     \u001b[0;32mif\u001b[0m \u001b[0m_nx\u001b[0m\u001b[0;34m.\u001b[0m\u001b[0mndim\u001b[0m\u001b[0;34m(\u001b[0m\u001b[0mary\u001b[0m\u001b[0;34m)\u001b[0m \u001b[0;34m<\u001b[0m \u001b[0;36m2\u001b[0m\u001b[0;34m:\u001b[0m\u001b[0;34m\u001b[0m\u001b[0;34m\u001b[0m\u001b[0m\n\u001b[1;32m    988\u001b[0m         \u001b[0;32mraise\u001b[0m \u001b[0mValueError\u001b[0m\u001b[0;34m(\u001b[0m\u001b[0;34m'vsplit only works on arrays of 2 or more dimensions'\u001b[0m\u001b[0;34m)\u001b[0m\u001b[0;34m\u001b[0m\u001b[0;34m\u001b[0m\u001b[0m\n\u001b[0;32m--> 989\u001b[0;31m     \u001b[0;32mreturn\u001b[0m \u001b[0msplit\u001b[0m\u001b[0;34m(\u001b[0m\u001b[0mary\u001b[0m\u001b[0;34m,\u001b[0m \u001b[0mindices_or_sections\u001b[0m\u001b[0;34m,\u001b[0m \u001b[0;36m0\u001b[0m\u001b[0;34m)\u001b[0m\u001b[0;34m\u001b[0m\u001b[0;34m\u001b[0m\u001b[0m\n\u001b[0m\u001b[1;32m    990\u001b[0m \u001b[0;34m\u001b[0m\u001b[0m\n\u001b[1;32m    991\u001b[0m \u001b[0;34m\u001b[0m\u001b[0m\n",
            "\u001b[0;32m/usr/local/lib/python3.10/dist-packages/numpy/lib/shape_base.py\u001b[0m in \u001b[0;36msplit\u001b[0;34m(ary, indices_or_sections, axis)\u001b[0m\n\u001b[1;32m    862\u001b[0m         \u001b[0mN\u001b[0m \u001b[0;34m=\u001b[0m \u001b[0mary\u001b[0m\u001b[0;34m.\u001b[0m\u001b[0mshape\u001b[0m\u001b[0;34m[\u001b[0m\u001b[0maxis\u001b[0m\u001b[0;34m]\u001b[0m\u001b[0;34m\u001b[0m\u001b[0;34m\u001b[0m\u001b[0m\n\u001b[1;32m    863\u001b[0m         \u001b[0;32mif\u001b[0m \u001b[0mN\u001b[0m \u001b[0;34m%\u001b[0m \u001b[0msections\u001b[0m\u001b[0;34m:\u001b[0m\u001b[0;34m\u001b[0m\u001b[0;34m\u001b[0m\u001b[0m\n\u001b[0;32m--> 864\u001b[0;31m             raise ValueError(\n\u001b[0m\u001b[1;32m    865\u001b[0m                 'array split does not result in an equal division') from None\n\u001b[1;32m    866\u001b[0m     \u001b[0;32mreturn\u001b[0m \u001b[0marray_split\u001b[0m\u001b[0;34m(\u001b[0m\u001b[0mary\u001b[0m\u001b[0;34m,\u001b[0m \u001b[0mindices_or_sections\u001b[0m\u001b[0;34m,\u001b[0m \u001b[0maxis\u001b[0m\u001b[0;34m)\u001b[0m\u001b[0;34m\u001b[0m\u001b[0;34m\u001b[0m\u001b[0m\n",
            "\u001b[0;31mValueError\u001b[0m: array split does not result in an equal division"
          ]
        }
      ]
    },
    {
      "cell_type": "code",
      "source": [
        "np.vsplit(a, (1, 4, 6))"
      ],
      "metadata": {
        "colab": {
          "base_uri": "https://localhost:8080/"
        },
        "id": "u0ByHq1iM-GO",
        "outputId": "7d04d549-81a6-4154-de2c-e3fef3670ad7"
      },
      "execution_count": null,
      "outputs": [
        {
          "output_type": "execute_result",
          "data": {
            "text/plain": [
              "[array([[0, 1, 2]]),\n",
              " array([[ 3,  4,  5],\n",
              "        [ 6,  7,  8],\n",
              "        [ 9, 10, 11]]),\n",
              " array([[12, 13, 14],\n",
              "        [15, 16, 17]]),\n",
              " array([], shape=(0, 3), dtype=int64)]"
            ]
          },
          "metadata": {},
          "execution_count": 39
        }
      ]
    },
    {
      "cell_type": "code",
      "source": [
        "a[:1, :]"
      ],
      "metadata": {
        "colab": {
          "base_uri": "https://localhost:8080/"
        },
        "id": "dICv_VJ3NBUn",
        "outputId": "f5ece249-eb4b-498e-edaa-15ac06743650"
      },
      "execution_count": null,
      "outputs": [
        {
          "output_type": "execute_result",
          "data": {
            "text/plain": [
              "array([[0, 1, 2]])"
            ]
          },
          "metadata": {},
          "execution_count": 40
        }
      ]
    },
    {
      "cell_type": "code",
      "source": [
        "a[4:6, :]"
      ],
      "metadata": {
        "colab": {
          "base_uri": "https://localhost:8080/"
        },
        "id": "FNpXsERxNDjx",
        "outputId": "c3fcf05a-a935-423b-9bfd-f59c36e92e57"
      },
      "execution_count": null,
      "outputs": [
        {
          "output_type": "execute_result",
          "data": {
            "text/plain": [
              "array([[12, 13, 14],\n",
              "       [15, 16, 17]])"
            ]
          },
          "metadata": {},
          "execution_count": 41
        }
      ]
    },
    {
      "cell_type": "code",
      "source": [
        "a[6:, :]"
      ],
      "metadata": {
        "colab": {
          "base_uri": "https://localhost:8080/"
        },
        "id": "mVyC4VAYNHDU",
        "outputId": "72842680-28db-45ed-d2e9-864f7e622c6c"
      },
      "execution_count": null,
      "outputs": [
        {
          "output_type": "execute_result",
          "data": {
            "text/plain": [
              "array([], shape=(0, 3), dtype=int64)"
            ]
          },
          "metadata": {},
          "execution_count": 42
        }
      ]
    },
    {
      "cell_type": "code",
      "source": [
        "x = np.arange(32).reshape(4, 4, 2)\n",
        "x"
      ],
      "metadata": {
        "colab": {
          "base_uri": "https://localhost:8080/"
        },
        "id": "3J_cL0qWNI7h",
        "outputId": "dbb0ca10-f9a6-42a7-caa4-7108d00a7336"
      },
      "execution_count": null,
      "outputs": [
        {
          "output_type": "execute_result",
          "data": {
            "text/plain": [
              "array([[[ 0,  1],\n",
              "        [ 2,  3],\n",
              "        [ 4,  5],\n",
              "        [ 6,  7]],\n",
              "\n",
              "       [[ 8,  9],\n",
              "        [10, 11],\n",
              "        [12, 13],\n",
              "        [14, 15]],\n",
              "\n",
              "       [[16, 17],\n",
              "        [18, 19],\n",
              "        [20, 21],\n",
              "        [22, 23]],\n",
              "\n",
              "       [[24, 25],\n",
              "        [26, 27],\n",
              "        [28, 29],\n",
              "        [30, 31]]])"
            ]
          },
          "metadata": {},
          "execution_count": 43
        }
      ]
    },
    {
      "cell_type": "code",
      "source": [
        "np.hsplit(x, 2)"
      ],
      "metadata": {
        "colab": {
          "base_uri": "https://localhost:8080/"
        },
        "id": "s2ZpojChNNO4",
        "outputId": "d1d1fa7c-b9dd-4050-c792-acf9c2258cc9"
      },
      "execution_count": null,
      "outputs": [
        {
          "output_type": "execute_result",
          "data": {
            "text/plain": [
              "[array([[[ 0,  1],\n",
              "         [ 2,  3]],\n",
              " \n",
              "        [[ 8,  9],\n",
              "         [10, 11]],\n",
              " \n",
              "        [[16, 17],\n",
              "         [18, 19]],\n",
              " \n",
              "        [[24, 25],\n",
              "         [26, 27]]]),\n",
              " array([[[ 4,  5],\n",
              "         [ 6,  7]],\n",
              " \n",
              "        [[12, 13],\n",
              "         [14, 15]],\n",
              " \n",
              "        [[20, 21],\n",
              "         [22, 23]],\n",
              " \n",
              "        [[28, 29],\n",
              "         [30, 31]]])]"
            ]
          },
          "metadata": {},
          "execution_count": 44
        }
      ]
    },
    {
      "cell_type": "code",
      "source": [
        "np.split(x, 2, axis = 1)"
      ],
      "metadata": {
        "colab": {
          "base_uri": "https://localhost:8080/"
        },
        "id": "F3GC2EoMNP1r",
        "outputId": "546c198e-093d-4a57-cdd2-bbd18076865a"
      },
      "execution_count": null,
      "outputs": [
        {
          "output_type": "execute_result",
          "data": {
            "text/plain": [
              "[array([[[ 0,  1],\n",
              "         [ 2,  3]],\n",
              " \n",
              "        [[ 8,  9],\n",
              "         [10, 11]],\n",
              " \n",
              "        [[16, 17],\n",
              "         [18, 19]],\n",
              " \n",
              "        [[24, 25],\n",
              "         [26, 27]]]),\n",
              " array([[[ 4,  5],\n",
              "         [ 6,  7]],\n",
              " \n",
              "        [[12, 13],\n",
              "         [14, 15]],\n",
              " \n",
              "        [[20, 21],\n",
              "         [22, 23]],\n",
              " \n",
              "        [[28, 29],\n",
              "         [30, 31]]])]"
            ]
          },
          "metadata": {},
          "execution_count": 45
        }
      ]
    },
    {
      "cell_type": "code",
      "source": [
        "x [:, :2, :]"
      ],
      "metadata": {
        "colab": {
          "base_uri": "https://localhost:8080/"
        },
        "id": "uiYvIvtxNVmh",
        "outputId": "8a30cb08-b04d-4669-a1ac-31a6f17c9658"
      },
      "execution_count": null,
      "outputs": [
        {
          "output_type": "execute_result",
          "data": {
            "text/plain": [
              "array([[[ 0,  1],\n",
              "        [ 2,  3]],\n",
              "\n",
              "       [[ 8,  9],\n",
              "        [10, 11]],\n",
              "\n",
              "       [[16, 17],\n",
              "        [18, 19]],\n",
              "\n",
              "       [[24, 25],\n",
              "        [26, 27]]])"
            ]
          },
          "metadata": {},
          "execution_count": 46
        }
      ]
    },
    {
      "cell_type": "code",
      "source": [
        "x[:, 2:, :]"
      ],
      "metadata": {
        "colab": {
          "base_uri": "https://localhost:8080/"
        },
        "id": "swk5MrL7N5Wa",
        "outputId": "490579a3-9843-4797-c04d-b25ce87eed18"
      },
      "execution_count": null,
      "outputs": [
        {
          "output_type": "execute_result",
          "data": {
            "text/plain": [
              "array([[[ 4,  5],\n",
              "        [ 6,  7]],\n",
              "\n",
              "       [[12, 13],\n",
              "        [14, 15]],\n",
              "\n",
              "       [[20, 21],\n",
              "        [22, 23]],\n",
              "\n",
              "       [[28, 29],\n",
              "        [30, 31]]])"
            ]
          },
          "metadata": {},
          "execution_count": 47
        }
      ]
    },
    {
      "cell_type": "code",
      "source": [
        "np.hsplit(x, [1, 3])"
      ],
      "metadata": {
        "colab": {
          "base_uri": "https://localhost:8080/"
        },
        "id": "_R9uxhY0N7m8",
        "outputId": "2bddbd33-fe9b-4ed9-c70e-06a2b62a2f3f"
      },
      "execution_count": null,
      "outputs": [
        {
          "output_type": "execute_result",
          "data": {
            "text/plain": [
              "[array([[[ 0,  1]],\n",
              " \n",
              "        [[ 8,  9]],\n",
              " \n",
              "        [[16, 17]],\n",
              " \n",
              "        [[24, 25]]]),\n",
              " array([[[ 2,  3],\n",
              "         [ 4,  5]],\n",
              " \n",
              "        [[10, 11],\n",
              "         [12, 13]],\n",
              " \n",
              "        [[18, 19],\n",
              "         [20, 21]],\n",
              " \n",
              "        [[26, 27],\n",
              "         [28, 29]]]),\n",
              " array([[[ 6,  7]],\n",
              " \n",
              "        [[14, 15]],\n",
              " \n",
              "        [[22, 23]],\n",
              " \n",
              "        [[30, 31]]])]"
            ]
          },
          "metadata": {},
          "execution_count": 48
        }
      ]
    },
    {
      "cell_type": "code",
      "source": [
        "x = np.arange(32).reshape(4, 4, 2)\n",
        "x"
      ],
      "metadata": {
        "colab": {
          "base_uri": "https://localhost:8080/"
        },
        "id": "cOC7uVKKN_gO",
        "outputId": "09a4d9f1-c519-428d-95f7-434d1b291401"
      },
      "execution_count": null,
      "outputs": [
        {
          "output_type": "execute_result",
          "data": {
            "text/plain": [
              "array([[[ 0,  1],\n",
              "        [ 2,  3],\n",
              "        [ 4,  5],\n",
              "        [ 6,  7]],\n",
              "\n",
              "       [[ 8,  9],\n",
              "        [10, 11],\n",
              "        [12, 13],\n",
              "        [14, 15]],\n",
              "\n",
              "       [[16, 17],\n",
              "        [18, 19],\n",
              "        [20, 21],\n",
              "        [22, 23]],\n",
              "\n",
              "       [[24, 25],\n",
              "        [26, 27],\n",
              "        [28, 29],\n",
              "        [30, 31]]])"
            ]
          },
          "metadata": {},
          "execution_count": 5
        }
      ]
    },
    {
      "cell_type": "code",
      "source": [
        "np.vsplit(x, 2)"
      ],
      "metadata": {
        "colab": {
          "base_uri": "https://localhost:8080/"
        },
        "id": "WS8vZsVrOQPZ",
        "outputId": "39bdc813-698c-409d-bb44-e8c4484f82a7"
      },
      "execution_count": null,
      "outputs": [
        {
          "output_type": "execute_result",
          "data": {
            "text/plain": [
              "[array([[[ 0,  1],\n",
              "         [ 2,  3],\n",
              "         [ 4,  5],\n",
              "         [ 6,  7]],\n",
              " \n",
              "        [[ 8,  9],\n",
              "         [10, 11],\n",
              "         [12, 13],\n",
              "         [14, 15]]]),\n",
              " array([[[16, 17],\n",
              "         [18, 19],\n",
              "         [20, 21],\n",
              "         [22, 23]],\n",
              " \n",
              "        [[24, 25],\n",
              "         [26, 27],\n",
              "         [28, 29],\n",
              "         [30, 31]]])]"
            ]
          },
          "metadata": {},
          "execution_count": 6
        }
      ]
    },
    {
      "cell_type": "code",
      "source": [
        "np.split(x, 2, axis=0)"
      ],
      "metadata": {
        "id": "tJEA_XrXOTuA",
        "colab": {
          "base_uri": "https://localhost:8080/"
        },
        "outputId": "867ffabb-3c4d-4bf5-d68b-86a1fa4f0fdd"
      },
      "execution_count": null,
      "outputs": [
        {
          "output_type": "execute_result",
          "data": {
            "text/plain": [
              "[array([[[ 0,  1],\n",
              "         [ 2,  3],\n",
              "         [ 4,  5],\n",
              "         [ 6,  7]],\n",
              " \n",
              "        [[ 8,  9],\n",
              "         [10, 11],\n",
              "         [12, 13],\n",
              "         [14, 15]]]),\n",
              " array([[[16, 17],\n",
              "         [18, 19],\n",
              "         [20, 21],\n",
              "         [22, 23]],\n",
              " \n",
              "        [[24, 25],\n",
              "         [26, 27],\n",
              "         [28, 29],\n",
              "         [30, 31]]])]"
            ]
          },
          "metadata": {},
          "execution_count": 7
        }
      ]
    },
    {
      "cell_type": "code",
      "source": [
        "x[:2, :, :]"
      ],
      "metadata": {
        "colab": {
          "base_uri": "https://localhost:8080/"
        },
        "id": "zt5Kpijtm22U",
        "outputId": "85f78b69-e9a9-49e0-b08c-ffeb87bfb30f"
      },
      "execution_count": null,
      "outputs": [
        {
          "output_type": "execute_result",
          "data": {
            "text/plain": [
              "array([[[ 0,  1],\n",
              "        [ 2,  3],\n",
              "        [ 4,  5],\n",
              "        [ 6,  7]],\n",
              "\n",
              "       [[ 8,  9],\n",
              "        [10, 11],\n",
              "        [12, 13],\n",
              "        [14, 15]]])"
            ]
          },
          "metadata": {},
          "execution_count": 8
        }
      ]
    },
    {
      "cell_type": "code",
      "source": [
        "x[2:, :, :]"
      ],
      "metadata": {
        "colab": {
          "base_uri": "https://localhost:8080/"
        },
        "id": "f0PBYKNkm3wf",
        "outputId": "43d3b8ea-eebc-4917-a965-61ffedbb7db8"
      },
      "execution_count": null,
      "outputs": [
        {
          "output_type": "execute_result",
          "data": {
            "text/plain": [
              "array([[[16, 17],\n",
              "        [18, 19],\n",
              "        [20, 21],\n",
              "        [22, 23]],\n",
              "\n",
              "       [[24, 25],\n",
              "        [26, 27],\n",
              "        [28, 29],\n",
              "        [30, 31]]])"
            ]
          },
          "metadata": {},
          "execution_count": 9
        }
      ]
    },
    {
      "cell_type": "code",
      "source": [
        "np.vstack((x[:3], x[3:]))"
      ],
      "metadata": {
        "colab": {
          "base_uri": "https://localhost:8080/"
        },
        "id": "3Tl69J9Bm5Dp",
        "outputId": "bcee5961-4ae8-4ccc-945a-8330daf4ab34"
      },
      "execution_count": null,
      "outputs": [
        {
          "output_type": "execute_result",
          "data": {
            "text/plain": [
              "array([[[ 0,  1],\n",
              "        [ 2,  3],\n",
              "        [ 4,  5],\n",
              "        [ 6,  7]],\n",
              "\n",
              "       [[ 8,  9],\n",
              "        [10, 11],\n",
              "        [12, 13],\n",
              "        [14, 15]],\n",
              "\n",
              "       [[16, 17],\n",
              "        [18, 19],\n",
              "        [20, 21],\n",
              "        [22, 23]],\n",
              "\n",
              "       [[24, 25],\n",
              "        [26, 27],\n",
              "        [28, 29],\n",
              "        [30, 31]]])"
            ]
          },
          "metadata": {},
          "execution_count": 10
        }
      ]
    },
    {
      "cell_type": "code",
      "source": [
        "x = np.arange(9.0)\n",
        "x"
      ],
      "metadata": {
        "colab": {
          "base_uri": "https://localhost:8080/"
        },
        "id": "lupWHuZRnXyj",
        "outputId": "8db77fb7-cd0f-4be5-bd34-ba20c1a17e94"
      },
      "execution_count": null,
      "outputs": [
        {
          "output_type": "execute_result",
          "data": {
            "text/plain": [
              "array([0., 1., 2., 3., 4., 5., 6., 7., 8.])"
            ]
          },
          "metadata": {},
          "execution_count": 11
        }
      ]
    },
    {
      "cell_type": "code",
      "source": [
        "np.array_split(x, 2)"
      ],
      "metadata": {
        "colab": {
          "base_uri": "https://localhost:8080/"
        },
        "id": "Xg9fAbY3nZO8",
        "outputId": "25fbe036-31ee-4fc9-dbb0-e070980cff19"
      },
      "execution_count": null,
      "outputs": [
        {
          "output_type": "execute_result",
          "data": {
            "text/plain": [
              "[array([0., 1., 2., 3., 4.]), array([5., 6., 7., 8.])]"
            ]
          },
          "metadata": {},
          "execution_count": 12
        }
      ]
    },
    {
      "cell_type": "code",
      "source": [
        "np.array_split(x, 3)"
      ],
      "metadata": {
        "colab": {
          "base_uri": "https://localhost:8080/"
        },
        "id": "3uAieyjGnacW",
        "outputId": "fb8f01c9-2ee1-462d-c4ad-3a20db074fc0"
      },
      "execution_count": null,
      "outputs": [
        {
          "output_type": "execute_result",
          "data": {
            "text/plain": [
              "[array([0., 1., 2.]), array([3., 4., 5.]), array([6., 7., 8.])]"
            ]
          },
          "metadata": {},
          "execution_count": 13
        }
      ]
    },
    {
      "cell_type": "code",
      "source": [
        "np.array_split(x,4)"
      ],
      "metadata": {
        "colab": {
          "base_uri": "https://localhost:8080/"
        },
        "id": "A26NGz7YnbYT",
        "outputId": "b803b236-99f2-43d4-af93-ebd90d8b7eee"
      },
      "execution_count": null,
      "outputs": [
        {
          "output_type": "execute_result",
          "data": {
            "text/plain": [
              "[array([0., 1., 2.]), array([3., 4.]), array([5., 6.]), array([7., 8.])]"
            ]
          },
          "metadata": {},
          "execution_count": 16
        }
      ]
    },
    {
      "cell_type": "code",
      "source": [
        "np.array_split(x, 5)"
      ],
      "metadata": {
        "colab": {
          "base_uri": "https://localhost:8080/"
        },
        "id": "t147kj1knc7D",
        "outputId": "8d3e4ce3-d119-4ac8-abe2-53e9f843349e"
      },
      "execution_count": null,
      "outputs": [
        {
          "output_type": "execute_result",
          "data": {
            "text/plain": [
              "[array([0., 1.]),\n",
              " array([2., 3.]),\n",
              " array([4., 5.]),\n",
              " array([6., 7.]),\n",
              " array([8.])]"
            ]
          },
          "metadata": {},
          "execution_count": 17
        }
      ]
    },
    {
      "cell_type": "code",
      "source": [
        "np.array_split(x, [2, 4, 8])"
      ],
      "metadata": {
        "colab": {
          "base_uri": "https://localhost:8080/"
        },
        "id": "datqtExpnhuT",
        "outputId": "7fe9ef5a-3241-404d-e910-3093de1a70f5"
      },
      "execution_count": null,
      "outputs": [
        {
          "output_type": "execute_result",
          "data": {
            "text/plain": [
              "[array([0., 1.]), array([2., 3.]), array([4., 5., 6., 7.]), array([8.])]"
            ]
          },
          "metadata": {},
          "execution_count": 18
        }
      ]
    },
    {
      "cell_type": "code",
      "source": [
        "import numpy as np\n",
        "a = np.arange(35).reshape(7, 5)\n",
        "a"
      ],
      "metadata": {
        "colab": {
          "base_uri": "https://localhost:8080/"
        },
        "id": "eKjVpYrHni0S",
        "outputId": "b32e4524-1dc8-4e10-cf87-b7a8fce937b4"
      },
      "execution_count": null,
      "outputs": [
        {
          "output_type": "execute_result",
          "data": {
            "text/plain": [
              "array([[ 0,  1,  2,  3,  4],\n",
              "       [ 5,  6,  7,  8,  9],\n",
              "       [10, 11, 12, 13, 14],\n",
              "       [15, 16, 17, 18, 19],\n",
              "       [20, 21, 22, 23, 24],\n",
              "       [25, 26, 27, 28, 29],\n",
              "       [30, 31, 32, 33, 34]])"
            ]
          },
          "metadata": {},
          "execution_count": 19
        }
      ]
    },
    {
      "cell_type": "code",
      "source": [
        "np.array_split(a, 2, axis=0)"
      ],
      "metadata": {
        "colab": {
          "base_uri": "https://localhost:8080/"
        },
        "id": "u4fpQ0j7nkFL",
        "outputId": "9b0c3c17-58a6-4fc2-c5bf-2a71c1571667"
      },
      "execution_count": null,
      "outputs": [
        {
          "output_type": "execute_result",
          "data": {
            "text/plain": [
              "[array([[ 0,  1,  2,  3,  4],\n",
              "        [ 5,  6,  7,  8,  9],\n",
              "        [10, 11, 12, 13, 14],\n",
              "        [15, 16, 17, 18, 19]]),\n",
              " array([[20, 21, 22, 23, 24],\n",
              "        [25, 26, 27, 28, 29],\n",
              "        [30, 31, 32, 33, 34]])]"
            ]
          },
          "metadata": {},
          "execution_count": 20
        }
      ]
    },
    {
      "cell_type": "code",
      "source": [
        "np.array_split(a, 2, axis=1)"
      ],
      "metadata": {
        "colab": {
          "base_uri": "https://localhost:8080/"
        },
        "id": "e2oEQd_rnlFy",
        "outputId": "8366a61d-0fc3-4389-e9dc-83f0a9090969"
      },
      "execution_count": null,
      "outputs": [
        {
          "output_type": "execute_result",
          "data": {
            "text/plain": [
              "[array([[ 0,  1,  2],\n",
              "        [ 5,  6,  7],\n",
              "        [10, 11, 12],\n",
              "        [15, 16, 17],\n",
              "        [20, 21, 22],\n",
              "        [25, 26, 27],\n",
              "        [30, 31, 32]]),\n",
              " array([[ 3,  4],\n",
              "        [ 8,  9],\n",
              "        [13, 14],\n",
              "        [18, 19],\n",
              "        [23, 24],\n",
              "        [28, 29],\n",
              "        [33, 34]])]"
            ]
          },
          "metadata": {},
          "execution_count": 21
        }
      ]
    },
    {
      "cell_type": "code",
      "source": [
        "np.array_split(a, 4, axis=0)"
      ],
      "metadata": {
        "colab": {
          "base_uri": "https://localhost:8080/"
        },
        "id": "lfqb6hzLnmIC",
        "outputId": "cc2ea56a-5591-4ddd-b038-9e05c7dee6c8"
      },
      "execution_count": null,
      "outputs": [
        {
          "output_type": "execute_result",
          "data": {
            "text/plain": [
              "[array([[0, 1, 2, 3, 4],\n",
              "        [5, 6, 7, 8, 9]]),\n",
              " array([[10, 11, 12, 13, 14],\n",
              "        [15, 16, 17, 18, 19]]),\n",
              " array([[20, 21, 22, 23, 24],\n",
              "        [25, 26, 27, 28, 29]]),\n",
              " array([[30, 31, 32, 33, 34]])]"
            ]
          },
          "metadata": {},
          "execution_count": 22
        }
      ]
    },
    {
      "cell_type": "code",
      "source": [
        "np.array_split(a, 4, axis=1)"
      ],
      "metadata": {
        "colab": {
          "base_uri": "https://localhost:8080/"
        },
        "id": "c3Sj40aBnnQa",
        "outputId": "27bf2f21-50c8-4209-dbff-7d4ad3ca5618"
      },
      "execution_count": null,
      "outputs": [
        {
          "output_type": "execute_result",
          "data": {
            "text/plain": [
              "[array([[ 0,  1],\n",
              "        [ 5,  6],\n",
              "        [10, 11],\n",
              "        [15, 16],\n",
              "        [20, 21],\n",
              "        [25, 26],\n",
              "        [30, 31]]),\n",
              " array([[ 2],\n",
              "        [ 7],\n",
              "        [12],\n",
              "        [17],\n",
              "        [22],\n",
              "        [27],\n",
              "        [32]]),\n",
              " array([[ 3],\n",
              "        [ 8],\n",
              "        [13],\n",
              "        [18],\n",
              "        [23],\n",
              "        [28],\n",
              "        [33]]),\n",
              " array([[ 4],\n",
              "        [ 9],\n",
              "        [14],\n",
              "        [19],\n",
              "        [24],\n",
              "        [29],\n",
              "        [34]])]"
            ]
          },
          "metadata": {},
          "execution_count": 23
        }
      ]
    },
    {
      "cell_type": "code",
      "source": [
        "np.array_split(a, [2, 4], axis=0)"
      ],
      "metadata": {
        "colab": {
          "base_uri": "https://localhost:8080/"
        },
        "id": "1NEXEBr5noVK",
        "outputId": "b2b2d035-00a5-47fb-c041-f2f08c21dba0"
      },
      "execution_count": null,
      "outputs": [
        {
          "output_type": "execute_result",
          "data": {
            "text/plain": [
              "[array([[0, 1, 2, 3, 4],\n",
              "        [5, 6, 7, 8, 9]]),\n",
              " array([[10, 11, 12, 13, 14],\n",
              "        [15, 16, 17, 18, 19]]),\n",
              " array([[20, 21, 22, 23, 24],\n",
              "        [25, 26, 27, 28, 29],\n",
              "        [30, 31, 32, 33, 34]])]"
            ]
          },
          "metadata": {},
          "execution_count": 24
        }
      ]
    },
    {
      "cell_type": "code",
      "source": [
        "np.array_split(a, [2, 4], axis=1)"
      ],
      "metadata": {
        "colab": {
          "base_uri": "https://localhost:8080/"
        },
        "id": "Wk17XYY-npol",
        "outputId": "d382a0b9-49dc-4a8e-fc50-36b28992ef95"
      },
      "execution_count": null,
      "outputs": [
        {
          "output_type": "execute_result",
          "data": {
            "text/plain": [
              "[array([[ 0,  1],\n",
              "        [ 5,  6],\n",
              "        [10, 11],\n",
              "        [15, 16],\n",
              "        [20, 21],\n",
              "        [25, 26],\n",
              "        [30, 31]]),\n",
              " array([[ 2,  3],\n",
              "        [ 7,  8],\n",
              "        [12, 13],\n",
              "        [17, 18],\n",
              "        [22, 23],\n",
              "        [27, 28],\n",
              "        [32, 33]]),\n",
              " array([[ 4],\n",
              "        [ 9],\n",
              "        [14],\n",
              "        [19],\n",
              "        [24],\n",
              "        [29],\n",
              "        [34]])]"
            ]
          },
          "metadata": {},
          "execution_count": 25
        }
      ]
    },
    {
      "cell_type": "code",
      "source": [
        "import numpy as np\n",
        "\n",
        "x = np.arange(24).reshape(2, 2, 6)\n",
        "x"
      ],
      "metadata": {
        "colab": {
          "base_uri": "https://localhost:8080/"
        },
        "id": "27tl3fJtnqlq",
        "outputId": "9d028422-4237-40b1-f65d-868d302461e6"
      },
      "execution_count": null,
      "outputs": [
        {
          "output_type": "execute_result",
          "data": {
            "text/plain": [
              "array([[[ 0,  1,  2,  3,  4,  5],\n",
              "        [ 6,  7,  8,  9, 10, 11]],\n",
              "\n",
              "       [[12, 13, 14, 15, 16, 17],\n",
              "        [18, 19, 20, 21, 22, 23]]])"
            ]
          },
          "metadata": {},
          "execution_count": 26
        }
      ]
    },
    {
      "cell_type": "code",
      "source": [
        "np.array_split(x, 4, axis=2)"
      ],
      "metadata": {
        "colab": {
          "base_uri": "https://localhost:8080/"
        },
        "id": "XjYyp93Snsha",
        "outputId": "ad975f0d-d397-4105-f222-fbcd115e5f2f"
      },
      "execution_count": null,
      "outputs": [
        {
          "output_type": "execute_result",
          "data": {
            "text/plain": [
              "[array([[[ 0,  1],\n",
              "         [ 6,  7]],\n",
              " \n",
              "        [[12, 13],\n",
              "         [18, 19]]]),\n",
              " array([[[ 2,  3],\n",
              "         [ 8,  9]],\n",
              " \n",
              "        [[14, 15],\n",
              "         [20, 21]]]),\n",
              " array([[[ 4],\n",
              "         [10]],\n",
              " \n",
              "        [[16],\n",
              "         [22]]]),\n",
              " array([[[ 5],\n",
              "         [11]],\n",
              " \n",
              "        [[17],\n",
              "         [23]]])]"
            ]
          },
          "metadata": {},
          "execution_count": 27
        }
      ]
    },
    {
      "cell_type": "code",
      "source": [
        "np.split(x, [2, 4, 5], axis=2)"
      ],
      "metadata": {
        "colab": {
          "base_uri": "https://localhost:8080/"
        },
        "id": "rfRMmdCentye",
        "outputId": "97e1cc90-d21f-44e6-d740-73c22b9d232a"
      },
      "execution_count": null,
      "outputs": [
        {
          "output_type": "execute_result",
          "data": {
            "text/plain": [
              "[array([[[ 0,  1],\n",
              "         [ 6,  7]],\n",
              " \n",
              "        [[12, 13],\n",
              "         [18, 19]]]),\n",
              " array([[[ 2,  3],\n",
              "         [ 8,  9]],\n",
              " \n",
              "        [[14, 15],\n",
              "         [20, 21]]]),\n",
              " array([[[ 4],\n",
              "         [10]],\n",
              " \n",
              "        [[16],\n",
              "         [22]]]),\n",
              " array([[[ 5],\n",
              "         [11]],\n",
              " \n",
              "        [[17],\n",
              "         [23]]])]"
            ]
          },
          "metadata": {},
          "execution_count": 28
        }
      ]
    },
    {
      "cell_type": "code",
      "source": [
        "x[:, :, :5]"
      ],
      "metadata": {
        "colab": {
          "base_uri": "https://localhost:8080/"
        },
        "id": "78yYVQ78nvEy",
        "outputId": "22792d84-ff0b-4fa2-f924-a6f392c92f04"
      },
      "execution_count": null,
      "outputs": [
        {
          "output_type": "execute_result",
          "data": {
            "text/plain": [
              "array([[[ 0,  1,  2,  3,  4],\n",
              "        [ 6,  7,  8,  9, 10]],\n",
              "\n",
              "       [[12, 13, 14, 15, 16],\n",
              "        [18, 19, 20, 21, 22]]])"
            ]
          },
          "metadata": {},
          "execution_count": 29
        }
      ]
    },
    {
      "cell_type": "code",
      "source": [
        "import numpy as np\n",
        "x = np.arange(24).reshape(2, 2, 6)\n",
        "x"
      ],
      "metadata": {
        "colab": {
          "base_uri": "https://localhost:8080/"
        },
        "id": "EwRGQ8cfnwFS",
        "outputId": "095cf621-58b6-4847-cdcc-c60942999282"
      },
      "execution_count": null,
      "outputs": [
        {
          "output_type": "execute_result",
          "data": {
            "text/plain": [
              "array([[[ 0,  1,  2,  3,  4,  5],\n",
              "        [ 6,  7,  8,  9, 10, 11]],\n",
              "\n",
              "       [[12, 13, 14, 15, 16, 17],\n",
              "        [18, 19, 20, 21, 22, 23]]])"
            ]
          },
          "metadata": {},
          "execution_count": 30
        }
      ]
    },
    {
      "cell_type": "code",
      "source": [
        "np.split(x, 2)"
      ],
      "metadata": {
        "colab": {
          "base_uri": "https://localhost:8080/"
        },
        "id": "hazhK_xUnxAL",
        "outputId": "3782c0ce-4c41-45bf-806a-5391e2f4cd1d"
      },
      "execution_count": null,
      "outputs": [
        {
          "output_type": "execute_result",
          "data": {
            "text/plain": [
              "[array([[[ 0,  1,  2,  3,  4,  5],\n",
              "         [ 6,  7,  8,  9, 10, 11]]]),\n",
              " array([[[12, 13, 14, 15, 16, 17],\n",
              "         [18, 19, 20, 21, 22, 23]]])]"
            ]
          },
          "metadata": {},
          "execution_count": 31
        }
      ]
    },
    {
      "cell_type": "code",
      "source": [
        "np.split(x, 2, axis=2)"
      ],
      "metadata": {
        "colab": {
          "base_uri": "https://localhost:8080/"
        },
        "id": "uMoN_mEsnyH0",
        "outputId": "bebb076b-b792-4584-9d10-8427363cf851"
      },
      "execution_count": null,
      "outputs": [
        {
          "output_type": "execute_result",
          "data": {
            "text/plain": [
              "[array([[[ 0,  1,  2],\n",
              "         [ 6,  7,  8]],\n",
              " \n",
              "        [[12, 13, 14],\n",
              "         [18, 19, 20]]]),\n",
              " array([[[ 3,  4,  5],\n",
              "         [ 9, 10, 11]],\n",
              " \n",
              "        [[15, 16, 17],\n",
              "         [21, 22, 23]]])]"
            ]
          },
          "metadata": {},
          "execution_count": 32
        }
      ]
    },
    {
      "cell_type": "code",
      "source": [
        "np.dsplit(x, 3)"
      ],
      "metadata": {
        "colab": {
          "base_uri": "https://localhost:8080/"
        },
        "id": "QKhZ4AtfnzF6",
        "outputId": "e123f737-a5e3-459d-ff2a-563a73bf548e"
      },
      "execution_count": null,
      "outputs": [
        {
          "output_type": "execute_result",
          "data": {
            "text/plain": [
              "[array([[[ 0,  1],\n",
              "         [ 6,  7]],\n",
              " \n",
              "        [[12, 13],\n",
              "         [18, 19]]]),\n",
              " array([[[ 2,  3],\n",
              "         [ 8,  9]],\n",
              " \n",
              "        [[14, 15],\n",
              "         [20, 21]]]),\n",
              " array([[[ 4,  5],\n",
              "         [10, 11]],\n",
              " \n",
              "        [[16, 17],\n",
              "         [22, 23]]])]"
            ]
          },
          "metadata": {},
          "execution_count": 33
        }
      ]
    },
    {
      "cell_type": "code",
      "source": [
        "np.dsplit(x, 4)"
      ],
      "metadata": {
        "colab": {
          "base_uri": "https://localhost:8080/",
          "height": 297
        },
        "id": "YkW0AReIn0IG",
        "outputId": "26fe1063-d2a3-48a2-f4f2-6c05d078454f"
      },
      "execution_count": null,
      "outputs": [
        {
          "output_type": "error",
          "ename": "ValueError",
          "evalue": "array split does not result in an equal division",
          "traceback": [
            "\u001b[0;31m---------------------------------------------------------------------------\u001b[0m",
            "\u001b[0;31mValueError\u001b[0m                                Traceback (most recent call last)",
            "\u001b[0;32m<ipython-input-34-93b882a6b0d3>\u001b[0m in \u001b[0;36m<cell line: 1>\u001b[0;34m()\u001b[0m\n\u001b[0;32m----> 1\u001b[0;31m \u001b[0mnp\u001b[0m\u001b[0;34m.\u001b[0m\u001b[0mdsplit\u001b[0m\u001b[0;34m(\u001b[0m\u001b[0mx\u001b[0m\u001b[0;34m,\u001b[0m \u001b[0;36m4\u001b[0m\u001b[0;34m)\u001b[0m\u001b[0;34m\u001b[0m\u001b[0;34m\u001b[0m\u001b[0m\n\u001b[0m",
            "\u001b[0;32m/usr/local/lib/python3.10/dist-packages/numpy/lib/shape_base.py\u001b[0m in \u001b[0;36mdsplit\u001b[0;34m(ary, indices_or_sections)\u001b[0m\n\u001b[1;32m   1032\u001b[0m     \u001b[0;32mif\u001b[0m \u001b[0m_nx\u001b[0m\u001b[0;34m.\u001b[0m\u001b[0mndim\u001b[0m\u001b[0;34m(\u001b[0m\u001b[0mary\u001b[0m\u001b[0;34m)\u001b[0m \u001b[0;34m<\u001b[0m \u001b[0;36m3\u001b[0m\u001b[0;34m:\u001b[0m\u001b[0;34m\u001b[0m\u001b[0;34m\u001b[0m\u001b[0m\n\u001b[1;32m   1033\u001b[0m         \u001b[0;32mraise\u001b[0m \u001b[0mValueError\u001b[0m\u001b[0;34m(\u001b[0m\u001b[0;34m'dsplit only works on arrays of 3 or more dimensions'\u001b[0m\u001b[0;34m)\u001b[0m\u001b[0;34m\u001b[0m\u001b[0;34m\u001b[0m\u001b[0m\n\u001b[0;32m-> 1034\u001b[0;31m     \u001b[0;32mreturn\u001b[0m \u001b[0msplit\u001b[0m\u001b[0;34m(\u001b[0m\u001b[0mary\u001b[0m\u001b[0;34m,\u001b[0m \u001b[0mindices_or_sections\u001b[0m\u001b[0;34m,\u001b[0m \u001b[0;36m2\u001b[0m\u001b[0;34m)\u001b[0m\u001b[0;34m\u001b[0m\u001b[0;34m\u001b[0m\u001b[0m\n\u001b[0m\u001b[1;32m   1035\u001b[0m \u001b[0;34m\u001b[0m\u001b[0m\n\u001b[1;32m   1036\u001b[0m \u001b[0;34m\u001b[0m\u001b[0m\n",
            "\u001b[0;32m/usr/local/lib/python3.10/dist-packages/numpy/lib/shape_base.py\u001b[0m in \u001b[0;36msplit\u001b[0;34m(ary, indices_or_sections, axis)\u001b[0m\n\u001b[1;32m    862\u001b[0m         \u001b[0mN\u001b[0m \u001b[0;34m=\u001b[0m \u001b[0mary\u001b[0m\u001b[0;34m.\u001b[0m\u001b[0mshape\u001b[0m\u001b[0;34m[\u001b[0m\u001b[0maxis\u001b[0m\u001b[0;34m]\u001b[0m\u001b[0;34m\u001b[0m\u001b[0;34m\u001b[0m\u001b[0m\n\u001b[1;32m    863\u001b[0m         \u001b[0;32mif\u001b[0m \u001b[0mN\u001b[0m \u001b[0;34m%\u001b[0m \u001b[0msections\u001b[0m\u001b[0;34m:\u001b[0m\u001b[0;34m\u001b[0m\u001b[0;34m\u001b[0m\u001b[0m\n\u001b[0;32m--> 864\u001b[0;31m             raise ValueError(\n\u001b[0m\u001b[1;32m    865\u001b[0m                 'array split does not result in an equal division') from None\n\u001b[1;32m    866\u001b[0m     \u001b[0;32mreturn\u001b[0m \u001b[0marray_split\u001b[0m\u001b[0;34m(\u001b[0m\u001b[0mary\u001b[0m\u001b[0;34m,\u001b[0m \u001b[0mindices_or_sections\u001b[0m\u001b[0;34m,\u001b[0m \u001b[0maxis\u001b[0m\u001b[0;34m)\u001b[0m\u001b[0;34m\u001b[0m\u001b[0;34m\u001b[0m\u001b[0m\n",
            "\u001b[0;31mValueError\u001b[0m: array split does not result in an equal division"
          ]
        }
      ]
    },
    {
      "cell_type": "code",
      "source": [
        "np.dsplit(x, [2, 4, 5])"
      ],
      "metadata": {
        "colab": {
          "base_uri": "https://localhost:8080/"
        },
        "id": "xzZeJUuHn19t",
        "outputId": "f72f02de-afde-4be7-a93b-47c8695598ef"
      },
      "execution_count": null,
      "outputs": [
        {
          "output_type": "execute_result",
          "data": {
            "text/plain": [
              "[array([[[ 0,  1],\n",
              "         [ 6,  7]],\n",
              " \n",
              "        [[12, 13],\n",
              "         [18, 19]]]),\n",
              " array([[[ 2,  3],\n",
              "         [ 8,  9]],\n",
              " \n",
              "        [[14, 15],\n",
              "         [20, 21]]]),\n",
              " array([[[ 4],\n",
              "         [10]],\n",
              " \n",
              "        [[16],\n",
              "         [22]]]),\n",
              " array([[[ 5],\n",
              "         [11]],\n",
              " \n",
              "        [[17],\n",
              "         [23]]])]"
            ]
          },
          "metadata": {},
          "execution_count": 35
        }
      ]
    },
    {
      "cell_type": "code",
      "source": [
        "x[:, :, 4:5]"
      ],
      "metadata": {
        "colab": {
          "base_uri": "https://localhost:8080/"
        },
        "id": "hsfIFE3in3Xt",
        "outputId": "22cfe0c9-bf2f-4694-ddf3-9b06b62a3ba1"
      },
      "execution_count": null,
      "outputs": [
        {
          "output_type": "execute_result",
          "data": {
            "text/plain": [
              "array([[[ 4],\n",
              "        [10]],\n",
              "\n",
              "       [[16],\n",
              "        [22]]])"
            ]
          },
          "metadata": {},
          "execution_count": 36
        }
      ]
    },
    {
      "cell_type": "code",
      "source": [
        "import numpy as np\n",
        "rg = np.random.default_rng(12345)\n",
        "rg"
      ],
      "metadata": {
        "colab": {
          "base_uri": "https://localhost:8080/"
        },
        "id": "x_g1papgn4r9",
        "outputId": "2aecb12f-812a-4620-d521-c2aac654ee59"
      },
      "execution_count": null,
      "outputs": [
        {
          "output_type": "execute_result",
          "data": {
            "text/plain": [
              "Generator(PCG64) at 0x7FDD2FE91C40"
            ]
          },
          "metadata": {},
          "execution_count": 37
        }
      ]
    },
    {
      "cell_type": "code",
      "source": [
        "# Generate one random float uniformly distributed over the range [0, 1)\n",
        "r = rg.random()\n",
        "r"
      ],
      "metadata": {
        "colab": {
          "base_uri": "https://localhost:8080/"
        },
        "id": "GGFVwiPln5kO",
        "outputId": "9f1328d9-da5c-4c70-eb7c-58d984328b69"
      },
      "execution_count": null,
      "outputs": [
        {
          "output_type": "execute_result",
          "data": {
            "text/plain": [
              "0.22733602246716966"
            ]
          },
          "metadata": {},
          "execution_count": 38
        }
      ]
    },
    {
      "cell_type": "code",
      "source": [
        "rg.random(5)"
      ],
      "metadata": {
        "colab": {
          "base_uri": "https://localhost:8080/"
        },
        "id": "Dou58s58n6jd",
        "outputId": "a16a255b-42bd-4adf-dd94-d80bc464eb86"
      },
      "execution_count": null,
      "outputs": [
        {
          "output_type": "execute_result",
          "data": {
            "text/plain": [
              "array([0.31675834, 0.79736546, 0.67625467, 0.39110955, 0.33281393])"
            ]
          },
          "metadata": {},
          "execution_count": 39
        }
      ]
    },
    {
      "cell_type": "code",
      "source": [
        "rg.random((4, 3))"
      ],
      "metadata": {
        "colab": {
          "base_uri": "https://localhost:8080/"
        },
        "id": "jSKXZamMn7fp",
        "outputId": "acd4df78-b0c9-4e28-9625-d4f2dd077091"
      },
      "execution_count": null,
      "outputs": [
        {
          "output_type": "execute_result",
          "data": {
            "text/plain": [
              "array([[0.59830875, 0.18673419, 0.67275604],\n",
              "       [0.94180287, 0.24824571, 0.94888115],\n",
              "       [0.66723745, 0.09589794, 0.44183967],\n",
              "       [0.88647992, 0.6974535 , 0.32647286]])"
            ]
          },
          "metadata": {},
          "execution_count": 40
        }
      ]
    },
    {
      "cell_type": "code",
      "source": [
        "import numpy as np\n",
        "rg = np.random.default_rng(12345)\n",
        "r = rg.integers(low=0, high=10, size=3)\n",
        "r"
      ],
      "metadata": {
        "colab": {
          "base_uri": "https://localhost:8080/"
        },
        "id": "ZrO9v0DKn82C",
        "outputId": "c35e4035-2e7d-4224-aabb-104f0c2dfed5"
      },
      "execution_count": null,
      "outputs": [
        {
          "output_type": "execute_result",
          "data": {
            "text/plain": [
              "array([6, 2, 7])"
            ]
          },
          "metadata": {},
          "execution_count": 41
        }
      ]
    },
    {
      "cell_type": "code",
      "source": [
        "rg.integers(1, 7, (3, 4))"
      ],
      "metadata": {
        "colab": {
          "base_uri": "https://localhost:8080/"
        },
        "id": "M0054Jcbn9uK",
        "outputId": "064ddda9-1df2-4a51-ebbd-18b455264e15"
      },
      "execution_count": null,
      "outputs": [
        {
          "output_type": "execute_result",
          "data": {
            "text/plain": [
              "array([[2, 2, 5, 4],\n",
              "       [5, 6, 3, 6],\n",
              "       [2, 4, 4, 2]])"
            ]
          },
          "metadata": {},
          "execution_count": 42
        }
      ]
    },
    {
      "cell_type": "code",
      "source": [
        "import numpy as np\n",
        "rg = np.random.default_rng(seed=42)\n",
        "r = rg.standard_normal(10)\n",
        "r"
      ],
      "metadata": {
        "colab": {
          "base_uri": "https://localhost:8080/"
        },
        "id": "df-fbKjmn-sS",
        "outputId": "de63f287-8ff6-4747-84ca-698eeefe9398"
      },
      "execution_count": null,
      "outputs": [
        {
          "output_type": "execute_result",
          "data": {
            "text/plain": [
              "array([ 0.30471708, -1.03998411,  0.7504512 ,  0.94056472, -1.95103519,\n",
              "       -1.30217951,  0.1278404 , -0.31624259, -0.01680116, -0.85304393])"
            ]
          },
          "metadata": {},
          "execution_count": 43
        }
      ]
    },
    {
      "cell_type": "code",
      "source": [
        "rg.standard_normal((4, 3))"
      ],
      "metadata": {
        "colab": {
          "base_uri": "https://localhost:8080/"
        },
        "id": "zo5yXNTFn_op",
        "outputId": "877eabda-1359-4279-b63f-799f9fe85989"
      },
      "execution_count": null,
      "outputs": [
        {
          "output_type": "execute_result",
          "data": {
            "text/plain": [
              "array([[ 0.87939797,  0.77779194,  0.0660307 ],\n",
              "       [ 1.12724121,  0.46750934, -0.85929246],\n",
              "       [ 0.36875078, -0.9588826 ,  0.8784503 ],\n",
              "       [-0.04992591, -0.18486236, -0.68092954]])"
            ]
          },
          "metadata": {},
          "execution_count": 44
        }
      ]
    },
    {
      "cell_type": "code",
      "source": [
        "import numpy as np\n",
        "import matplotlib as mpl\n",
        "\n",
        "print(np.__version__)\n",
        "print(mpl.__version__)"
      ],
      "metadata": {
        "colab": {
          "base_uri": "https://localhost:8080/"
        },
        "id": "J3h0h5RWoAvh",
        "outputId": "07f5611d-a899-497e-fb4e-4f3842833d5b"
      },
      "execution_count": null,
      "outputs": [
        {
          "output_type": "stream",
          "name": "stdout",
          "text": [
            "1.26.4\n",
            "3.7.1\n"
          ]
        }
      ]
    },
    {
      "cell_type": "code",
      "source": [
        "import matplotlib.pyplot as plt\n",
        "\n",
        "plt.rc('font', family = 'Malgun Gothic')\n",
        "plt.rc('axes', unicode_minus = False)\n",
        "plt.rcParams['font.family'] = 'Malgun Gothic'\n",
        "plt.rcParams['axes.unicode_minus'] = False"
      ],
      "metadata": {
        "id": "fIYZUecQpMqO"
      },
      "execution_count": null,
      "outputs": []
    },
    {
      "cell_type": "code",
      "source": [
        "import matplotlib.pyplot as plt\n",
        "\n",
        "plt.plot([10, 5, 25, 30, 20])\n",
        "plt.show()"
      ],
      "metadata": {
        "colab": {
          "base_uri": "https://localhost:8080/",
          "height": 1000
        },
        "id": "V8u8V5AzpgF1",
        "outputId": "cba7784a-19b2-444a-e3e9-31a67682827f"
      },
      "execution_count": null,
      "outputs": [
        {
          "output_type": "stream",
          "name": "stderr",
          "text": [
            "WARNING:matplotlib.font_manager:findfont: Font family 'Malgun Gothic' not found.\n",
            "WARNING:matplotlib.font_manager:findfont: Font family 'Malgun Gothic' not found.\n",
            "WARNING:matplotlib.font_manager:findfont: Font family 'Malgun Gothic' not found.\n",
            "WARNING:matplotlib.font_manager:findfont: Font family 'Malgun Gothic' not found.\n",
            "WARNING:matplotlib.font_manager:findfont: Font family 'Malgun Gothic' not found.\n",
            "WARNING:matplotlib.font_manager:findfont: Font family 'Malgun Gothic' not found.\n",
            "WARNING:matplotlib.font_manager:findfont: Font family 'Malgun Gothic' not found.\n",
            "WARNING:matplotlib.font_manager:findfont: Font family 'Malgun Gothic' not found.\n",
            "WARNING:matplotlib.font_manager:findfont: Font family 'Malgun Gothic' not found.\n",
            "WARNING:matplotlib.font_manager:findfont: Font family 'Malgun Gothic' not found.\n",
            "WARNING:matplotlib.font_manager:findfont: Font family 'Malgun Gothic' not found.\n",
            "WARNING:matplotlib.font_manager:findfont: Font family 'Malgun Gothic' not found.\n",
            "WARNING:matplotlib.font_manager:findfont: Font family 'Malgun Gothic' not found.\n",
            "WARNING:matplotlib.font_manager:findfont: Font family 'Malgun Gothic' not found.\n",
            "WARNING:matplotlib.font_manager:findfont: Font family 'Malgun Gothic' not found.\n",
            "WARNING:matplotlib.font_manager:findfont: Font family 'Malgun Gothic' not found.\n",
            "WARNING:matplotlib.font_manager:findfont: Font family 'Malgun Gothic' not found.\n",
            "WARNING:matplotlib.font_manager:findfont: Font family 'Malgun Gothic' not found.\n",
            "WARNING:matplotlib.font_manager:findfont: Font family 'Malgun Gothic' not found.\n",
            "WARNING:matplotlib.font_manager:findfont: Font family 'Malgun Gothic' not found.\n",
            "WARNING:matplotlib.font_manager:findfont: Font family 'Malgun Gothic' not found.\n",
            "WARNING:matplotlib.font_manager:findfont: Font family 'Malgun Gothic' not found.\n",
            "WARNING:matplotlib.font_manager:findfont: Font family 'Malgun Gothic' not found.\n",
            "WARNING:matplotlib.font_manager:findfont: Font family 'Malgun Gothic' not found.\n",
            "WARNING:matplotlib.font_manager:findfont: Font family 'Malgun Gothic' not found.\n",
            "WARNING:matplotlib.font_manager:findfont: Font family 'Malgun Gothic' not found.\n",
            "WARNING:matplotlib.font_manager:findfont: Font family 'Malgun Gothic' not found.\n",
            "WARNING:matplotlib.font_manager:findfont: Font family 'Malgun Gothic' not found.\n",
            "WARNING:matplotlib.font_manager:findfont: Font family 'Malgun Gothic' not found.\n",
            "WARNING:matplotlib.font_manager:findfont: Font family 'Malgun Gothic' not found.\n",
            "WARNING:matplotlib.font_manager:findfont: Font family 'Malgun Gothic' not found.\n",
            "WARNING:matplotlib.font_manager:findfont: Font family 'Malgun Gothic' not found.\n",
            "WARNING:matplotlib.font_manager:findfont: Font family 'Malgun Gothic' not found.\n",
            "WARNING:matplotlib.font_manager:findfont: Font family 'Malgun Gothic' not found.\n",
            "WARNING:matplotlib.font_manager:findfont: Font family 'Malgun Gothic' not found.\n",
            "WARNING:matplotlib.font_manager:findfont: Font family 'Malgun Gothic' not found.\n",
            "WARNING:matplotlib.font_manager:findfont: Font family 'Malgun Gothic' not found.\n",
            "WARNING:matplotlib.font_manager:findfont: Font family 'Malgun Gothic' not found.\n",
            "WARNING:matplotlib.font_manager:findfont: Font family 'Malgun Gothic' not found.\n",
            "WARNING:matplotlib.font_manager:findfont: Font family 'Malgun Gothic' not found.\n",
            "WARNING:matplotlib.font_manager:findfont: Font family 'Malgun Gothic' not found.\n",
            "WARNING:matplotlib.font_manager:findfont: Font family 'Malgun Gothic' not found.\n",
            "WARNING:matplotlib.font_manager:findfont: Font family 'Malgun Gothic' not found.\n",
            "WARNING:matplotlib.font_manager:findfont: Font family 'Malgun Gothic' not found.\n",
            "WARNING:matplotlib.font_manager:findfont: Font family 'Malgun Gothic' not found.\n",
            "WARNING:matplotlib.font_manager:findfont: Font family 'Malgun Gothic' not found.\n",
            "WARNING:matplotlib.font_manager:findfont: Font family 'Malgun Gothic' not found.\n"
          ]
        },
        {
          "output_type": "display_data",
          "data": {
            "text/plain": [
              "<Figure size 640x480 with 1 Axes>"
            ],
            "image/png": "[encoded data removed]"
          },
          "metadata": {}
        }
      ]
    },
    {
      "cell_type": "code",
      "source": [
        "import matplotlib.pyplot as plt\n",
        "\n",
        "plt.rcParams['font.family'] = 'Malgun Gothic'\n",
        "plt.rcParams['axes.unicode_minus'] = False\n",
        "\n",
        "plt.plot([1, 3, 5, 7, 9], [8, 6, 17, 22, 3])\n",
        "plt.title('직선 그래프 그리기')\n",
        "plt.show()"
      ],
      "metadata": {
        "colab": {
          "base_uri": "https://localhost:8080/",
          "height": 1000
        },
        "id": "Z0uYG_x-p6ot",
        "outputId": "a9b346c4-5c59-4086-e879-474cf8af0cf1"
      },
      "execution_count": null,
      "outputs": [
        {
          "output_type": "stream",
          "name": "stderr",
          "text": [
            "WARNING:matplotlib.font_manager:findfont: Font family 'Malgun Gothic' not found.\n",
            "WARNING:matplotlib.font_manager:findfont: Font family 'Malgun Gothic' not found.\n",
            "WARNING:matplotlib.font_manager:findfont: Font family 'Malgun Gothic' not found.\n",
            "WARNING:matplotlib.font_manager:findfont: Font family 'Malgun Gothic' not found.\n",
            "WARNING:matplotlib.font_manager:findfont: Font family 'Malgun Gothic' not found.\n",
            "WARNING:matplotlib.font_manager:findfont: Font family 'Malgun Gothic' not found.\n",
            "WARNING:matplotlib.font_manager:findfont: Font family 'Malgun Gothic' not found.\n",
            "WARNING:matplotlib.font_manager:findfont: Font family 'Malgun Gothic' not found.\n",
            "WARNING:matplotlib.font_manager:findfont: Font family 'Malgun Gothic' not found.\n",
            "WARNING:matplotlib.font_manager:findfont: Font family 'Malgun Gothic' not found.\n",
            "WARNING:matplotlib.font_manager:findfont: Font family 'Malgun Gothic' not found.\n",
            "WARNING:matplotlib.font_manager:findfont: Font family 'Malgun Gothic' not found.\n",
            "WARNING:matplotlib.font_manager:findfont: Font family 'Malgun Gothic' not found.\n",
            "WARNING:matplotlib.font_manager:findfont: Font family 'Malgun Gothic' not found.\n",
            "WARNING:matplotlib.font_manager:findfont: Font family 'Malgun Gothic' not found.\n",
            "WARNING:matplotlib.font_manager:findfont: Font family 'Malgun Gothic' not found.\n",
            "WARNING:matplotlib.font_manager:findfont: Font family 'Malgun Gothic' not found.\n",
            "WARNING:matplotlib.font_manager:findfont: Font family 'Malgun Gothic' not found.\n",
            "WARNING:matplotlib.font_manager:findfont: Font family 'Malgun Gothic' not found.\n",
            "WARNING:matplotlib.font_manager:findfont: Font family 'Malgun Gothic' not found.\n",
            "WARNING:matplotlib.font_manager:findfont: Font family 'Malgun Gothic' not found.\n",
            "WARNING:matplotlib.font_manager:findfont: Font family 'Malgun Gothic' not found.\n",
            "WARNING:matplotlib.font_manager:findfont: Font family 'Malgun Gothic' not found.\n",
            "WARNING:matplotlib.font_manager:findfont: Font family 'Malgun Gothic' not found.\n",
            "WARNING:matplotlib.font_manager:findfont: Font family 'Malgun Gothic' not found.\n",
            "WARNING:matplotlib.font_manager:findfont: Font family 'Malgun Gothic' not found.\n",
            "WARNING:matplotlib.font_manager:findfont: Font family 'Malgun Gothic' not found.\n",
            "WARNING:matplotlib.font_manager:findfont: Font family 'Malgun Gothic' not found.\n",
            "WARNING:matplotlib.font_manager:findfont: Font family 'Malgun Gothic' not found.\n",
            "WARNING:matplotlib.font_manager:findfont: Font family 'Malgun Gothic' not found.\n",
            "WARNING:matplotlib.font_manager:findfont: Font family 'Malgun Gothic' not found.\n",
            "WARNING:matplotlib.font_manager:findfont: Font family 'Malgun Gothic' not found.\n",
            "WARNING:matplotlib.font_manager:findfont: Font family 'Malgun Gothic' not found.\n",
            "WARNING:matplotlib.font_manager:findfont: Font family 'Malgun Gothic' not found.\n",
            "WARNING:matplotlib.font_manager:findfont: Font family 'Malgun Gothic' not found.\n",
            "WARNING:matplotlib.font_manager:findfont: Font family 'Malgun Gothic' not found.\n",
            "WARNING:matplotlib.font_manager:findfont: Font family 'Malgun Gothic' not found.\n",
            "WARNING:matplotlib.font_manager:findfont: Font family 'Malgun Gothic' not found.\n",
            "WARNING:matplotlib.font_manager:findfont: Font family 'Malgun Gothic' not found.\n",
            "WARNING:matplotlib.font_manager:findfont: Font family 'Malgun Gothic' not found.\n",
            "WARNING:matplotlib.font_manager:findfont: Font family 'Malgun Gothic' not found.\n",
            "WARNING:matplotlib.font_manager:findfont: Font family 'Malgun Gothic' not found.\n",
            "WARNING:matplotlib.font_manager:findfont: Font family 'Malgun Gothic' not found.\n",
            "WARNING:matplotlib.font_manager:findfont: Font family 'Malgun Gothic' not found.\n",
            "WARNING:matplotlib.font_manager:findfont: Font family 'Malgun Gothic' not found.\n",
            "WARNING:matplotlib.font_manager:findfont: Font family 'Malgun Gothic' not found.\n",
            "WARNING:matplotlib.font_manager:findfont: Font family 'Malgun Gothic' not found.\n",
            "WARNING:matplotlib.font_manager:findfont: Font family 'Malgun Gothic' not found.\n",
            "WARNING:matplotlib.font_manager:findfont: Font family 'Malgun Gothic' not found.\n",
            "WARNING:matplotlib.font_manager:findfont: Font family 'Malgun Gothic' not found.\n",
            "WARNING:matplotlib.font_manager:findfont: Font family 'Malgun Gothic' not found.\n",
            "WARNING:matplotlib.font_manager:findfont: Font family 'Malgun Gothic' not found.\n",
            "WARNING:matplotlib.font_manager:findfont: Font family 'Malgun Gothic' not found.\n",
            "WARNING:matplotlib.font_manager:findfont: Font family 'Malgun Gothic' not found.\n",
            "WARNING:matplotlib.font_manager:findfont: Font family 'Malgun Gothic' not found.\n",
            "WARNING:matplotlib.font_manager:findfont: Font family 'Malgun Gothic' not found.\n",
            "WARNING:matplotlib.font_manager:findfont: Font family 'Malgun Gothic' not found.\n",
            "WARNING:matplotlib.font_manager:findfont: Font family 'Malgun Gothic' not found.\n",
            "WARNING:matplotlib.font_manager:findfont: Font family 'Malgun Gothic' not found.\n",
            "WARNING:matplotlib.font_manager:findfont: Font family 'Malgun Gothic' not found.\n",
            "WARNING:matplotlib.font_manager:findfont: Font family 'Malgun Gothic' not found.\n"
          ]
        },
        {
          "output_type": "display_data",
          "data": {
            "text/plain": [
              "<Figure size 640x480 with 1 Axes>"
            ],
            "image/png": "[encoded data removed]"
          },
          "metadata": {}
        }
      ]
    },
    {
      "cell_type": "code",
      "source": [
        "import matplotlib.pyplot as plt\n",
        "\n",
        "#데이터 생성\n",
        "\n",
        "x = [1, 2, 3, 4, 5]\n",
        "y = [2, 3, 5, 7, 11]\n",
        "\n",
        "#선 플롯 생성\n",
        "\n",
        "plt.plot(x, y, marker = 'o', linestyle = '-', color = 'b', label = '소수(Prime Numbers)')\n",
        "\n",
        "#축 및 제목 생성\n",
        "\n",
        "plt.xlabel('X-축 (axis)')\n",
        "plt.ylabel('Y-축 (axis)')\n",
        "plt.title('소수 그리기 (Prime Numbers Plot)')\n",
        "plt.legend()\n",
        "\n",
        "#플롯 표시\n",
        "plt.show()"
      ],
      "metadata": {
        "colab": {
          "base_uri": "https://localhost:8080/",
          "height": 1000
        },
        "id": "hLAlKj_4qRme",
        "outputId": "8f6da2a6-4cd2-44cd-ccd3-86cbc2597b98"
      },
      "execution_count": null,
      "outputs": [
        {
          "output_type": "stream",
          "name": "stderr",
          "text": [
            "WARNING:matplotlib.font_manager:findfont: Font family 'Malgun Gothic' not found.\n",
            "WARNING:matplotlib.font_manager:findfont: Font family 'Malgun Gothic' not found.\n",
            "WARNING:matplotlib.font_manager:findfont: Font family 'Malgun Gothic' not found.\n",
            "WARNING:matplotlib.font_manager:findfont: Font family 'Malgun Gothic' not found.\n",
            "WARNING:matplotlib.font_manager:findfont: Font family 'Malgun Gothic' not found.\n",
            "WARNING:matplotlib.font_manager:findfont: Font family 'Malgun Gothic' not found.\n",
            "WARNING:matplotlib.font_manager:findfont: Font family 'Malgun Gothic' not found.\n",
            "/usr/local/lib/python3.10/dist-packages/IPython/core/pylabtools.py:151: UserWarning: Glyph 52629 (\\N{HANGUL SYLLABLE CUG}) missing from current font.\n",
            "  fig.canvas.print_figure(bytes_io, **kw)\n",
            "WARNING:matplotlib.font_manager:findfont: Font family 'Malgun Gothic' not found.\n",
            "WARNING:matplotlib.font_manager:findfont: Font family 'Malgun Gothic' not found.\n",
            "/usr/local/lib/python3.10/dist-packages/IPython/core/pylabtools.py:151: UserWarning: Glyph 49548 (\\N{HANGUL SYLLABLE SO}) missing from current font.\n",
            "  fig.canvas.print_figure(bytes_io, **kw)\n",
            "/usr/local/lib/python3.10/dist-packages/IPython/core/pylabtools.py:151: UserWarning: Glyph 49688 (\\N{HANGUL SYLLABLE SU}) missing from current font.\n",
            "  fig.canvas.print_figure(bytes_io, **kw)\n",
            "/usr/local/lib/python3.10/dist-packages/IPython/core/pylabtools.py:151: UserWarning: Glyph 44536 (\\N{HANGUL SYLLABLE GEU}) missing from current font.\n",
            "  fig.canvas.print_figure(bytes_io, **kw)\n",
            "/usr/local/lib/python3.10/dist-packages/IPython/core/pylabtools.py:151: UserWarning: Glyph 47532 (\\N{HANGUL SYLLABLE RI}) missing from current font.\n",
            "  fig.canvas.print_figure(bytes_io, **kw)\n",
            "/usr/local/lib/python3.10/dist-packages/IPython/core/pylabtools.py:151: UserWarning: Glyph 44592 (\\N{HANGUL SYLLABLE GI}) missing from current font.\n",
            "  fig.canvas.print_figure(bytes_io, **kw)\n",
            "WARNING:matplotlib.font_manager:findfont: Font family 'Malgun Gothic' not found.\n",
            "WARNING:matplotlib.font_manager:findfont: Font family 'Malgun Gothic' not found.\n",
            "WARNING:matplotlib.font_manager:findfont: Font family 'Malgun Gothic' not found.\n",
            "WARNING:matplotlib.font_manager:findfont: Font family 'Malgun Gothic' not found.\n",
            "WARNING:matplotlib.font_manager:findfont: Font family 'Malgun Gothic' not found.\n",
            "WARNING:matplotlib.font_manager:findfont: Font family 'Malgun Gothic' not found.\n",
            "WARNING:matplotlib.font_manager:findfont: Font family 'Malgun Gothic' not found.\n",
            "WARNING:matplotlib.font_manager:findfont: Font family 'Malgun Gothic' not found.\n",
            "WARNING:matplotlib.font_manager:findfont: Font family 'Malgun Gothic' not found.\n",
            "WARNING:matplotlib.font_manager:findfont: Font family 'Malgun Gothic' not found.\n",
            "WARNING:matplotlib.font_manager:findfont: Font family 'Malgun Gothic' not found.\n",
            "WARNING:matplotlib.font_manager:findfont: Font family 'Malgun Gothic' not found.\n",
            "WARNING:matplotlib.font_manager:findfont: Font family 'Malgun Gothic' not found.\n",
            "WARNING:matplotlib.font_manager:findfont: Font family 'Malgun Gothic' not found.\n",
            "WARNING:matplotlib.font_manager:findfont: Font family 'Malgun Gothic' not found.\n",
            "WARNING:matplotlib.font_manager:findfont: Font family 'Malgun Gothic' not found.\n",
            "WARNING:matplotlib.font_manager:findfont: Font family 'Malgun Gothic' not found.\n",
            "WARNING:matplotlib.font_manager:findfont: Font family 'Malgun Gothic' not found.\n",
            "WARNING:matplotlib.font_manager:findfont: Font family 'Malgun Gothic' not found.\n",
            "WARNING:matplotlib.font_manager:findfont: Font family 'Malgun Gothic' not found.\n",
            "WARNING:matplotlib.font_manager:findfont: Font family 'Malgun Gothic' not found.\n",
            "WARNING:matplotlib.font_manager:findfont: Font family 'Malgun Gothic' not found.\n",
            "WARNING:matplotlib.font_manager:findfont: Font family 'Malgun Gothic' not found.\n",
            "WARNING:matplotlib.font_manager:findfont: Font family 'Malgun Gothic' not found.\n",
            "WARNING:matplotlib.font_manager:findfont: Font family 'Malgun Gothic' not found.\n",
            "WARNING:matplotlib.font_manager:findfont: Font family 'Malgun Gothic' not found.\n",
            "WARNING:matplotlib.font_manager:findfont: Font family 'Malgun Gothic' not found.\n",
            "WARNING:matplotlib.font_manager:findfont: Font family 'Malgun Gothic' not found.\n",
            "WARNING:matplotlib.font_manager:findfont: Font family 'Malgun Gothic' not found.\n",
            "WARNING:matplotlib.font_manager:findfont: Font family 'Malgun Gothic' not found.\n",
            "WARNING:matplotlib.font_manager:findfont: Font family 'Malgun Gothic' not found.\n",
            "WARNING:matplotlib.font_manager:findfont: Font family 'Malgun Gothic' not found.\n",
            "WARNING:matplotlib.font_manager:findfont: Font family 'Malgun Gothic' not found.\n",
            "WARNING:matplotlib.font_manager:findfont: Font family 'Malgun Gothic' not found.\n",
            "WARNING:matplotlib.font_manager:findfont: Font family 'Malgun Gothic' not found.\n",
            "WARNING:matplotlib.font_manager:findfont: Font family 'Malgun Gothic' not found.\n",
            "WARNING:matplotlib.font_manager:findfont: Font family 'Malgun Gothic' not found.\n",
            "WARNING:matplotlib.font_manager:findfont: Font family 'Malgun Gothic' not found.\n",
            "WARNING:matplotlib.font_manager:findfont: Font family 'Malgun Gothic' not found.\n",
            "WARNING:matplotlib.font_manager:findfont: Font family 'Malgun Gothic' not found.\n",
            "WARNING:matplotlib.font_manager:findfont: Font family 'Malgun Gothic' not found.\n",
            "WARNING:matplotlib.font_manager:findfont: Font family 'Malgun Gothic' not found.\n",
            "WARNING:matplotlib.font_manager:findfont: Font family 'Malgun Gothic' not found.\n",
            "WARNING:matplotlib.font_manager:findfont: Font family 'Malgun Gothic' not found.\n",
            "WARNING:matplotlib.font_manager:findfont: Font family 'Malgun Gothic' not found.\n",
            "WARNING:matplotlib.font_manager:findfont: Font family 'Malgun Gothic' not found.\n",
            "WARNING:matplotlib.font_manager:findfont: Font family 'Malgun Gothic' not found.\n",
            "WARNING:matplotlib.font_manager:findfont: Font family 'Malgun Gothic' not found.\n",
            "WARNING:matplotlib.font_manager:findfont: Font family 'Malgun Gothic' not found.\n",
            "WARNING:matplotlib.font_manager:findfont: Font family 'Malgun Gothic' not found.\n",
            "WARNING:matplotlib.font_manager:findfont: Font family 'Malgun Gothic' not found.\n",
            "WARNING:matplotlib.font_manager:findfont: Font family 'Malgun Gothic' not found.\n",
            "WARNING:matplotlib.font_manager:findfont: Font family 'Malgun Gothic' not found.\n",
            "WARNING:matplotlib.font_manager:findfont: Font family 'Malgun Gothic' not found.\n",
            "WARNING:matplotlib.font_manager:findfont: Font family 'Malgun Gothic' not found.\n",
            "WARNING:matplotlib.font_manager:findfont: Font family 'Malgun Gothic' not found.\n",
            "WARNING:matplotlib.font_manager:findfont: Font family 'Malgun Gothic' not found.\n",
            "WARNING:matplotlib.font_manager:findfont: Font family 'Malgun Gothic' not found.\n",
            "WARNING:matplotlib.font_manager:findfont: Font family 'Malgun Gothic' not found.\n",
            "WARNING:matplotlib.font_manager:findfont: Font family 'Malgun Gothic' not found.\n",
            "WARNING:matplotlib.font_manager:findfont: Font family 'Malgun Gothic' not found.\n",
            "WARNING:matplotlib.font_manager:findfont: Font family 'Malgun Gothic' not found.\n"
          ]
        },
        {
          "output_type": "display_data",
          "data": {
            "text/plain": [
              "<Figure size 640x480 with 1 Axes>"
            ],
            "image/png": "[encoded data removed]"
          },
          "metadata": {}
        }
      ]
    },
    {
      "cell_type": "code",
      "source": [
        "import matplotlib.pyplot as plt\n",
        "\n",
        "plt.plot([1, 2, 3, 4], [10, 20, 30, 40], color = 'r', linestyle = '--', marker = 'd', linewidth = 3, label = 'thick line')\n",
        "\n",
        "plt.plot([1, 2, 3, 4], [40, 30, 20, 10], 'b', ls = ':', marker = '^', lw = 0.5, label = 'thin line')\n",
        "\n",
        "plt.title('속성 marker linewidth linestyle')\n",
        "plt.xlabel('X-축 (axis)')\n",
        "plt.ylabel('Y-축 (axis)')\n",
        "plt.legend()\n",
        "plt.show()"
      ],
      "metadata": {
        "colab": {
          "base_uri": "https://localhost:8080/"
        },
        "id": "Nrlh8MD-q_f9",
        "outputId": "a4232a7a-7173-4267-87a5-02c225b740f3"
      },
      "execution_count": null,
      "outputs": [
        {
          "output_type": "stream",
          "name": "stderr",
          "text": [
            "WARNING:matplotlib.font_manager:findfont: Font family 'Malgun Gothic' not found.\n",
            "WARNING:matplotlib.font_manager:findfont: Font family 'Malgun Gothic' not found.\n",
            "WARNING:matplotlib.font_manager:findfont: Font family 'Malgun Gothic' not found.\n",
            "WARNING:matplotlib.font_manager:findfont: Font family 'Malgun Gothic' not found.\n",
            "WARNING:matplotlib.font_manager:findfont: Font family 'Malgun Gothic' not found.\n",
            "WARNING:matplotlib.font_manager:findfont: Font family 'Malgun Gothic' not found.\n",
            "WARNING:matplotlib.font_manager:findfont: Font family 'Malgun Gothic' not found.\n",
            "WARNING:matplotlib.font_manager:findfont: Font family 'Malgun Gothic' not found.\n",
            "WARNING:matplotlib.font_manager:findfont: Font family 'Malgun Gothic' not found.\n",
            "/usr/local/lib/python3.10/dist-packages/IPython/core/pylabtools.py:151: UserWarning: Glyph 52629 (\\N{HANGUL SYLLABLE CUG}) missing from current font.\n",
            "  fig.canvas.print_figure(bytes_io, **kw)\n",
            "WARNING:matplotlib.font_manager:findfont: Font family 'Malgun Gothic' not found.\n",
            "WARNING:matplotlib.font_manager:findfont: Font family 'Malgun Gothic' not found.\n",
            "/usr/local/lib/python3.10/dist-packages/IPython/core/pylabtools.py:151: UserWarning: Glyph 49549 (\\N{HANGUL SYLLABLE SOG}) missing from current font.\n",
            "  fig.canvas.print_figure(bytes_io, **kw)\n",
            "/usr/local/lib/python3.10/dist-packages/IPython/core/pylabtools.py:151: UserWarning: Glyph 49457 (\\N{HANGUL SYLLABLE SEONG}) missing from current font.\n",
            "  fig.canvas.print_figure(bytes_io, **kw)\n",
            "WARNING:matplotlib.font_manager:findfont: Font family 'Malgun Gothic' not found.\n",
            "WARNING:matplotlib.font_manager:findfont: Font family 'Malgun Gothic' not found.\n",
            "WARNING:matplotlib.font_manager:findfont: Font family 'Malgun Gothic' not found.\n",
            "WARNING:matplotlib.font_manager:findfont: Font family 'Malgun Gothic' not found.\n",
            "WARNING:matplotlib.font_manager:findfont: Font family 'Malgun Gothic' not found.\n",
            "WARNING:matplotlib.font_manager:findfont: Font family 'Malgun Gothic' not found.\n",
            "WARNING:matplotlib.font_manager:findfont: Font family 'Malgun Gothic' not found.\n",
            "WARNING:matplotlib.font_manager:findfont: Font family 'Malgun Gothic' not found.\n",
            "WARNING:matplotlib.font_manager:findfont: Font family 'Malgun Gothic' not found.\n",
            "WARNING:matplotlib.font_manager:findfont: Font family 'Malgun Gothic' not found.\n",
            "WARNING:matplotlib.font_manager:findfont: Font family 'Malgun Gothic' not found.\n",
            "WARNING:matplotlib.font_manager:findfont: Font family 'Malgun Gothic' not found.\n",
            "WARNING:matplotlib.font_manager:findfont: Font family 'Malgun Gothic' not found.\n",
            "WARNING:matplotlib.font_manager:findfont: Font family 'Malgun Gothic' not found.\n",
            "WARNING:matplotlib.font_manager:findfont: Font family 'Malgun Gothic' not found.\n",
            "WARNING:matplotlib.font_manager:findfont: Font family 'Malgun Gothic' not found.\n",
            "WARNING:matplotlib.font_manager:findfont: Font family 'Malgun Gothic' not found.\n",
            "WARNING:matplotlib.font_manager:findfont: Font family 'Malgun Gothic' not found.\n",
            "WARNING:matplotlib.font_manager:findfont: Font family 'Malgun Gothic' not found.\n",
            "WARNING:matplotlib.font_manager:findfont: Font family 'Malgun Gothic' not found.\n",
            "WARNING:matplotlib.font_manager:findfont: Font family 'Malgun Gothic' not found.\n",
            "WARNING:matplotlib.font_manager:findfont: Font family 'Malgun Gothic' not found.\n",
            "WARNING:matplotlib.font_manager:findfont: Font family 'Malgun Gothic' not found.\n",
            "WARNING:matplotlib.font_manager:findfont: Font family 'Malgun Gothic' not found.\n",
            "WARNING:matplotlib.font_manager:findfont: Font family 'Malgun Gothic' not found.\n",
            "WARNING:matplotlib.font_manager:findfont: Font family 'Malgun Gothic' not found.\n",
            "WARNING:matplotlib.font_manager:findfont: Font family 'Malgun Gothic' not found.\n",
            "WARNING:matplotlib.font_manager:findfont: Font family 'Malgun Gothic' not found.\n",
            "WARNING:matplotlib.font_manager:findfont: Font family 'Malgun Gothic' not found.\n",
            "WARNING:matplotlib.font_manager:findfont: Font family 'Malgun Gothic' not found.\n",
            "WARNING:matplotlib.font_manager:findfont: Font family 'Malgun Gothic' not found.\n",
            "WARNING:matplotlib.font_manager:findfont: Font family 'Malgun Gothic' not found.\n",
            "WARNING:matplotlib.font_manager:findfont: Font family 'Malgun Gothic' not found.\n",
            "WARNING:matplotlib.font_manager:findfont: Font family 'Malgun Gothic' not found.\n",
            "WARNING:matplotlib.font_manager:findfont: Font family 'Malgun Gothic' not found.\n",
            "WARNING:matplotlib.font_manager:findfont: Font family 'Malgun Gothic' not found.\n",
            "WARNING:matplotlib.font_manager:findfont: Font family 'Malgun Gothic' not found.\n",
            "WARNING:matplotlib.font_manager:findfont: Font family 'Malgun Gothic' not found.\n",
            "WARNING:matplotlib.font_manager:findfont: Font family 'Malgun Gothic' not found.\n",
            "WARNING:matplotlib.font_manager:findfont: Font family 'Malgun Gothic' not found.\n",
            "WARNING:matplotlib.font_manager:findfont: Font family 'Malgun Gothic' not found.\n",
            "WARNING:matplotlib.font_manager:findfont: Font family 'Malgun Gothic' not found.\n",
            "WARNING:matplotlib.font_manager:findfont: Font family 'Malgun Gothic' not found.\n",
            "WARNING:matplotlib.font_manager:findfont: Font family 'Malgun Gothic' not found.\n",
            "WARNING:matplotlib.font_manager:findfont: Font family 'Malgun Gothic' not found.\n",
            "WARNING:matplotlib.font_manager:findfont: Font family 'Malgun Gothic' not found.\n",
            "WARNING:matplotlib.font_manager:findfont: Font family 'Malgun Gothic' not found.\n",
            "WARNING:matplotlib.font_manager:findfont: Font family 'Malgun Gothic' not found.\n",
            "WARNING:matplotlib.font_manager:findfont: Font family 'Malgun Gothic' not found.\n",
            "WARNING:matplotlib.font_manager:findfont: Font family 'Malgun Gothic' not found.\n",
            "WARNING:matplotlib.font_manager:findfont: Font family 'Malgun Gothic' not found.\n",
            "WARNING:matplotlib.font_manager:findfont: Font family 'Malgun Gothic' not found.\n",
            "WARNING:matplotlib.font_manager:findfont: Font family 'Malgun Gothic' not found.\n",
            "WARNING:matplotlib.font_manager:findfont: Font family 'Malgun Gothic' not found.\n",
            "WARNING:matplotlib.font_manager:findfont: Font family 'Malgun Gothic' not found.\n",
            "WARNING:matplotlib.font_manager:findfont: Font family 'Malgun Gothic' not found.\n",
            "WARNING:matplotlib.font_manager:findfont: Font family 'Malgun Gothic' not found.\n",
            "WARNING:matplotlib.font_manager:findfont: Font family 'Malgun Gothic' not found.\n",
            "WARNING:matplotlib.font_manager:findfont: Font family 'Malgun Gothic' not found.\n",
            "WARNING:matplotlib.font_manager:findfont: Font family 'Malgun Gothic' not found.\n",
            "WARNING:matplotlib.font_manager:findfont: Font family 'Malgun Gothic' not found.\n",
            "WARNING:matplotlib.font_manager:findfont: Font family 'Malgun Gothic' not found.\n",
            "WARNING:matplotlib.font_manager:findfont: Font family 'Malgun Gothic' not found.\n",
            "WARNING:matplotlib.font_manager:findfont: Font family 'Malgun Gothic' not found.\n",
            "WARNING:matplotlib.font_manager:findfont: Font family 'Malgun Gothic' not found.\n",
            "WARNING:matplotlib.font_manager:findfont: Font family 'Malgun Gothic' not found.\n",
            "WARNING:matplotlib.font_manager:findfont: Font family 'Malgun Gothic' not found.\n",
            "WARNING:matplotlib.font_manager:findfont: Font family 'Malgun Gothic' not found.\n",
            "WARNING:matplotlib.font_manager:findfont: Font family 'Malgun Gothic' not found.\n",
            "WARNING:matplotlib.font_manager:findfont: Font family 'Malgun Gothic' not found.\n",
            "WARNING:matplotlib.font_manager:findfont: Font family 'Malgun Gothic' not found.\n",
            "WARNING:matplotlib.font_manager:findfont: Font family 'Malgun Gothic' not found.\n",
            "WARNING:matplotlib.font_manager:findfont: Font family 'Malgun Gothic' not found.\n",
            "WARNING:matplotlib.font_manager:findfont: Font family 'Malgun Gothic' not found.\n",
            "WARNING:matplotlib.font_manager:findfont: Font family 'Malgun Gothic' not found.\n",
            "WARNING:matplotlib.font_manager:findfont: Font family 'Malgun Gothic' not found.\n"
          ]
        }
      ]
    },
    {
      "cell_type": "code",
      "source": [
        "import numpy as np\n",
        "import matplotlib.pyplot as plt\n",
        "\n",
        "#Fixing random state for reproducibility\n",
        "np.random.seed(2025)\n",
        "\n",
        "N = 80\n",
        "x = np.random.rand(N)\n",
        "y = np.random.rand(N)\n",
        "colors = np.random.rand(N)\n",
        "area = (20 * np.random.rand(N)) ** 2 # 0 to 15 point radii\n",
        "\n",
        "plt.scatter(x, y, s = area, c = colors, alpha = 0.7)\n",
        "plt.acolorbar()\n",
        "plt.show()"
      ],
      "metadata": {
        "colab": {
          "base_uri": "https://localhost:8080/",
          "height": 1000
        },
        "id": "T18SHFLdrsZa",
        "outputId": "2d6f10eb-af18-4220-ea21-699eaec0f1af"
      },
      "execution_count": null,
      "outputs": [
        {
          "output_type": "error",
          "ename": "AttributeError",
          "evalue": "module 'matplotlib.pyplot' has no attribute 'acolorbar'",
          "traceback": [
            "\u001b[0;31m---------------------------------------------------------------------------\u001b[0m",
            "\u001b[0;31mAttributeError\u001b[0m                            Traceback (most recent call last)",
            "\u001b[0;32m<ipython-input-54-cab6519f2027>\u001b[0m in \u001b[0;36m<cell line: 14>\u001b[0;34m()\u001b[0m\n\u001b[1;32m     12\u001b[0m \u001b[0;34m\u001b[0m\u001b[0m\n\u001b[1;32m     13\u001b[0m \u001b[0mplt\u001b[0m\u001b[0;34m.\u001b[0m\u001b[0mscatter\u001b[0m\u001b[0;34m(\u001b[0m\u001b[0mx\u001b[0m\u001b[0;34m,\u001b[0m \u001b[0my\u001b[0m\u001b[0;34m,\u001b[0m \u001b[0ms\u001b[0m \u001b[0;34m=\u001b[0m \u001b[0marea\u001b[0m\u001b[0;34m,\u001b[0m \u001b[0mc\u001b[0m \u001b[0;34m=\u001b[0m \u001b[0mcolors\u001b[0m\u001b[0;34m,\u001b[0m \u001b[0malpha\u001b[0m \u001b[0;34m=\u001b[0m \u001b[0;36m0.7\u001b[0m\u001b[0;34m)\u001b[0m\u001b[0;34m\u001b[0m\u001b[0;34m\u001b[0m\u001b[0m\n\u001b[0;32m---> 14\u001b[0;31m \u001b[0mplt\u001b[0m\u001b[0;34m.\u001b[0m\u001b[0macolorbar\u001b[0m\u001b[0;34m(\u001b[0m\u001b[0;34m)\u001b[0m\u001b[0;34m\u001b[0m\u001b[0;34m\u001b[0m\u001b[0m\n\u001b[0m\u001b[1;32m     15\u001b[0m \u001b[0mplt\u001b[0m\u001b[0;34m.\u001b[0m\u001b[0mshow\u001b[0m\u001b[0;34m(\u001b[0m\u001b[0;34m)\u001b[0m\u001b[0;34m\u001b[0m\u001b[0;34m\u001b[0m\u001b[0m\n",
            "\u001b[0;31mAttributeError\u001b[0m: module 'matplotlib.pyplot' has no attribute 'acolorbar'"
          ]
        },
        {
          "output_type": "stream",
          "name": "stderr",
          "text": [
            "WARNING:matplotlib.font_manager:findfont: Font family 'Malgun Gothic' not found.\n",
            "WARNING:matplotlib.font_manager:findfont: Font family 'Malgun Gothic' not found.\n",
            "WARNING:matplotlib.font_manager:findfont: Font family 'Malgun Gothic' not found.\n",
            "WARNING:matplotlib.font_manager:findfont: Font family 'Malgun Gothic' not found.\n",
            "WARNING:matplotlib.font_manager:findfont: Font family 'Malgun Gothic' not found.\n",
            "WARNING:matplotlib.font_manager:findfont: Font family 'Malgun Gothic' not found.\n",
            "WARNING:matplotlib.font_manager:findfont: Font family 'Malgun Gothic' not found.\n",
            "WARNING:matplotlib.font_manager:findfont: Font family 'Malgun Gothic' not found.\n",
            "WARNING:matplotlib.font_manager:findfont: Font family 'Malgun Gothic' not found.\n",
            "WARNING:matplotlib.font_manager:findfont: Font family 'Malgun Gothic' not found.\n",
            "WARNING:matplotlib.font_manager:findfont: Font family 'Malgun Gothic' not found.\n",
            "WARNING:matplotlib.font_manager:findfont: Font family 'Malgun Gothic' not found.\n",
            "WARNING:matplotlib.font_manager:findfont: Font family 'Malgun Gothic' not found.\n",
            "WARNING:matplotlib.font_manager:findfont: Font family 'Malgun Gothic' not found.\n",
            "WARNING:matplotlib.font_manager:findfont: Font family 'Malgun Gothic' not found.\n",
            "WARNING:matplotlib.font_manager:findfont: Font family 'Malgun Gothic' not found.\n",
            "WARNING:matplotlib.font_manager:findfont: Font family 'Malgun Gothic' not found.\n",
            "WARNING:matplotlib.font_manager:findfont: Font family 'Malgun Gothic' not found.\n",
            "WARNING:matplotlib.font_manager:findfont: Font family 'Malgun Gothic' not found.\n",
            "WARNING:matplotlib.font_manager:findfont: Font family 'Malgun Gothic' not found.\n",
            "WARNING:matplotlib.font_manager:findfont: Font family 'Malgun Gothic' not found.\n",
            "WARNING:matplotlib.font_manager:findfont: Font family 'Malgun Gothic' not found.\n",
            "WARNING:matplotlib.font_manager:findfont: Font family 'Malgun Gothic' not found.\n",
            "WARNING:matplotlib.font_manager:findfont: Font family 'Malgun Gothic' not found.\n",
            "WARNING:matplotlib.font_manager:findfont: Font family 'Malgun Gothic' not found.\n",
            "WARNING:matplotlib.font_manager:findfont: Font family 'Malgun Gothic' not found.\n",
            "WARNING:matplotlib.font_manager:findfont: Font family 'Malgun Gothic' not found.\n",
            "WARNING:matplotlib.font_manager:findfont: Font family 'Malgun Gothic' not found.\n",
            "WARNING:matplotlib.font_manager:findfont: Font family 'Malgun Gothic' not found.\n",
            "WARNING:matplotlib.font_manager:findfont: Font family 'Malgun Gothic' not found.\n",
            "WARNING:matplotlib.font_manager:findfont: Font family 'Malgun Gothic' not found.\n",
            "WARNING:matplotlib.font_manager:findfont: Font family 'Malgun Gothic' not found.\n",
            "WARNING:matplotlib.font_manager:findfont: Font family 'Malgun Gothic' not found.\n",
            "WARNING:matplotlib.font_manager:findfont: Font family 'Malgun Gothic' not found.\n",
            "WARNING:matplotlib.font_manager:findfont: Font family 'Malgun Gothic' not found.\n",
            "WARNING:matplotlib.font_manager:findfont: Font family 'Malgun Gothic' not found.\n",
            "WARNING:matplotlib.font_manager:findfont: Font family 'Malgun Gothic' not found.\n",
            "WARNING:matplotlib.font_manager:findfont: Font family 'Malgun Gothic' not found.\n"
          ]
        },
        {
          "output_type": "display_data",
          "data": {
            "text/plain": [
              "<Figure size 640x480 with 1 Axes>"
            ],
            "image/png": "[encoded data removed]"
          },
          "metadata": {}
        }
      ]
    },
    {
      "cell_type": "code",
      "source": [
        "import matplotlib.pyplot as plt\n",
        "import numpy as np\n",
        "\n",
        "x = np.random.randint(-100, 100, 1000) # 1000개의 랜덤 값 추출\n",
        "y = np.random.randint(-100, 100, 1000) # 1000개의 랜덤 값 추출\n",
        "\n",
        "mask1 = abs(x) > 50 #x에 저장된 값 중 절대값이 50보다 큰 값 걸러냄\n",
        "mask2 = abs(y) > 50 #y에 저장된 값 중 절대값이 50보다 큰 값 걸러냄\n",
        "x = x[mask1 + mask2] #mask1과 mask2 중 하나라도 만족하는 값 저장\n",
        "y = y[mask1 + mask2] #mask1과 mask2 중 하나라도 만족하는 값 저장\n",
        "\n",
        "plt.scatter (x, y, c = x, cmap = 'jet', alpha = 0.4)\n",
        "plt.colorbar()\n",
        "plt.show()"
      ],
      "metadata": {
        "id": "JF3ZAI9Zsgac",
        "outputId": "7673ebdb-41af-47b2-8520-602f772543a6",
        "colab": {
          "base_uri": "https://localhost:8080/",
          "height": 1000
        }
      },
      "execution_count": null,
      "outputs": [
        {
          "output_type": "stream",
          "name": "stderr",
          "text": [
            "WARNING:matplotlib.font_manager:findfont: Font family 'Malgun Gothic' not found.\n",
            "WARNING:matplotlib.font_manager:findfont: Font family 'Malgun Gothic' not found.\n",
            "WARNING:matplotlib.font_manager:findfont: Font family 'Malgun Gothic' not found.\n",
            "WARNING:matplotlib.font_manager:findfont: Font family 'Malgun Gothic' not found.\n",
            "WARNING:matplotlib.font_manager:findfont: Font family 'Malgun Gothic' not found.\n",
            "WARNING:matplotlib.font_manager:findfont: Font family 'Malgun Gothic' not found.\n",
            "WARNING:matplotlib.font_manager:findfont: Font family 'Malgun Gothic' not found.\n",
            "WARNING:matplotlib.font_manager:findfont: Font family 'Malgun Gothic' not found.\n",
            "WARNING:matplotlib.font_manager:findfont: Font family 'Malgun Gothic' not found.\n",
            "WARNING:matplotlib.font_manager:findfont: Font family 'Malgun Gothic' not found.\n",
            "WARNING:matplotlib.font_manager:findfont: Font family 'Malgun Gothic' not found.\n",
            "WARNING:matplotlib.font_manager:findfont: Font family 'Malgun Gothic' not found.\n",
            "WARNING:matplotlib.font_manager:findfont: Font family 'Malgun Gothic' not found.\n",
            "WARNING:matplotlib.font_manager:findfont: Font family 'Malgun Gothic' not found.\n",
            "WARNING:matplotlib.font_manager:findfont: Font family 'Malgun Gothic' not found.\n",
            "WARNING:matplotlib.font_manager:findfont: Font family 'Malgun Gothic' not found.\n",
            "WARNING:matplotlib.font_manager:findfont: Font family 'Malgun Gothic' not found.\n",
            "WARNING:matplotlib.font_manager:findfont: Font family 'Malgun Gothic' not found.\n",
            "WARNING:matplotlib.font_manager:findfont: Font family 'Malgun Gothic' not found.\n",
            "WARNING:matplotlib.font_manager:findfont: Font family 'Malgun Gothic' not found.\n",
            "WARNING:matplotlib.font_manager:findfont: Font family 'Malgun Gothic' not found.\n",
            "WARNING:matplotlib.font_manager:findfont: Font family 'Malgun Gothic' not found.\n",
            "WARNING:matplotlib.font_manager:findfont: Font family 'Malgun Gothic' not found.\n",
            "WARNING:matplotlib.font_manager:findfont: Font family 'Malgun Gothic' not found.\n",
            "WARNING:matplotlib.font_manager:findfont: Font family 'Malgun Gothic' not found.\n",
            "WARNING:matplotlib.font_manager:findfont: Font family 'Malgun Gothic' not found.\n",
            "WARNING:matplotlib.font_manager:findfont: Font family 'Malgun Gothic' not found.\n",
            "WARNING:matplotlib.font_manager:findfont: Font family 'Malgun Gothic' not found.\n",
            "WARNING:matplotlib.font_manager:findfont: Font family 'Malgun Gothic' not found.\n",
            "WARNING:matplotlib.font_manager:findfont: Font family 'Malgun Gothic' not found.\n",
            "WARNING:matplotlib.font_manager:findfont: Font family 'Malgun Gothic' not found.\n",
            "WARNING:matplotlib.font_manager:findfont: Font family 'Malgun Gothic' not found.\n",
            "WARNING:matplotlib.font_manager:findfont: Font family 'Malgun Gothic' not found.\n",
            "WARNING:matplotlib.font_manager:findfont: Font family 'Malgun Gothic' not found.\n",
            "WARNING:matplotlib.font_manager:findfont: Font family 'Malgun Gothic' not found.\n",
            "WARNING:matplotlib.font_manager:findfont: Font family 'Malgun Gothic' not found.\n",
            "WARNING:matplotlib.font_manager:findfont: Font family 'Malgun Gothic' not found.\n",
            "WARNING:matplotlib.font_manager:findfont: Font family 'Malgun Gothic' not found.\n",
            "WARNING:matplotlib.font_manager:findfont: Font family 'Malgun Gothic' not found.\n",
            "WARNING:matplotlib.font_manager:findfont: Font family 'Malgun Gothic' not found.\n",
            "WARNING:matplotlib.font_manager:findfont: Font family 'Malgun Gothic' not found.\n",
            "WARNING:matplotlib.font_manager:findfont: Font family 'Malgun Gothic' not found.\n",
            "WARNING:matplotlib.font_manager:findfont: Font family 'Malgun Gothic' not found.\n",
            "WARNING:matplotlib.font_manager:findfont: Font family 'Malgun Gothic' not found.\n",
            "WARNING:matplotlib.font_manager:findfont: Font family 'Malgun Gothic' not found.\n",
            "WARNING:matplotlib.font_manager:findfont: Font family 'Malgun Gothic' not found.\n"
          ]
        },
        {
          "output_type": "display_data",
          "data": {
            "text/plain": [
              "<Figure size 640x480 with 2 Axes>"
            ],
            "image/png": "[encoded data removed]"
          },
          "metadata": {}
        }
      ]
    },
    {
      "cell_type": "code",
      "source": [
        "import matplotlib.pyplot as plt\n",
        "import numpy as np\n",
        "\n",
        "x = np.random.randint(-100, 100, 1000) # 1000개의 랜덤 값 추출\n",
        "y = np.random.randint(-100, 100, 1000) # 1000개의 랜덤 값 추출\n",
        "\n",
        "mask1 = abs(x) > 50 #x에 저장된 값 중 절대값이 50보다 큰 값 걸러냄\n",
        "mask2 = abs(y) > 50 #y에 저장된 값 중 절대값이 50보다 큰 값 걸러냄\n",
        "x = x[mask1 * mask2] #mask1과 mask2 중 모두 만족하는 값 저장\n",
        "y = y[mask1 * mask2] #mask1과 mask2 중 모두 만족하는 값 저장\n",
        "\n",
        "plt.scatter (x, y, c = x, cmap = 'jet', alpha = 0.4)\n",
        "plt.colorbar()\n",
        "plt.show()"
      ],
      "metadata": {
        "id": "CfxBIhDItTWT",
        "outputId": "bcf2901f-3f7f-426b-ff0f-bfead6bb164e",
        "colab": {
          "base_uri": "https://localhost:8080/",
          "height": 1000
        }
      },
      "execution_count": null,
      "outputs": [
        {
          "output_type": "stream",
          "name": "stderr",
          "text": [
            "WARNING:matplotlib.font_manager:findfont: Font family 'Malgun Gothic' not found.\n",
            "WARNING:matplotlib.font_manager:findfont: Font family 'Malgun Gothic' not found.\n",
            "WARNING:matplotlib.font_manager:findfont: Font family 'Malgun Gothic' not found.\n",
            "WARNING:matplotlib.font_manager:findfont: Font family 'Malgun Gothic' not found.\n",
            "WARNING:matplotlib.font_manager:findfont: Font family 'Malgun Gothic' not found.\n",
            "WARNING:matplotlib.font_manager:findfont: Font family 'Malgun Gothic' not found.\n",
            "WARNING:matplotlib.font_manager:findfont: Font family 'Malgun Gothic' not found.\n",
            "WARNING:matplotlib.font_manager:findfont: Font family 'Malgun Gothic' not found.\n",
            "WARNING:matplotlib.font_manager:findfont: Font family 'Malgun Gothic' not found.\n",
            "WARNING:matplotlib.font_manager:findfont: Font family 'Malgun Gothic' not found.\n",
            "WARNING:matplotlib.font_manager:findfont: Font family 'Malgun Gothic' not found.\n",
            "WARNING:matplotlib.font_manager:findfont: Font family 'Malgun Gothic' not found.\n",
            "WARNING:matplotlib.font_manager:findfont: Font family 'Malgun Gothic' not found.\n",
            "WARNING:matplotlib.font_manager:findfont: Font family 'Malgun Gothic' not found.\n",
            "WARNING:matplotlib.font_manager:findfont: Font family 'Malgun Gothic' not found.\n",
            "WARNING:matplotlib.font_manager:findfont: Font family 'Malgun Gothic' not found.\n",
            "WARNING:matplotlib.font_manager:findfont: Font family 'Malgun Gothic' not found.\n",
            "WARNING:matplotlib.font_manager:findfont: Font family 'Malgun Gothic' not found.\n",
            "WARNING:matplotlib.font_manager:findfont: Font family 'Malgun Gothic' not found.\n",
            "WARNING:matplotlib.font_manager:findfont: Font family 'Malgun Gothic' not found.\n",
            "WARNING:matplotlib.font_manager:findfont: Font family 'Malgun Gothic' not found.\n",
            "WARNING:matplotlib.font_manager:findfont: Font family 'Malgun Gothic' not found.\n",
            "WARNING:matplotlib.font_manager:findfont: Font family 'Malgun Gothic' not found.\n",
            "WARNING:matplotlib.font_manager:findfont: Font family 'Malgun Gothic' not found.\n",
            "WARNING:matplotlib.font_manager:findfont: Font family 'Malgun Gothic' not found.\n",
            "WARNING:matplotlib.font_manager:findfont: Font family 'Malgun Gothic' not found.\n",
            "WARNING:matplotlib.font_manager:findfont: Font family 'Malgun Gothic' not found.\n",
            "WARNING:matplotlib.font_manager:findfont: Font family 'Malgun Gothic' not found.\n",
            "WARNING:matplotlib.font_manager:findfont: Font family 'Malgun Gothic' not found.\n",
            "WARNING:matplotlib.font_manager:findfont: Font family 'Malgun Gothic' not found.\n",
            "WARNING:matplotlib.font_manager:findfont: Font family 'Malgun Gothic' not found.\n",
            "WARNING:matplotlib.font_manager:findfont: Font family 'Malgun Gothic' not found.\n",
            "WARNING:matplotlib.font_manager:findfont: Font family 'Malgun Gothic' not found.\n",
            "WARNING:matplotlib.font_manager:findfont: Font family 'Malgun Gothic' not found.\n",
            "WARNING:matplotlib.font_manager:findfont: Font family 'Malgun Gothic' not found.\n",
            "WARNING:matplotlib.font_manager:findfont: Font family 'Malgun Gothic' not found.\n",
            "WARNING:matplotlib.font_manager:findfont: Font family 'Malgun Gothic' not found.\n",
            "WARNING:matplotlib.font_manager:findfont: Font family 'Malgun Gothic' not found.\n",
            "WARNING:matplotlib.font_manager:findfont: Font family 'Malgun Gothic' not found.\n",
            "WARNING:matplotlib.font_manager:findfont: Font family 'Malgun Gothic' not found.\n",
            "WARNING:matplotlib.font_manager:findfont: Font family 'Malgun Gothic' not found.\n",
            "WARNING:matplotlib.font_manager:findfont: Font family 'Malgun Gothic' not found.\n",
            "WARNING:matplotlib.font_manager:findfont: Font family 'Malgun Gothic' not found.\n",
            "WARNING:matplotlib.font_manager:findfont: Font family 'Malgun Gothic' not found.\n",
            "WARNING:matplotlib.font_manager:findfont: Font family 'Malgun Gothic' not found.\n",
            "WARNING:matplotlib.font_manager:findfont: Font family 'Malgun Gothic' not found.\n"
          ]
        },
        {
          "output_type": "display_data",
          "data": {
            "text/plain": [
              "<Figure size 640x480 with 2 Axes>"
            ],
            "image/png": "[encoded data removed]"
          },
          "metadata": {}
        }
      ]
    },
    {
      "cell_type": "code",
      "source": [
        "import matplotlib.pyplot as plt\n",
        "\n",
        "plt.bar([\"Red\", \"Green\", \"Blue\"], [8, 5, 10])\n",
        "plt.show()"
      ],
      "metadata": {
        "id": "QcwY09YptpQn",
        "outputId": "1696d83a-4972-4d81-d4a9-f0c0236705e2",
        "colab": {
          "base_uri": "https://localhost:8080/",
          "height": 956
        }
      },
      "execution_count": null,
      "outputs": [
        {
          "output_type": "stream",
          "name": "stderr",
          "text": [
            "WARNING:matplotlib.font_manager:findfont: Font family 'Malgun Gothic' not found.\n",
            "WARNING:matplotlib.font_manager:findfont: Font family 'Malgun Gothic' not found.\n",
            "WARNING:matplotlib.font_manager:findfont: Font family 'Malgun Gothic' not found.\n",
            "WARNING:matplotlib.font_manager:findfont: Font family 'Malgun Gothic' not found.\n",
            "WARNING:matplotlib.font_manager:findfont: Font family 'Malgun Gothic' not found.\n",
            "WARNING:matplotlib.font_manager:findfont: Font family 'Malgun Gothic' not found.\n",
            "WARNING:matplotlib.font_manager:findfont: Font family 'Malgun Gothic' not found.\n",
            "WARNING:matplotlib.font_manager:findfont: Font family 'Malgun Gothic' not found.\n",
            "WARNING:matplotlib.font_manager:findfont: Font family 'Malgun Gothic' not found.\n",
            "WARNING:matplotlib.font_manager:findfont: Font family 'Malgun Gothic' not found.\n",
            "WARNING:matplotlib.font_manager:findfont: Font family 'Malgun Gothic' not found.\n",
            "WARNING:matplotlib.font_manager:findfont: Font family 'Malgun Gothic' not found.\n",
            "WARNING:matplotlib.font_manager:findfont: Font family 'Malgun Gothic' not found.\n",
            "WARNING:matplotlib.font_manager:findfont: Font family 'Malgun Gothic' not found.\n",
            "WARNING:matplotlib.font_manager:findfont: Font family 'Malgun Gothic' not found.\n",
            "WARNING:matplotlib.font_manager:findfont: Font family 'Malgun Gothic' not found.\n",
            "WARNING:matplotlib.font_manager:findfont: Font family 'Malgun Gothic' not found.\n",
            "WARNING:matplotlib.font_manager:findfont: Font family 'Malgun Gothic' not found.\n",
            "WARNING:matplotlib.font_manager:findfont: Font family 'Malgun Gothic' not found.\n",
            "WARNING:matplotlib.font_manager:findfont: Font family 'Malgun Gothic' not found.\n",
            "WARNING:matplotlib.font_manager:findfont: Font family 'Malgun Gothic' not found.\n",
            "WARNING:matplotlib.font_manager:findfont: Font family 'Malgun Gothic' not found.\n",
            "WARNING:matplotlib.font_manager:findfont: Font family 'Malgun Gothic' not found.\n",
            "WARNING:matplotlib.font_manager:findfont: Font family 'Malgun Gothic' not found.\n",
            "WARNING:matplotlib.font_manager:findfont: Font family 'Malgun Gothic' not found.\n",
            "WARNING:matplotlib.font_manager:findfont: Font family 'Malgun Gothic' not found.\n",
            "WARNING:matplotlib.font_manager:findfont: Font family 'Malgun Gothic' not found.\n",
            "WARNING:matplotlib.font_manager:findfont: Font family 'Malgun Gothic' not found.\n",
            "WARNING:matplotlib.font_manager:findfont: Font family 'Malgun Gothic' not found.\n"
          ]
        },
        {
          "output_type": "display_data",
          "data": {
            "text/plain": [
              "<Figure size 640x480 with 1 Axes>"
            ],
            "image/png": "[encoded data removed]"
          },
          "metadata": {}
        }
      ]
    },
    {
      "cell_type": "code",
      "source": [
        "import matplotlib.pyplot as plt\n",
        "\n",
        "c = [\"red\", \"green\", \"blue\"]\n",
        "plt.bar (c, [10, 4, 12], color = c, alpha = .4)\n",
        "plt.show()"
      ],
      "metadata": {
        "id": "AY8YFyFwt2VI",
        "outputId": "c83d45be-bf37-4cdb-a9ad-cb1ca1c05c62",
        "colab": {
          "base_uri": "https://localhost:8080/",
          "height": 1000
        }
      },
      "execution_count": null,
      "outputs": [
        {
          "output_type": "stream",
          "name": "stderr",
          "text": [
            "WARNING:matplotlib.font_manager:findfont: Font family 'Malgun Gothic' not found.\n",
            "WARNING:matplotlib.font_manager:findfont: Font family 'Malgun Gothic' not found.\n",
            "WARNING:matplotlib.font_manager:findfont: Font family 'Malgun Gothic' not found.\n",
            "WARNING:matplotlib.font_manager:findfont: Font family 'Malgun Gothic' not found.\n",
            "WARNING:matplotlib.font_manager:findfont: Font family 'Malgun Gothic' not found.\n",
            "WARNING:matplotlib.font_manager:findfont: Font family 'Malgun Gothic' not found.\n",
            "WARNING:matplotlib.font_manager:findfont: Font family 'Malgun Gothic' not found.\n",
            "WARNING:matplotlib.font_manager:findfont: Font family 'Malgun Gothic' not found.\n",
            "WARNING:matplotlib.font_manager:findfont: Font family 'Malgun Gothic' not found.\n",
            "WARNING:matplotlib.font_manager:findfont: Font family 'Malgun Gothic' not found.\n",
            "WARNING:matplotlib.font_manager:findfont: Font family 'Malgun Gothic' not found.\n",
            "WARNING:matplotlib.font_manager:findfont: Font family 'Malgun Gothic' not found.\n",
            "WARNING:matplotlib.font_manager:findfont: Font family 'Malgun Gothic' not found.\n",
            "WARNING:matplotlib.font_manager:findfont: Font family 'Malgun Gothic' not found.\n",
            "WARNING:matplotlib.font_manager:findfont: Font family 'Malgun Gothic' not found.\n",
            "WARNING:matplotlib.font_manager:findfont: Font family 'Malgun Gothic' not found.\n",
            "WARNING:matplotlib.font_manager:findfont: Font family 'Malgun Gothic' not found.\n",
            "WARNING:matplotlib.font_manager:findfont: Font family 'Malgun Gothic' not found.\n",
            "WARNING:matplotlib.font_manager:findfont: Font family 'Malgun Gothic' not found.\n",
            "WARNING:matplotlib.font_manager:findfont: Font family 'Malgun Gothic' not found.\n",
            "WARNING:matplotlib.font_manager:findfont: Font family 'Malgun Gothic' not found.\n",
            "WARNING:matplotlib.font_manager:findfont: Font family 'Malgun Gothic' not found.\n",
            "WARNING:matplotlib.font_manager:findfont: Font family 'Malgun Gothic' not found.\n",
            "WARNING:matplotlib.font_manager:findfont: Font family 'Malgun Gothic' not found.\n",
            "WARNING:matplotlib.font_manager:findfont: Font family 'Malgun Gothic' not found.\n",
            "WARNING:matplotlib.font_manager:findfont: Font family 'Malgun Gothic' not found.\n",
            "WARNING:matplotlib.font_manager:findfont: Font family 'Malgun Gothic' not found.\n",
            "WARNING:matplotlib.font_manager:findfont: Font family 'Malgun Gothic' not found.\n",
            "WARNING:matplotlib.font_manager:findfont: Font family 'Malgun Gothic' not found.\n",
            "WARNING:matplotlib.font_manager:findfont: Font family 'Malgun Gothic' not found.\n",
            "WARNING:matplotlib.font_manager:findfont: Font family 'Malgun Gothic' not found.\n",
            "WARNING:matplotlib.font_manager:findfont: Font family 'Malgun Gothic' not found.\n"
          ]
        },
        {
          "output_type": "display_data",
          "data": {
            "text/plain": [
              "<Figure size 640x480 with 1 Axes>"
            ],
            "image/png": "[encoded data removed]"
          },
          "metadata": {}
        }
      ]
    },
    {
      "cell_type": "code",
      "source": [
        "import matplotlib.pyplot as plt\n",
        "\n",
        "plt.figure(figsize = (6, 4))\n",
        "\n",
        "plt.hist([1, 1, 1, 2, 2, 3, 4, 5, 6, 6, 6, 6], rwidth = .98, bins = [.5, 1.5, 2.5, 3.5, 4.5, 5.5, 6.5])\n",
        "plt.xticks (range(1, 7))\n",
        "plt.show()"
      ],
      "metadata": {
        "id": "dY7QlaFTuEoo",
        "outputId": "9bee97bf-8abf-4861-f9df-6c4b417cefe7",
        "colab": {
          "base_uri": "https://localhost:8080/",
          "height": 1000
        }
      },
      "execution_count": null,
      "outputs": [
        {
          "output_type": "stream",
          "name": "stderr",
          "text": [
            "WARNING:matplotlib.font_manager:findfont: Font family 'Malgun Gothic' not found.\n",
            "WARNING:matplotlib.font_manager:findfont: Font family 'Malgun Gothic' not found.\n",
            "WARNING:matplotlib.font_manager:findfont: Font family 'Malgun Gothic' not found.\n",
            "WARNING:matplotlib.font_manager:findfont: Font family 'Malgun Gothic' not found.\n",
            "WARNING:matplotlib.font_manager:findfont: Font family 'Malgun Gothic' not found.\n",
            "WARNING:matplotlib.font_manager:findfont: Font family 'Malgun Gothic' not found.\n",
            "WARNING:matplotlib.font_manager:findfont: Font family 'Malgun Gothic' not found.\n",
            "WARNING:matplotlib.font_manager:findfont: Font family 'Malgun Gothic' not found.\n",
            "WARNING:matplotlib.font_manager:findfont: Font family 'Malgun Gothic' not found.\n",
            "WARNING:matplotlib.font_manager:findfont: Font family 'Malgun Gothic' not found.\n",
            "WARNING:matplotlib.font_manager:findfont: Font family 'Malgun Gothic' not found.\n",
            "WARNING:matplotlib.font_manager:findfont: Font family 'Malgun Gothic' not found.\n",
            "WARNING:matplotlib.font_manager:findfont: Font family 'Malgun Gothic' not found.\n",
            "WARNING:matplotlib.font_manager:findfont: Font family 'Malgun Gothic' not found.\n",
            "WARNING:matplotlib.font_manager:findfont: Font family 'Malgun Gothic' not found.\n",
            "WARNING:matplotlib.font_manager:findfont: Font family 'Malgun Gothic' not found.\n",
            "WARNING:matplotlib.font_manager:findfont: Font family 'Malgun Gothic' not found.\n",
            "WARNING:matplotlib.font_manager:findfont: Font family 'Malgun Gothic' not found.\n",
            "WARNING:matplotlib.font_manager:findfont: Font family 'Malgun Gothic' not found.\n",
            "WARNING:matplotlib.font_manager:findfont: Font family 'Malgun Gothic' not found.\n",
            "WARNING:matplotlib.font_manager:findfont: Font family 'Malgun Gothic' not found.\n",
            "WARNING:matplotlib.font_manager:findfont: Font family 'Malgun Gothic' not found.\n",
            "WARNING:matplotlib.font_manager:findfont: Font family 'Malgun Gothic' not found.\n",
            "WARNING:matplotlib.font_manager:findfont: Font family 'Malgun Gothic' not found.\n",
            "WARNING:matplotlib.font_manager:findfont: Font family 'Malgun Gothic' not found.\n",
            "WARNING:matplotlib.font_manager:findfont: Font family 'Malgun Gothic' not found.\n",
            "WARNING:matplotlib.font_manager:findfont: Font family 'Malgun Gothic' not found.\n",
            "WARNING:matplotlib.font_manager:findfont: Font family 'Malgun Gothic' not found.\n",
            "WARNING:matplotlib.font_manager:findfont: Font family 'Malgun Gothic' not found.\n",
            "WARNING:matplotlib.font_manager:findfont: Font family 'Malgun Gothic' not found.\n",
            "WARNING:matplotlib.font_manager:findfont: Font family 'Malgun Gothic' not found.\n",
            "WARNING:matplotlib.font_manager:findfont: Font family 'Malgun Gothic' not found.\n",
            "WARNING:matplotlib.font_manager:findfont: Font family 'Malgun Gothic' not found.\n",
            "WARNING:matplotlib.font_manager:findfont: Font family 'Malgun Gothic' not found.\n",
            "WARNING:matplotlib.font_manager:findfont: Font family 'Malgun Gothic' not found.\n",
            "WARNING:matplotlib.font_manager:findfont: Font family 'Malgun Gothic' not found.\n",
            "WARNING:matplotlib.font_manager:findfont: Font family 'Malgun Gothic' not found.\n",
            "WARNING:matplotlib.font_manager:findfont: Font family 'Malgun Gothic' not found.\n",
            "WARNING:matplotlib.font_manager:findfont: Font family 'Malgun Gothic' not found.\n",
            "WARNING:matplotlib.font_manager:findfont: Font family 'Malgun Gothic' not found.\n",
            "WARNING:matplotlib.font_manager:findfont: Font family 'Malgun Gothic' not found.\n",
            "WARNING:matplotlib.font_manager:findfont: Font family 'Malgun Gothic' not found.\n",
            "WARNING:matplotlib.font_manager:findfont: Font family 'Malgun Gothic' not found.\n",
            "WARNING:matplotlib.font_manager:findfont: Font family 'Malgun Gothic' not found.\n",
            "WARNING:matplotlib.font_manager:findfont: Font family 'Malgun Gothic' not found.\n",
            "WARNING:matplotlib.font_manager:findfont: Font family 'Malgun Gothic' not found.\n",
            "WARNING:matplotlib.font_manager:findfont: Font family 'Malgun Gothic' not found.\n"
          ]
        },
        {
          "output_type": "display_data",
          "data": {
            "text/plain": [
              "<Figure size 600x400 with 1 Axes>"
            ],
            "image/png": "[encoded data removed]"
          },
          "metadata": {}
        }
      ]
    },
    {
      "cell_type": "code",
      "source": [
        "import matplotlib.pyplot as plt\n",
        "import numpy as np\n",
        "\n",
        "dice = np.random.choice (range (1, 7), 1000000,\n",
        "                        p = [0.15, 0.25, 0.3, 0.1, 0.1, 0.1])\n",
        "plt.figure (figsize = (5, 3), dpi = 200)\n",
        "\n",
        "plt.hist(dice, rwidth = .98, bins = np.arange (.5, 7))\n",
        "plt.xticks (range(1, 7))\n",
        "\n",
        "plt.savefig ('주사위.png')\n",
        "plt.show()"
      ],
      "metadata": {
        "id": "9mPhEjPducJC",
        "outputId": "ad90c4e3-e40a-49e3-df9a-5bbdae2a31ff",
        "colab": {
          "base_uri": "https://localhost:8080/",
          "height": 1000
        }
      },
      "execution_count": null,
      "outputs": [
        {
          "output_type": "stream",
          "name": "stderr",
          "text": [
            "WARNING:matplotlib.font_manager:findfont: Font family 'Malgun Gothic' not found.\n",
            "WARNING:matplotlib.font_manager:findfont: Font family 'Malgun Gothic' not found.\n",
            "WARNING:matplotlib.font_manager:findfont: Font family 'Malgun Gothic' not found.\n",
            "WARNING:matplotlib.font_manager:findfont: Font family 'Malgun Gothic' not found.\n",
            "WARNING:matplotlib.font_manager:findfont: Font family 'Malgun Gothic' not found.\n",
            "WARNING:matplotlib.font_manager:findfont: Font family 'Malgun Gothic' not found.\n",
            "WARNING:matplotlib.font_manager:findfont: Font family 'Malgun Gothic' not found.\n",
            "WARNING:matplotlib.font_manager:findfont: Font family 'Malgun Gothic' not found.\n",
            "WARNING:matplotlib.font_manager:findfont: Font family 'Malgun Gothic' not found.\n",
            "WARNING:matplotlib.font_manager:findfont: Font family 'Malgun Gothic' not found.\n",
            "WARNING:matplotlib.font_manager:findfont: Font family 'Malgun Gothic' not found.\n",
            "WARNING:matplotlib.font_manager:findfont: Font family 'Malgun Gothic' not found.\n",
            "WARNING:matplotlib.font_manager:findfont: Font family 'Malgun Gothic' not found.\n",
            "WARNING:matplotlib.font_manager:findfont: Font family 'Malgun Gothic' not found.\n",
            "WARNING:matplotlib.font_manager:findfont: Font family 'Malgun Gothic' not found.\n",
            "WARNING:matplotlib.font_manager:findfont: Font family 'Malgun Gothic' not found.\n",
            "WARNING:matplotlib.font_manager:findfont: Font family 'Malgun Gothic' not found.\n",
            "WARNING:matplotlib.font_manager:findfont: Font family 'Malgun Gothic' not found.\n",
            "WARNING:matplotlib.font_manager:findfont: Font family 'Malgun Gothic' not found.\n",
            "WARNING:matplotlib.font_manager:findfont: Font family 'Malgun Gothic' not found.\n",
            "WARNING:matplotlib.font_manager:findfont: Font family 'Malgun Gothic' not found.\n",
            "WARNING:matplotlib.font_manager:findfont: Font family 'Malgun Gothic' not found.\n",
            "WARNING:matplotlib.font_manager:findfont: Font family 'Malgun Gothic' not found.\n",
            "WARNING:matplotlib.font_manager:findfont: Font family 'Malgun Gothic' not found.\n",
            "WARNING:matplotlib.font_manager:findfont: Font family 'Malgun Gothic' not found.\n",
            "WARNING:matplotlib.font_manager:findfont: Font family 'Malgun Gothic' not found.\n",
            "WARNING:matplotlib.font_manager:findfont: Font family 'Malgun Gothic' not found.\n",
            "WARNING:matplotlib.font_manager:findfont: Font family 'Malgun Gothic' not found.\n",
            "WARNING:matplotlib.font_manager:findfont: Font family 'Malgun Gothic' not found.\n",
            "WARNING:matplotlib.font_manager:findfont: Font family 'Malgun Gothic' not found.\n",
            "WARNING:matplotlib.font_manager:findfont: Font family 'Malgun Gothic' not found.\n",
            "WARNING:matplotlib.font_manager:findfont: Font family 'Malgun Gothic' not found.\n",
            "WARNING:matplotlib.font_manager:findfont: Font family 'Malgun Gothic' not found.\n",
            "WARNING:matplotlib.font_manager:findfont: Font family 'Malgun Gothic' not found.\n",
            "WARNING:matplotlib.font_manager:findfont: Font family 'Malgun Gothic' not found.\n",
            "WARNING:matplotlib.font_manager:findfont: Font family 'Malgun Gothic' not found.\n",
            "WARNING:matplotlib.font_manager:findfont: Font family 'Malgun Gothic' not found.\n",
            "WARNING:matplotlib.font_manager:findfont: Font family 'Malgun Gothic' not found.\n",
            "WARNING:matplotlib.font_manager:findfont: Font family 'Malgun Gothic' not found.\n",
            "WARNING:matplotlib.font_manager:findfont: Font family 'Malgun Gothic' not found.\n",
            "WARNING:matplotlib.font_manager:findfont: Font family 'Malgun Gothic' not found.\n",
            "WARNING:matplotlib.font_manager:findfont: Font family 'Malgun Gothic' not found.\n",
            "WARNING:matplotlib.font_manager:findfont: Font family 'Malgun Gothic' not found.\n",
            "WARNING:matplotlib.font_manager:findfont: Font family 'Malgun Gothic' not found.\n",
            "WARNING:matplotlib.font_manager:findfont: Font family 'Malgun Gothic' not found.\n",
            "WARNING:matplotlib.font_manager:findfont: Font family 'Malgun Gothic' not found.\n",
            "WARNING:matplotlib.font_manager:findfont: Font family 'Malgun Gothic' not found.\n",
            "WARNING:matplotlib.font_manager:findfont: Font family 'Malgun Gothic' not found.\n",
            "WARNING:matplotlib.font_manager:findfont: Font family 'Malgun Gothic' not found.\n",
            "WARNING:matplotlib.font_manager:findfont: Font family 'Malgun Gothic' not found.\n",
            "WARNING:matplotlib.font_manager:findfont: Font family 'Malgun Gothic' not found.\n",
            "WARNING:matplotlib.font_manager:findfont: Font family 'Malgun Gothic' not found.\n",
            "WARNING:matplotlib.font_manager:findfont: Font family 'Malgun Gothic' not found.\n",
            "WARNING:matplotlib.font_manager:findfont: Font family 'Malgun Gothic' not found.\n",
            "WARNING:matplotlib.font_manager:findfont: Font family 'Malgun Gothic' not found.\n",
            "WARNING:matplotlib.font_manager:findfont: Font family 'Malgun Gothic' not found.\n",
            "WARNING:matplotlib.font_manager:findfont: Font family 'Malgun Gothic' not found.\n",
            "WARNING:matplotlib.font_manager:findfont: Font family 'Malgun Gothic' not found.\n",
            "WARNING:matplotlib.font_manager:findfont: Font family 'Malgun Gothic' not found.\n",
            "WARNING:matplotlib.font_manager:findfont: Font family 'Malgun Gothic' not found.\n",
            "WARNING:matplotlib.font_manager:findfont: Font family 'Malgun Gothic' not found.\n",
            "WARNING:matplotlib.font_manager:findfont: Font family 'Malgun Gothic' not found.\n",
            "WARNING:matplotlib.font_manager:findfont: Font family 'Malgun Gothic' not found.\n",
            "WARNING:matplotlib.font_manager:findfont: Font family 'Malgun Gothic' not found.\n",
            "WARNING:matplotlib.font_manager:findfont: Font family 'Malgun Gothic' not found.\n",
            "WARNING:matplotlib.font_manager:findfont: Font family 'Malgun Gothic' not found.\n",
            "WARNING:matplotlib.font_manager:findfont: Font family 'Malgun Gothic' not found.\n"
          ]
        },
        {
          "output_type": "display_data",
          "data": {
            "text/plain": [
              "<Figure size 1000x600 with 1 Axes>"
            ],
            "image/png": "[encoded data removed]"
          },
          "metadata": {}
        }
      ]
    },
    {
      "cell_type": "code",
      "source": [
        "import matplotlib.pyplot as plt\n",
        "\n",
        "plt.figure (figsize = (9, 4))\n",
        "\n",
        "plt.subplot (2, 3, 1)\n",
        "plt.subplot (2, 3, 5)\n",
        "plt.subplot (2, 3, 6)\n",
        "\n",
        "plt.plot()\n",
        "plt.show()"
      ],
      "metadata": {
        "id": "4KvNwkkMvOWE",
        "outputId": "7f841124-37df-4427-edcf-683c6ba3294e",
        "colab": {
          "base_uri": "https://localhost:8080/",
          "height": 1000
        }
      },
      "execution_count": null,
      "outputs": [
        {
          "output_type": "stream",
          "name": "stderr",
          "text": [
            "WARNING:matplotlib.font_manager:findfont: Font family 'Malgun Gothic' not found.\n",
            "WARNING:matplotlib.font_manager:findfont: Font family 'Malgun Gothic' not found.\n",
            "WARNING:matplotlib.font_manager:findfont: Font family 'Malgun Gothic' not found.\n",
            "WARNING:matplotlib.font_manager:findfont: Font family 'Malgun Gothic' not found.\n",
            "WARNING:matplotlib.font_manager:findfont: Font family 'Malgun Gothic' not found.\n",
            "WARNING:matplotlib.font_manager:findfont: Font family 'Malgun Gothic' not found.\n",
            "WARNING:matplotlib.font_manager:findfont: Font family 'Malgun Gothic' not found.\n",
            "WARNING:matplotlib.font_manager:findfont: Font family 'Malgun Gothic' not found.\n",
            "WARNING:matplotlib.font_manager:findfont: Font family 'Malgun Gothic' not found.\n",
            "WARNING:matplotlib.font_manager:findfont: Font family 'Malgun Gothic' not found.\n",
            "WARNING:matplotlib.font_manager:findfont: Font family 'Malgun Gothic' not found.\n",
            "WARNING:matplotlib.font_manager:findfont: Font family 'Malgun Gothic' not found.\n",
            "WARNING:matplotlib.font_manager:findfont: Font family 'Malgun Gothic' not found.\n",
            "WARNING:matplotlib.font_manager:findfont: Font family 'Malgun Gothic' not found.\n",
            "WARNING:matplotlib.font_manager:findfont: Font family 'Malgun Gothic' not found.\n",
            "WARNING:matplotlib.font_manager:findfont: Font family 'Malgun Gothic' not found.\n",
            "WARNING:matplotlib.font_manager:findfont: Font family 'Malgun Gothic' not found.\n",
            "WARNING:matplotlib.font_manager:findfont: Font family 'Malgun Gothic' not found.\n",
            "WARNING:matplotlib.font_manager:findfont: Font family 'Malgun Gothic' not found.\n",
            "WARNING:matplotlib.font_manager:findfont: Font family 'Malgun Gothic' not found.\n",
            "WARNING:matplotlib.font_manager:findfont: Font family 'Malgun Gothic' not found.\n",
            "WARNING:matplotlib.font_manager:findfont: Font family 'Malgun Gothic' not found.\n",
            "WARNING:matplotlib.font_manager:findfont: Font family 'Malgun Gothic' not found.\n",
            "WARNING:matplotlib.font_manager:findfont: Font family 'Malgun Gothic' not found.\n",
            "WARNING:matplotlib.font_manager:findfont: Font family 'Malgun Gothic' not found.\n",
            "WARNING:matplotlib.font_manager:findfont: Font family 'Malgun Gothic' not found.\n",
            "WARNING:matplotlib.font_manager:findfont: Font family 'Malgun Gothic' not found.\n",
            "WARNING:matplotlib.font_manager:findfont: Font family 'Malgun Gothic' not found.\n",
            "WARNING:matplotlib.font_manager:findfont: Font family 'Malgun Gothic' not found.\n",
            "WARNING:matplotlib.font_manager:findfont: Font family 'Malgun Gothic' not found.\n",
            "WARNING:matplotlib.font_manager:findfont: Font family 'Malgun Gothic' not found.\n",
            "WARNING:matplotlib.font_manager:findfont: Font family 'Malgun Gothic' not found.\n",
            "WARNING:matplotlib.font_manager:findfont: Font family 'Malgun Gothic' not found.\n",
            "WARNING:matplotlib.font_manager:findfont: Font family 'Malgun Gothic' not found.\n",
            "WARNING:matplotlib.font_manager:findfont: Font family 'Malgun Gothic' not found.\n",
            "WARNING:matplotlib.font_manager:findfont: Font family 'Malgun Gothic' not found.\n",
            "WARNING:matplotlib.font_manager:findfont: Font family 'Malgun Gothic' not found.\n",
            "WARNING:matplotlib.font_manager:findfont: Font family 'Malgun Gothic' not found.\n",
            "WARNING:matplotlib.font_manager:findfont: Font family 'Malgun Gothic' not found.\n",
            "WARNING:matplotlib.font_manager:findfont: Font family 'Malgun Gothic' not found.\n",
            "WARNING:matplotlib.font_manager:findfont: Font family 'Malgun Gothic' not found.\n",
            "WARNING:matplotlib.font_manager:findfont: Font family 'Malgun Gothic' not found.\n",
            "WARNING:matplotlib.font_manager:findfont: Font family 'Malgun Gothic' not found.\n",
            "WARNING:matplotlib.font_manager:findfont: Font family 'Malgun Gothic' not found.\n",
            "WARNING:matplotlib.font_manager:findfont: Font family 'Malgun Gothic' not found.\n",
            "WARNING:matplotlib.font_manager:findfont: Font family 'Malgun Gothic' not found.\n",
            "WARNING:matplotlib.font_manager:findfont: Font family 'Malgun Gothic' not found.\n",
            "WARNING:matplotlib.font_manager:findfont: Font family 'Malgun Gothic' not found.\n",
            "WARNING:matplotlib.font_manager:findfont: Font family 'Malgun Gothic' not found.\n",
            "WARNING:matplotlib.font_manager:findfont: Font family 'Malgun Gothic' not found.\n",
            "WARNING:matplotlib.font_manager:findfont: Font family 'Malgun Gothic' not found.\n",
            "WARNING:matplotlib.font_manager:findfont: Font family 'Malgun Gothic' not found.\n",
            "WARNING:matplotlib.font_manager:findfont: Font family 'Malgun Gothic' not found.\n",
            "WARNING:matplotlib.font_manager:findfont: Font family 'Malgun Gothic' not found.\n",
            "WARNING:matplotlib.font_manager:findfont: Font family 'Malgun Gothic' not found.\n",
            "WARNING:matplotlib.font_manager:findfont: Font family 'Malgun Gothic' not found.\n",
            "WARNING:matplotlib.font_manager:findfont: Font family 'Malgun Gothic' not found.\n",
            "WARNING:matplotlib.font_manager:findfont: Font family 'Malgun Gothic' not found.\n",
            "WARNING:matplotlib.font_manager:findfont: Font family 'Malgun Gothic' not found.\n",
            "WARNING:matplotlib.font_manager:findfont: Font family 'Malgun Gothic' not found.\n",
            "WARNING:matplotlib.font_manager:findfont: Font family 'Malgun Gothic' not found.\n",
            "WARNING:matplotlib.font_manager:findfont: Font family 'Malgun Gothic' not found.\n",
            "WARNING:matplotlib.font_manager:findfont: Font family 'Malgun Gothic' not found.\n",
            "WARNING:matplotlib.font_manager:findfont: Font family 'Malgun Gothic' not found.\n",
            "WARNING:matplotlib.font_manager:findfont: Font family 'Malgun Gothic' not found.\n",
            "WARNING:matplotlib.font_manager:findfont: Font family 'Malgun Gothic' not found.\n",
            "WARNING:matplotlib.font_manager:findfont: Font family 'Malgun Gothic' not found.\n",
            "WARNING:matplotlib.font_manager:findfont: Font family 'Malgun Gothic' not found.\n"
          ]
        },
        {
          "output_type": "display_data",
          "data": {
            "text/plain": [
              "<Figure size 900x400 with 3 Axes>"
            ],
            "image/png": "[encoded data removed]"
          },
          "metadata": {}
        }
      ]
    },
    {
      "cell_type": "code",
      "source": [
        "import matplotlib.pyplot as plt\n",
        "\n",
        "plt.figure(figsize = (9, 4))\n",
        "\n",
        "plt.subplots (2, 4) #2행 4열의 서브 플롯\n",
        "plt.show()"
      ],
      "metadata": {
        "id": "kGqdU_B_viQO",
        "outputId": "2ebe7f39-bf3a-4f38-d355-92b742b1e6af",
        "colab": {
          "base_uri": "https://localhost:8080/",
          "height": 1000
        }
      },
      "execution_count": null,
      "outputs": [
        {
          "output_type": "display_data",
          "data": {
            "text/plain": [
              "<Figure size 900x400 with 0 Axes>"
            ]
          },
          "metadata": {}
        },
        {
          "output_type": "stream",
          "name": "stderr",
          "text": [
            "WARNING:matplotlib.font_manager:findfont: Font family 'Malgun Gothic' not found.\n",
            "WARNING:matplotlib.font_manager:findfont: Font family 'Malgun Gothic' not found.\n",
            "WARNING:matplotlib.font_manager:findfont: Font family 'Malgun Gothic' not found.\n",
            "WARNING:matplotlib.font_manager:findfont: Font family 'Malgun Gothic' not found.\n",
            "WARNING:matplotlib.font_manager:findfont: Font family 'Malgun Gothic' not found.\n",
            "WARNING:matplotlib.font_manager:findfont: Font family 'Malgun Gothic' not found.\n",
            "WARNING:matplotlib.font_manager:findfont: Font family 'Malgun Gothic' not found.\n",
            "WARNING:matplotlib.font_manager:findfont: Font family 'Malgun Gothic' not found.\n",
            "WARNING:matplotlib.font_manager:findfont: Font family 'Malgun Gothic' not found.\n",
            "WARNING:matplotlib.font_manager:findfont: Font family 'Malgun Gothic' not found.\n",
            "WARNING:matplotlib.font_manager:findfont: Font family 'Malgun Gothic' not found.\n",
            "WARNING:matplotlib.font_manager:findfont: Font family 'Malgun Gothic' not found.\n",
            "WARNING:matplotlib.font_manager:findfont: Font family 'Malgun Gothic' not found.\n",
            "WARNING:matplotlib.font_manager:findfont: Font family 'Malgun Gothic' not found.\n",
            "WARNING:matplotlib.font_manager:findfont: Font family 'Malgun Gothic' not found.\n",
            "WARNING:matplotlib.font_manager:findfont: Font family 'Malgun Gothic' not found.\n",
            "WARNING:matplotlib.font_manager:findfont: Font family 'Malgun Gothic' not found.\n",
            "WARNING:matplotlib.font_manager:findfont: Font family 'Malgun Gothic' not found.\n",
            "WARNING:matplotlib.font_manager:findfont: Font family 'Malgun Gothic' not found.\n",
            "WARNING:matplotlib.font_manager:findfont: Font family 'Malgun Gothic' not found.\n",
            "WARNING:matplotlib.font_manager:findfont: Font family 'Malgun Gothic' not found.\n",
            "WARNING:matplotlib.font_manager:findfont: Font family 'Malgun Gothic' not found.\n",
            "WARNING:matplotlib.font_manager:findfont: Font family 'Malgun Gothic' not found.\n",
            "WARNING:matplotlib.font_manager:findfont: Font family 'Malgun Gothic' not found.\n",
            "WARNING:matplotlib.font_manager:findfont: Font family 'Malgun Gothic' not found.\n",
            "WARNING:matplotlib.font_manager:findfont: Font family 'Malgun Gothic' not found.\n",
            "WARNING:matplotlib.font_manager:findfont: Font family 'Malgun Gothic' not found.\n",
            "WARNING:matplotlib.font_manager:findfont: Font family 'Malgun Gothic' not found.\n",
            "WARNING:matplotlib.font_manager:findfont: Font family 'Malgun Gothic' not found.\n",
            "WARNING:matplotlib.font_manager:findfont: Font family 'Malgun Gothic' not found.\n",
            "WARNING:matplotlib.font_manager:findfont: Font family 'Malgun Gothic' not found.\n",
            "WARNING:matplotlib.font_manager:findfont: Font family 'Malgun Gothic' not found.\n",
            "WARNING:matplotlib.font_manager:findfont: Font family 'Malgun Gothic' not found.\n",
            "WARNING:matplotlib.font_manager:findfont: Font family 'Malgun Gothic' not found.\n",
            "WARNING:matplotlib.font_manager:findfont: Font family 'Malgun Gothic' not found.\n",
            "WARNING:matplotlib.font_manager:findfont: Font family 'Malgun Gothic' not found.\n",
            "WARNING:matplotlib.font_manager:findfont: Font family 'Malgun Gothic' not found.\n",
            "WARNING:matplotlib.font_manager:findfont: Font family 'Malgun Gothic' not found.\n",
            "WARNING:matplotlib.font_manager:findfont: Font family 'Malgun Gothic' not found.\n",
            "WARNING:matplotlib.font_manager:findfont: Font family 'Malgun Gothic' not found.\n",
            "WARNING:matplotlib.font_manager:findfont: Font family 'Malgun Gothic' not found.\n",
            "WARNING:matplotlib.font_manager:findfont: Font family 'Malgun Gothic' not found.\n",
            "WARNING:matplotlib.font_manager:findfont: Font family 'Malgun Gothic' not found.\n",
            "WARNING:matplotlib.font_manager:findfont: Font family 'Malgun Gothic' not found.\n",
            "WARNING:matplotlib.font_manager:findfont: Font family 'Malgun Gothic' not found.\n",
            "WARNING:matplotlib.font_manager:findfont: Font family 'Malgun Gothic' not found.\n",
            "WARNING:matplotlib.font_manager:findfont: Font family 'Malgun Gothic' not found.\n",
            "WARNING:matplotlib.font_manager:findfont: Font family 'Malgun Gothic' not found.\n",
            "WARNING:matplotlib.font_manager:findfont: Font family 'Malgun Gothic' not found.\n",
            "WARNING:matplotlib.font_manager:findfont: Font family 'Malgun Gothic' not found.\n",
            "WARNING:matplotlib.font_manager:findfont: Font family 'Malgun Gothic' not found.\n",
            "WARNING:matplotlib.font_manager:findfont: Font family 'Malgun Gothic' not found.\n",
            "WARNING:matplotlib.font_manager:findfont: Font family 'Malgun Gothic' not found.\n",
            "WARNING:matplotlib.font_manager:findfont: Font family 'Malgun Gothic' not found.\n",
            "WARNING:matplotlib.font_manager:findfont: Font family 'Malgun Gothic' not found.\n",
            "WARNING:matplotlib.font_manager:findfont: Font family 'Malgun Gothic' not found.\n",
            "WARNING:matplotlib.font_manager:findfont: Font family 'Malgun Gothic' not found.\n",
            "WARNING:matplotlib.font_manager:findfont: Font family 'Malgun Gothic' not found.\n",
            "WARNING:matplotlib.font_manager:findfont: Font family 'Malgun Gothic' not found.\n",
            "WARNING:matplotlib.font_manager:findfont: Font family 'Malgun Gothic' not found.\n",
            "WARNING:matplotlib.font_manager:findfont: Font family 'Malgun Gothic' not found.\n",
            "WARNING:matplotlib.font_manager:findfont: Font family 'Malgun Gothic' not found.\n",
            "WARNING:matplotlib.font_manager:findfont: Font family 'Malgun Gothic' not found.\n",
            "WARNING:matplotlib.font_manager:findfont: Font family 'Malgun Gothic' not found.\n",
            "WARNING:matplotlib.font_manager:findfont: Font family 'Malgun Gothic' not found.\n",
            "WARNING:matplotlib.font_manager:findfont: Font family 'Malgun Gothic' not found.\n",
            "WARNING:matplotlib.font_manager:findfont: Font family 'Malgun Gothic' not found.\n",
            "WARNING:matplotlib.font_manager:findfont: Font family 'Malgun Gothic' not found.\n",
            "WARNING:matplotlib.font_manager:findfont: Font family 'Malgun Gothic' not found.\n",
            "WARNING:matplotlib.font_manager:findfont: Font family 'Malgun Gothic' not found.\n",
            "WARNING:matplotlib.font_manager:findfont: Font family 'Malgun Gothic' not found.\n",
            "WARNING:matplotlib.font_manager:findfont: Font family 'Malgun Gothic' not found.\n",
            "WARNING:matplotlib.font_manager:findfont: Font family 'Malgun Gothic' not found.\n",
            "WARNING:matplotlib.font_manager:findfont: Font family 'Malgun Gothic' not found.\n",
            "WARNING:matplotlib.font_manager:findfont: Font family 'Malgun Gothic' not found.\n",
            "WARNING:matplotlib.font_manager:findfont: Font family 'Malgun Gothic' not found.\n",
            "WARNING:matplotlib.font_manager:findfont: Font family 'Malgun Gothic' not found.\n",
            "WARNING:matplotlib.font_manager:findfont: Font family 'Malgun Gothic' not found.\n",
            "WARNING:matplotlib.font_manager:findfont: Font family 'Malgun Gothic' not found.\n",
            "WARNING:matplotlib.font_manager:findfont: Font family 'Malgun Gothic' not found.\n",
            "WARNING:matplotlib.font_manager:findfont: Font family 'Malgun Gothic' not found.\n",
            "WARNING:matplotlib.font_manager:findfont: Font family 'Malgun Gothic' not found.\n",
            "WARNING:matplotlib.font_manager:findfont: Font family 'Malgun Gothic' not found.\n",
            "WARNING:matplotlib.font_manager:findfont: Font family 'Malgun Gothic' not found.\n",
            "WARNING:matplotlib.font_manager:findfont: Font family 'Malgun Gothic' not found.\n",
            "WARNING:matplotlib.font_manager:findfont: Font family 'Malgun Gothic' not found.\n",
            "WARNING:matplotlib.font_manager:findfont: Font family 'Malgun Gothic' not found.\n",
            "WARNING:matplotlib.font_manager:findfont: Font family 'Malgun Gothic' not found.\n"
          ]
        },
        {
          "output_type": "display_data",
          "data": {
            "text/plain": [
              "<Figure size 640x480 with 8 Axes>"
            ],
            "image/png": "[encoded data removed]"
          },
          "metadata": {}
        }
      ]
    },
    {
      "cell_type": "code",
      "source": [
        "import matplotlib.pyplot as plt\n",
        "\n",
        "#define figure\n",
        "fig = plt.figure ()\n",
        "\n",
        "#add subplots\n",
        "\n",
        "fig.add_subplot(321).set_title('321')\n",
        "fig.add_subplot(322).set_title('322')\n",
        "fig.add_subplot(323).set_title('323')\n",
        "fig.add_subplot(324).set_title('324')\n",
        "fig.add_subplot(325).set_title('325')\n",
        "fig.add_subplot(326).set_title('326')\n",
        "\n",
        "#adjust spaces\n",
        "fig.subplots_adjust (wspace =.2, hspase =.7)\n",
        "plt.show()"
      ],
      "metadata": {
        "id": "5JEqdUMVvuIR",
        "outputId": "0e8a5207-f9b7-4343-8a11-09c377595d00",
        "colab": {
          "base_uri": "https://localhost:8080/",
          "height": 1000
        }
      },
      "execution_count": null,
      "outputs": [
        {
          "output_type": "error",
          "ename": "TypeError",
          "evalue": "FigureBase.subplots_adjust() got an unexpected keyword argument 'hspase'",
          "traceback": [
            "\u001b[0;31m---------------------------------------------------------------------------\u001b[0m",
            "\u001b[0;31mTypeError\u001b[0m                                 Traceback (most recent call last)",
            "\u001b[0;32m<ipython-input-65-8b513a25cbee>\u001b[0m in \u001b[0;36m<cell line: 16>\u001b[0;34m()\u001b[0m\n\u001b[1;32m     14\u001b[0m \u001b[0;34m\u001b[0m\u001b[0m\n\u001b[1;32m     15\u001b[0m \u001b[0;31m#adjust spaces\u001b[0m\u001b[0;34m\u001b[0m\u001b[0;34m\u001b[0m\u001b[0m\n\u001b[0;32m---> 16\u001b[0;31m \u001b[0mfig\u001b[0m\u001b[0;34m.\u001b[0m\u001b[0msubplots_adjust\u001b[0m \u001b[0;34m(\u001b[0m\u001b[0mwspace\u001b[0m \u001b[0;34m=\u001b[0m\u001b[0;36m.2\u001b[0m\u001b[0;34m,\u001b[0m \u001b[0mhspase\u001b[0m \u001b[0;34m=\u001b[0m\u001b[0;36m.7\u001b[0m\u001b[0;34m)\u001b[0m\u001b[0;34m\u001b[0m\u001b[0;34m\u001b[0m\u001b[0m\n\u001b[0m\u001b[1;32m     17\u001b[0m \u001b[0mplt\u001b[0m\u001b[0;34m.\u001b[0m\u001b[0mshow\u001b[0m\u001b[0;34m(\u001b[0m\u001b[0;34m)\u001b[0m\u001b[0;34m\u001b[0m\u001b[0;34m\u001b[0m\u001b[0m\n",
            "\u001b[0;31mTypeError\u001b[0m: FigureBase.subplots_adjust() got an unexpected keyword argument 'hspase'"
          ]
        },
        {
          "output_type": "stream",
          "name": "stderr",
          "text": [
            "WARNING:matplotlib.font_manager:findfont: Font family 'Malgun Gothic' not found.\n",
            "WARNING:matplotlib.font_manager:findfont: Font family 'Malgun Gothic' not found.\n",
            "WARNING:matplotlib.font_manager:findfont: Font family 'Malgun Gothic' not found.\n",
            "WARNING:matplotlib.font_manager:findfont: Font family 'Malgun Gothic' not found.\n",
            "WARNING:matplotlib.font_manager:findfont: Font family 'Malgun Gothic' not found.\n",
            "WARNING:matplotlib.font_manager:findfont: Font family 'Malgun Gothic' not found.\n",
            "WARNING:matplotlib.font_manager:findfont: Font family 'Malgun Gothic' not found.\n",
            "WARNING:matplotlib.font_manager:findfont: Font family 'Malgun Gothic' not found.\n",
            "WARNING:matplotlib.font_manager:findfont: Font family 'Malgun Gothic' not found.\n",
            "WARNING:matplotlib.font_manager:findfont: Font family 'Malgun Gothic' not found.\n",
            "WARNING:matplotlib.font_manager:findfont: Font family 'Malgun Gothic' not found.\n",
            "WARNING:matplotlib.font_manager:findfont: Font family 'Malgun Gothic' not found.\n",
            "WARNING:matplotlib.font_manager:findfont: Font family 'Malgun Gothic' not found.\n",
            "WARNING:matplotlib.font_manager:findfont: Font family 'Malgun Gothic' not found.\n",
            "WARNING:matplotlib.font_manager:findfont: Font family 'Malgun Gothic' not found.\n",
            "WARNING:matplotlib.font_manager:findfont: Font family 'Malgun Gothic' not found.\n",
            "WARNING:matplotlib.font_manager:findfont: Font family 'Malgun Gothic' not found.\n",
            "WARNING:matplotlib.font_manager:findfont: Font family 'Malgun Gothic' not found.\n",
            "WARNING:matplotlib.font_manager:findfont: Font family 'Malgun Gothic' not found.\n",
            "WARNING:matplotlib.font_manager:findfont: Font family 'Malgun Gothic' not found.\n",
            "WARNING:matplotlib.font_manager:findfont: Font family 'Malgun Gothic' not found.\n",
            "WARNING:matplotlib.font_manager:findfont: Font family 'Malgun Gothic' not found.\n",
            "WARNING:matplotlib.font_manager:findfont: Font family 'Malgun Gothic' not found.\n",
            "WARNING:matplotlib.font_manager:findfont: Font family 'Malgun Gothic' not found.\n",
            "WARNING:matplotlib.font_manager:findfont: Font family 'Malgun Gothic' not found.\n",
            "WARNING:matplotlib.font_manager:findfont: Font family 'Malgun Gothic' not found.\n",
            "WARNING:matplotlib.font_manager:findfont: Font family 'Malgun Gothic' not found.\n",
            "WARNING:matplotlib.font_manager:findfont: Font family 'Malgun Gothic' not found.\n",
            "WARNING:matplotlib.font_manager:findfont: Font family 'Malgun Gothic' not found.\n",
            "WARNING:matplotlib.font_manager:findfont: Font family 'Malgun Gothic' not found.\n",
            "WARNING:matplotlib.font_manager:findfont: Font family 'Malgun Gothic' not found.\n",
            "WARNING:matplotlib.font_manager:findfont: Font family 'Malgun Gothic' not found.\n",
            "WARNING:matplotlib.font_manager:findfont: Font family 'Malgun Gothic' not found.\n",
            "WARNING:matplotlib.font_manager:findfont: Font family 'Malgun Gothic' not found.\n",
            "WARNING:matplotlib.font_manager:findfont: Font family 'Malgun Gothic' not found.\n",
            "WARNING:matplotlib.font_manager:findfont: Font family 'Malgun Gothic' not found.\n",
            "WARNING:matplotlib.font_manager:findfont: Font family 'Malgun Gothic' not found.\n",
            "WARNING:matplotlib.font_manager:findfont: Font family 'Malgun Gothic' not found.\n",
            "WARNING:matplotlib.font_manager:findfont: Font family 'Malgun Gothic' not found.\n",
            "WARNING:matplotlib.font_manager:findfont: Font family 'Malgun Gothic' not found.\n",
            "WARNING:matplotlib.font_manager:findfont: Font family 'Malgun Gothic' not found.\n",
            "WARNING:matplotlib.font_manager:findfont: Font family 'Malgun Gothic' not found.\n",
            "WARNING:matplotlib.font_manager:findfont: Font family 'Malgun Gothic' not found.\n",
            "WARNING:matplotlib.font_manager:findfont: Font family 'Malgun Gothic' not found.\n",
            "WARNING:matplotlib.font_manager:findfont: Font family 'Malgun Gothic' not found.\n",
            "WARNING:matplotlib.font_manager:findfont: Font family 'Malgun Gothic' not found.\n",
            "WARNING:matplotlib.font_manager:findfont: Font family 'Malgun Gothic' not found.\n",
            "WARNING:matplotlib.font_manager:findfont: Font family 'Malgun Gothic' not found.\n",
            "WARNING:matplotlib.font_manager:findfont: Font family 'Malgun Gothic' not found.\n",
            "WARNING:matplotlib.font_manager:findfont: Font family 'Malgun Gothic' not found.\n",
            "WARNING:matplotlib.font_manager:findfont: Font family 'Malgun Gothic' not found.\n",
            "WARNING:matplotlib.font_manager:findfont: Font family 'Malgun Gothic' not found.\n",
            "WARNING:matplotlib.font_manager:findfont: Font family 'Malgun Gothic' not found.\n",
            "WARNING:matplotlib.font_manager:findfont: Font family 'Malgun Gothic' not found.\n",
            "WARNING:matplotlib.font_manager:findfont: Font family 'Malgun Gothic' not found.\n",
            "WARNING:matplotlib.font_manager:findfont: Font family 'Malgun Gothic' not found.\n",
            "WARNING:matplotlib.font_manager:findfont: Font family 'Malgun Gothic' not found.\n",
            "WARNING:matplotlib.font_manager:findfont: Font family 'Malgun Gothic' not found.\n",
            "WARNING:matplotlib.font_manager:findfont: Font family 'Malgun Gothic' not found.\n",
            "WARNING:matplotlib.font_manager:findfont: Font family 'Malgun Gothic' not found.\n",
            "WARNING:matplotlib.font_manager:findfont: Font family 'Malgun Gothic' not found.\n",
            "WARNING:matplotlib.font_manager:findfont: Font family 'Malgun Gothic' not found.\n",
            "WARNING:matplotlib.font_manager:findfont: Font family 'Malgun Gothic' not found.\n",
            "WARNING:matplotlib.font_manager:findfont: Font family 'Malgun Gothic' not found.\n",
            "WARNING:matplotlib.font_manager:findfont: Font family 'Malgun Gothic' not found.\n",
            "WARNING:matplotlib.font_manager:findfont: Font family 'Malgun Gothic' not found.\n",
            "WARNING:matplotlib.font_manager:findfont: Font family 'Malgun Gothic' not found.\n",
            "WARNING:matplotlib.font_manager:findfont: Font family 'Malgun Gothic' not found.\n",
            "WARNING:matplotlib.font_manager:findfont: Font family 'Malgun Gothic' not found.\n",
            "WARNING:matplotlib.font_manager:findfont: Font family 'Malgun Gothic' not found.\n",
            "WARNING:matplotlib.font_manager:findfont: Font family 'Malgun Gothic' not found.\n",
            "WARNING:matplotlib.font_manager:findfont: Font family 'Malgun Gothic' not found.\n",
            "WARNING:matplotlib.font_manager:findfont: Font family 'Malgun Gothic' not found.\n",
            "WARNING:matplotlib.font_manager:findfont: Font family 'Malgun Gothic' not found.\n",
            "WARNING:matplotlib.font_manager:findfont: Font family 'Malgun Gothic' not found.\n",
            "WARNING:matplotlib.font_manager:findfont: Font family 'Malgun Gothic' not found.\n",
            "WARNING:matplotlib.font_manager:findfont: Font family 'Malgun Gothic' not found.\n",
            "WARNING:matplotlib.font_manager:findfont: Font family 'Malgun Gothic' not found.\n",
            "WARNING:matplotlib.font_manager:findfont: Font family 'Malgun Gothic' not found.\n",
            "WARNING:matplotlib.font_manager:findfont: Font family 'Malgun Gothic' not found.\n",
            "WARNING:matplotlib.font_manager:findfont: Font family 'Malgun Gothic' not found.\n",
            "WARNING:matplotlib.font_manager:findfont: Font family 'Malgun Gothic' not found.\n",
            "WARNING:matplotlib.font_manager:findfont: Font family 'Malgun Gothic' not found.\n",
            "WARNING:matplotlib.font_manager:findfont: Font family 'Malgun Gothic' not found.\n",
            "WARNING:matplotlib.font_manager:findfont: Font family 'Malgun Gothic' not found.\n",
            "WARNING:matplotlib.font_manager:findfont: Font family 'Malgun Gothic' not found.\n",
            "WARNING:matplotlib.font_manager:findfont: Font family 'Malgun Gothic' not found.\n",
            "WARNING:matplotlib.font_manager:findfont: Font family 'Malgun Gothic' not found.\n",
            "WARNING:matplotlib.font_manager:findfont: Font family 'Malgun Gothic' not found.\n",
            "WARNING:matplotlib.font_manager:findfont: Font family 'Malgun Gothic' not found.\n",
            "WARNING:matplotlib.font_manager:findfont: Font family 'Malgun Gothic' not found.\n",
            "WARNING:matplotlib.font_manager:findfont: Font family 'Malgun Gothic' not found.\n",
            "WARNING:matplotlib.font_manager:findfont: Font family 'Malgun Gothic' not found.\n",
            "WARNING:matplotlib.font_manager:findfont: Font family 'Malgun Gothic' not found.\n",
            "WARNING:matplotlib.font_manager:findfont: Font family 'Malgun Gothic' not found.\n",
            "WARNING:matplotlib.font_manager:findfont: Font family 'Malgun Gothic' not found.\n",
            "WARNING:matplotlib.font_manager:findfont: Font family 'Malgun Gothic' not found.\n",
            "WARNING:matplotlib.font_manager:findfont: Font family 'Malgun Gothic' not found.\n",
            "WARNING:matplotlib.font_manager:findfont: Font family 'Malgun Gothic' not found.\n",
            "WARNING:matplotlib.font_manager:findfont: Font family 'Malgun Gothic' not found.\n",
            "WARNING:matplotlib.font_manager:findfont: Font family 'Malgun Gothic' not found.\n",
            "WARNING:matplotlib.font_manager:findfont: Font family 'Malgun Gothic' not found.\n",
            "WARNING:matplotlib.font_manager:findfont: Font family 'Malgun Gothic' not found.\n",
            "WARNING:matplotlib.font_manager:findfont: Font family 'Malgun Gothic' not found.\n",
            "WARNING:matplotlib.font_manager:findfont: Font family 'Malgun Gothic' not found.\n",
            "WARNING:matplotlib.font_manager:findfont: Font family 'Malgun Gothic' not found.\n",
            "WARNING:matplotlib.font_manager:findfont: Font family 'Malgun Gothic' not found.\n",
            "WARNING:matplotlib.font_manager:findfont: Font family 'Malgun Gothic' not found.\n",
            "WARNING:matplotlib.font_manager:findfont: Font family 'Malgun Gothic' not found.\n",
            "WARNING:matplotlib.font_manager:findfont: Font family 'Malgun Gothic' not found.\n",
            "WARNING:matplotlib.font_manager:findfont: Font family 'Malgun Gothic' not found.\n",
            "WARNING:matplotlib.font_manager:findfont: Font family 'Malgun Gothic' not found.\n",
            "WARNING:matplotlib.font_manager:findfont: Font family 'Malgun Gothic' not found.\n",
            "WARNING:matplotlib.font_manager:findfont: Font family 'Malgun Gothic' not found.\n",
            "WARNING:matplotlib.font_manager:findfont: Font family 'Malgun Gothic' not found.\n",
            "WARNING:matplotlib.font_manager:findfont: Font family 'Malgun Gothic' not found.\n",
            "WARNING:matplotlib.font_manager:findfont: Font family 'Malgun Gothic' not found.\n",
            "WARNING:matplotlib.font_manager:findfont: Font family 'Malgun Gothic' not found.\n",
            "WARNING:matplotlib.font_manager:findfont: Font family 'Malgun Gothic' not found.\n",
            "WARNING:matplotlib.font_manager:findfont: Font family 'Malgun Gothic' not found.\n",
            "WARNING:matplotlib.font_manager:findfont: Font family 'Malgun Gothic' not found.\n",
            "WARNING:matplotlib.font_manager:findfont: Font family 'Malgun Gothic' not found.\n",
            "WARNING:matplotlib.font_manager:findfont: Font family 'Malgun Gothic' not found.\n",
            "WARNING:matplotlib.font_manager:findfont: Font family 'Malgun Gothic' not found.\n",
            "WARNING:matplotlib.font_manager:findfont: Font family 'Malgun Gothic' not found.\n",
            "WARNING:matplotlib.font_manager:findfont: Font family 'Malgun Gothic' not found.\n",
            "WARNING:matplotlib.font_manager:findfont: Font family 'Malgun Gothic' not found.\n",
            "WARNING:matplotlib.font_manager:findfont: Font family 'Malgun Gothic' not found.\n",
            "WARNING:matplotlib.font_manager:findfont: Font family 'Malgun Gothic' not found.\n",
            "WARNING:matplotlib.font_manager:findfont: Font family 'Malgun Gothic' not found.\n",
            "WARNING:matplotlib.font_manager:findfont: Font family 'Malgun Gothic' not found.\n",
            "WARNING:matplotlib.font_manager:findfont: Font family 'Malgun Gothic' not found.\n",
            "WARNING:matplotlib.font_manager:findfont: Font family 'Malgun Gothic' not found.\n",
            "WARNING:matplotlib.font_manager:findfont: Font family 'Malgun Gothic' not found.\n",
            "WARNING:matplotlib.font_manager:findfont: Font family 'Malgun Gothic' not found.\n",
            "WARNING:matplotlib.font_manager:findfont: Font family 'Malgun Gothic' not found.\n",
            "WARNING:matplotlib.font_manager:findfont: Font family 'Malgun Gothic' not found.\n",
            "WARNING:matplotlib.font_manager:findfont: Font family 'Malgun Gothic' not found.\n",
            "WARNING:matplotlib.font_manager:findfont: Font family 'Malgun Gothic' not found.\n",
            "WARNING:matplotlib.font_manager:findfont: Font family 'Malgun Gothic' not found.\n",
            "WARNING:matplotlib.font_manager:findfont: Font family 'Malgun Gothic' not found.\n",
            "WARNING:matplotlib.font_manager:findfont: Font family 'Malgun Gothic' not found.\n",
            "WARNING:matplotlib.font_manager:findfont: Font family 'Malgun Gothic' not found.\n",
            "WARNING:matplotlib.font_manager:findfont: Font family 'Malgun Gothic' not found.\n",
            "WARNING:matplotlib.font_manager:findfont: Font family 'Malgun Gothic' not found.\n",
            "WARNING:matplotlib.font_manager:findfont: Font family 'Malgun Gothic' not found.\n",
            "WARNING:matplotlib.font_manager:findfont: Font family 'Malgun Gothic' not found.\n",
            "WARNING:matplotlib.font_manager:findfont: Font family 'Malgun Gothic' not found.\n",
            "WARNING:matplotlib.font_manager:findfont: Font family 'Malgun Gothic' not found.\n",
            "WARNING:matplotlib.font_manager:findfont: Font family 'Malgun Gothic' not found.\n"
          ]
        },
        {
          "output_type": "display_data",
          "data": {
            "text/plain": [
              "<Figure size 640x480 with 6 Axes>"
            ],
            "image/png": "[encoded data removed]"
          },
          "metadata": {}
        }
      ]
    },
    {
      "cell_type": "code",
      "source": [
        "import matplotlib.pyplot as plt\n",
        "\n",
        "fig = plt.figure (figsize = (7, 5))\n",
        "\n",
        "ax2 = fig.add_subplot(2, 2, 2)\n",
        "ax3 = fig.add_subplot(2, 2, 3)\n",
        "ax4 = fig.add_subplot(2, 2, 4)"
      ],
      "metadata": {
        "id": "XCv-1y6twolb",
        "outputId": "7957401a-f4d9-4e5b-80a6-9f8ce9b77c30",
        "colab": {
          "base_uri": "https://localhost:8080/",
          "height": 1000
        }
      },
      "execution_count": null,
      "outputs": [
        {
          "output_type": "stream",
          "name": "stderr",
          "text": [
            "WARNING:matplotlib.font_manager:findfont: Font family 'Malgun Gothic' not found.\n",
            "WARNING:matplotlib.font_manager:findfont: Font family 'Malgun Gothic' not found.\n",
            "WARNING:matplotlib.font_manager:findfont: Font family 'Malgun Gothic' not found.\n",
            "WARNING:matplotlib.font_manager:findfont: Font family 'Malgun Gothic' not found.\n",
            "WARNING:matplotlib.font_manager:findfont: Font family 'Malgun Gothic' not found.\n",
            "WARNING:matplotlib.font_manager:findfont: Font family 'Malgun Gothic' not found.\n",
            "WARNING:matplotlib.font_manager:findfont: Font family 'Malgun Gothic' not found.\n",
            "WARNING:matplotlib.font_manager:findfont: Font family 'Malgun Gothic' not found.\n",
            "WARNING:matplotlib.font_manager:findfont: Font family 'Malgun Gothic' not found.\n",
            "WARNING:matplotlib.font_manager:findfont: Font family 'Malgun Gothic' not found.\n",
            "WARNING:matplotlib.font_manager:findfont: Font family 'Malgun Gothic' not found.\n",
            "WARNING:matplotlib.font_manager:findfont: Font family 'Malgun Gothic' not found.\n",
            "WARNING:matplotlib.font_manager:findfont: Font family 'Malgun Gothic' not found.\n",
            "WARNING:matplotlib.font_manager:findfont: Font family 'Malgun Gothic' not found.\n",
            "WARNING:matplotlib.font_manager:findfont: Font family 'Malgun Gothic' not found.\n",
            "WARNING:matplotlib.font_manager:findfont: Font family 'Malgun Gothic' not found.\n",
            "WARNING:matplotlib.font_manager:findfont: Font family 'Malgun Gothic' not found.\n",
            "WARNING:matplotlib.font_manager:findfont: Font family 'Malgun Gothic' not found.\n",
            "WARNING:matplotlib.font_manager:findfont: Font family 'Malgun Gothic' not found.\n",
            "WARNING:matplotlib.font_manager:findfont: Font family 'Malgun Gothic' not found.\n",
            "WARNING:matplotlib.font_manager:findfont: Font family 'Malgun Gothic' not found.\n",
            "WARNING:matplotlib.font_manager:findfont: Font family 'Malgun Gothic' not found.\n",
            "WARNING:matplotlib.font_manager:findfont: Font family 'Malgun Gothic' not found.\n",
            "WARNING:matplotlib.font_manager:findfont: Font family 'Malgun Gothic' not found.\n",
            "WARNING:matplotlib.font_manager:findfont: Font family 'Malgun Gothic' not found.\n",
            "WARNING:matplotlib.font_manager:findfont: Font family 'Malgun Gothic' not found.\n",
            "WARNING:matplotlib.font_manager:findfont: Font family 'Malgun Gothic' not found.\n",
            "WARNING:matplotlib.font_manager:findfont: Font family 'Malgun Gothic' not found.\n",
            "WARNING:matplotlib.font_manager:findfont: Font family 'Malgun Gothic' not found.\n",
            "WARNING:matplotlib.font_manager:findfont: Font family 'Malgun Gothic' not found.\n",
            "WARNING:matplotlib.font_manager:findfont: Font family 'Malgun Gothic' not found.\n",
            "WARNING:matplotlib.font_manager:findfont: Font family 'Malgun Gothic' not found.\n",
            "WARNING:matplotlib.font_manager:findfont: Font family 'Malgun Gothic' not found.\n",
            "WARNING:matplotlib.font_manager:findfont: Font family 'Malgun Gothic' not found.\n",
            "WARNING:matplotlib.font_manager:findfont: Font family 'Malgun Gothic' not found.\n",
            "WARNING:matplotlib.font_manager:findfont: Font family 'Malgun Gothic' not found.\n",
            "WARNING:matplotlib.font_manager:findfont: Font family 'Malgun Gothic' not found.\n",
            "WARNING:matplotlib.font_manager:findfont: Font family 'Malgun Gothic' not found.\n",
            "WARNING:matplotlib.font_manager:findfont: Font family 'Malgun Gothic' not found.\n",
            "WARNING:matplotlib.font_manager:findfont: Font family 'Malgun Gothic' not found.\n",
            "WARNING:matplotlib.font_manager:findfont: Font family 'Malgun Gothic' not found.\n",
            "WARNING:matplotlib.font_manager:findfont: Font family 'Malgun Gothic' not found.\n",
            "WARNING:matplotlib.font_manager:findfont: Font family 'Malgun Gothic' not found.\n",
            "WARNING:matplotlib.font_manager:findfont: Font family 'Malgun Gothic' not found.\n",
            "WARNING:matplotlib.font_manager:findfont: Font family 'Malgun Gothic' not found.\n",
            "WARNING:matplotlib.font_manager:findfont: Font family 'Malgun Gothic' not found.\n",
            "WARNING:matplotlib.font_manager:findfont: Font family 'Malgun Gothic' not found.\n",
            "WARNING:matplotlib.font_manager:findfont: Font family 'Malgun Gothic' not found.\n",
            "WARNING:matplotlib.font_manager:findfont: Font family 'Malgun Gothic' not found.\n",
            "WARNING:matplotlib.font_manager:findfont: Font family 'Malgun Gothic' not found.\n",
            "WARNING:matplotlib.font_manager:findfont: Font family 'Malgun Gothic' not found.\n",
            "WARNING:matplotlib.font_manager:findfont: Font family 'Malgun Gothic' not found.\n",
            "WARNING:matplotlib.font_manager:findfont: Font family 'Malgun Gothic' not found.\n",
            "WARNING:matplotlib.font_manager:findfont: Font family 'Malgun Gothic' not found.\n",
            "WARNING:matplotlib.font_manager:findfont: Font family 'Malgun Gothic' not found.\n",
            "WARNING:matplotlib.font_manager:findfont: Font family 'Malgun Gothic' not found.\n",
            "WARNING:matplotlib.font_manager:findfont: Font family 'Malgun Gothic' not found.\n",
            "WARNING:matplotlib.font_manager:findfont: Font family 'Malgun Gothic' not found.\n",
            "WARNING:matplotlib.font_manager:findfont: Font family 'Malgun Gothic' not found.\n",
            "WARNING:matplotlib.font_manager:findfont: Font family 'Malgun Gothic' not found.\n",
            "WARNING:matplotlib.font_manager:findfont: Font family 'Malgun Gothic' not found.\n",
            "WARNING:matplotlib.font_manager:findfont: Font family 'Malgun Gothic' not found.\n",
            "WARNING:matplotlib.font_manager:findfont: Font family 'Malgun Gothic' not found.\n",
            "WARNING:matplotlib.font_manager:findfont: Font family 'Malgun Gothic' not found.\n",
            "WARNING:matplotlib.font_manager:findfont: Font family 'Malgun Gothic' not found.\n",
            "WARNING:matplotlib.font_manager:findfont: Font family 'Malgun Gothic' not found.\n",
            "WARNING:matplotlib.font_manager:findfont: Font family 'Malgun Gothic' not found.\n",
            "WARNING:matplotlib.font_manager:findfont: Font family 'Malgun Gothic' not found.\n",
            "WARNING:matplotlib.font_manager:findfont: Font family 'Malgun Gothic' not found.\n",
            "WARNING:matplotlib.font_manager:findfont: Font family 'Malgun Gothic' not found.\n",
            "WARNING:matplotlib.font_manager:findfont: Font family 'Malgun Gothic' not found.\n",
            "WARNING:matplotlib.font_manager:findfont: Font family 'Malgun Gothic' not found.\n",
            "WARNING:matplotlib.font_manager:findfont: Font family 'Malgun Gothic' not found.\n",
            "WARNING:matplotlib.font_manager:findfont: Font family 'Malgun Gothic' not found.\n",
            "WARNING:matplotlib.font_manager:findfont: Font family 'Malgun Gothic' not found.\n",
            "WARNING:matplotlib.font_manager:findfont: Font family 'Malgun Gothic' not found.\n",
            "WARNING:matplotlib.font_manager:findfont: Font family 'Malgun Gothic' not found.\n",
            "WARNING:matplotlib.font_manager:findfont: Font family 'Malgun Gothic' not found.\n",
            "WARNING:matplotlib.font_manager:findfont: Font family 'Malgun Gothic' not found.\n",
            "WARNING:matplotlib.font_manager:findfont: Font family 'Malgun Gothic' not found.\n",
            "WARNING:matplotlib.font_manager:findfont: Font family 'Malgun Gothic' not found.\n",
            "WARNING:matplotlib.font_manager:findfont: Font family 'Malgun Gothic' not found.\n",
            "WARNING:matplotlib.font_manager:findfont: Font family 'Malgun Gothic' not found.\n",
            "WARNING:matplotlib.font_manager:findfont: Font family 'Malgun Gothic' not found.\n",
            "WARNING:matplotlib.font_manager:findfont: Font family 'Malgun Gothic' not found.\n",
            "WARNING:matplotlib.font_manager:findfont: Font family 'Malgun Gothic' not found.\n"
          ]
        },
        {
          "output_type": "display_data",
          "data": {
            "text/plain": [
              "<Figure size 700x500 with 3 Axes>"
            ],
            "image/png": "[encoded data removed]"
          },
          "metadata": {}
        }
      ]
    },
    {
      "cell_type": "code",
      "source": [],
      "metadata": {
        "id": "WJin7bkdw9mx"
      },
      "execution_count": null,
      "outputs": []
    }
  ]
}
