{
  "nbformat": 4,
  "nbformat_minor": 0,
  "metadata": {
    "colab": {
      "provenance": [],
      "authorship_tag": "ABX9TyMJrTC4zj7TFyXp6mQBbz3C",
      "include_colab_link": true
    },
    "kernelspec": {
      "name": "python3",
      "display_name": "Python 3"
    },
    "language_info": {
      "name": "python"
    }
  },
  "cells": [
    {
      "cell_type": "markdown",
      "metadata": {
        "id": "view-in-github",
        "colab_type": "text"
      },
      "source": [
        "<a href=\"https://colab.research.google.com/github/kikimiya0606/2024-intro-DA-code/blob/main/w03_seoul_chatgpt.ipynb\" target=\"_parent\"><img src=\"https://colab.research.google.com/assets/colab-badge.svg\" alt=\"Open In Colab\"/></a>"
      ]
    },
    {
      "cell_type": "code",
      "source": [
        "import csv\n",
        "import os\n",
        "\n",
        "# 파일을 열어 데이터를 읽어옵니다.\n",
        "data_dir = '/content'   # Google Colab의 기본 작업 디렉토리\n",
        "file_path = os.path.join(data_dir, 'temperature.csv')  # 파일 이름을 수정했습니다.\n",
        "\n",
        "with open(file_path, 'r', encoding='cp949') as f:  # 올바른 인코딩을 지정합니다.\n",
        "    reader = csv.reader(f)\n",
        "    data = list(reader)\n",
        "\n",
        "# 가장 더웠던 날짜와 온도를 찾습니다.\n",
        "max_temp = 0\n",
        "max_date = ''\n",
        "for row in data[1:]:  # 헤더 행을 건너뛰고\n",
        "    if row[2] != '' and row[2] != '최저기온(℃)':  # 빈 문자열과 '최저기온(℃)' 문자열을 무시합니다.\n",
        "        temp = float(row[2])  # 최고기온을 추출합니다.\n",
        "        if temp > max_temp:\n",
        "            max_temp = temp\n",
        "            max_date = row[0]  # 해당 날짜를 저장합니다.\n",
        "\n",
        "print(f\"서울에서 가장 더웠던 날은 {max_date}로, 온도는 {max_temp}°C였습니다.\")"
      ],
      "metadata": {
        "colab": {
          "base_uri": "https://localhost:8080/"
        },
        "id": "5UIUSqZB4IYM",
        "outputId": "14849058-72d3-4c43-ea17-ce45817a5195"
      },
      "execution_count": 3,
      "outputs": [
        {
          "output_type": "stream",
          "name": "stdout",
          "text": [
            "서울에서 가장 더웠던 날은 2024-08-17로, 온도는 27.2°C였습니다.\n"
          ]
        }
      ]
    }
  ]
}